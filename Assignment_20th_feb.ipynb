{
 "cells": [
  {
   "cell_type": "markdown",
   "id": "6c7cfed6-18fb-44e1-8020-0b3fcfcf3d43",
   "metadata": {},
   "source": [
    "### Question 1\n",
    "\n",
    "The GET method is used to request a resource from the server, such as a web page or a file, by sending a request to the server. The request is sent in the URL and can be seen in the browser's address bar. The GET method is usually used for retrieving data, and it is considered a safe and idempotent method, which means it does not modify the state of the server.\n",
    "\n",
    "The POST method, on the other hand, is used to submit data to the server, such as a form submission or a file upload. The data is sent in the request body and is not visible in the URL. The POST method is used to modify the state of the server, such as adding a new resource, updating an existing resource, or deleting a resource."
   ]
  },
  {
   "cell_type": "markdown",
   "id": "ad2f92ed-8aa3-47ca-b4b6-8dd2c9b6e364",
   "metadata": {},
   "source": [
    "### Question 2\n",
    "\n",
    "In Flask, the request object is used to access incoming data from a client's HTTP request. It contains the data that the client sends to the server as part of the HTTP request, such as form data, query parameters, and the HTTP headers. The request object is an instance of the Request class, and it allows developers to retrieve data from incoming requests in a convenient and easy way."
   ]
  },
  {
   "cell_type": "markdown",
   "id": "a5841295-2e13-49b8-9d54-0427ee369a09",
   "metadata": {},
   "source": [
    "### Question 3\n",
    "\n",
    "In Flask, redirect() is used to redirect the user to a different page or URL. This function is often used after a user submits a form or performs some other action that requires a response to be sent to the server."
   ]
  },
  {
   "cell_type": "markdown",
   "id": "7f0cab14-37f9-4ce0-a504-bb31ce8b2d6b",
   "metadata": {},
   "source": [
    "### Question 4\n",
    "\n",
    "The render_template() function in Flask is used to render the template and return the HTML content to the client's browser. The function takes the name of the template as its first argument and any number of keyword arguments, which represent the dynamic content that will be passed to the template. The template file can include placeholders for this dynamic content, which will be replaced with the actual values passed to the render_template() function."
   ]
  },
  {
   "cell_type": "markdown",
   "id": "f2c76e6d-554a-4549-a06a-9af51ef434a0",
   "metadata": {},
   "source": [
    "### Question 5\n",
    "\n",
    "from flask import Flask, jsonify\n",
    "\n",
    "app = Flask(__name__)\n",
    "\n",
    "@app.route('/api', methods=['GET'])\n",
    "def api():\n",
    "    data = {\n",
    "        'name': 'John',\n",
    "        'age': 30,\n",
    "        'location': 'New York'\n",
    "    }\n",
    "    return jsonify(data)\n",
    "\n",
    "if __name__ == '__main__':\n",
    "    app.run(debug=True)\n"
   ]
  },
  {
   "cell_type": "code",
   "execution_count": null,
   "id": "4b0c895f-2cb1-4089-9008-a0381411c9b4",
   "metadata": {},
   "outputs": [],
   "source": []
  }
 ],
 "metadata": {
  "kernelspec": {
   "display_name": "Python 3 (ipykernel)",
   "language": "python",
   "name": "python3"
  },
  "language_info": {
   "codemirror_mode": {
    "name": "ipython",
    "version": 3
   },
   "file_extension": ".py",
   "mimetype": "text/x-python",
   "name": "python",
   "nbconvert_exporter": "python",
   "pygments_lexer": "ipython3",
   "version": "3.10.8"
  }
 },
 "nbformat": 4,
 "nbformat_minor": 5
}
