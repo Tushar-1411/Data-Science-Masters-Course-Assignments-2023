{
 "cells": [
  {
   "cell_type": "code",
   "execution_count": 1,
   "id": "6c3c4cec-794e-41d1-a775-23d0f92f5ead",
   "metadata": {},
   "outputs": [
    {
     "name": "stdout",
     "output_type": "stream",
     "text": [
      "[1, 3, 5, 7, 9, 11, 13, 15, 17, 19, 21, 23]\n"
     ]
    }
   ],
   "source": [
    "# Question 1\n",
    "\n",
    "\"\"\" 'def' keyword is used to define a function in python. Syntax is as follows: def func_name(): \"\"\"\n",
    "\n",
    "def odd_num():\n",
    "    lst = [x for x in range(1,25) if x%2 != 0]\n",
    "    return lst\n",
    "print(odd_num())"
   ]
  },
  {
   "cell_type": "code",
   "execution_count": 5,
   "id": "367af3f0-a92a-4938-ac5e-e4f8bcb6d8f5",
   "metadata": {},
   "outputs": [
    {
     "name": "stdout",
     "output_type": "stream",
     "text": [
      "*args: 37\n",
      "168\n",
      "\n",
      "**kwargs: a: 1\n",
      "b: 2\n",
      "c: 3\n",
      "d: 4\n",
      "e: 5\n",
      "f: 10\n"
     ]
    }
   ],
   "source": [
    "# Question 2\n",
    "\n",
    "\"\"\" *args and **kwargs are used in functions to allow the function to accept a variable number of arguments.\n",
    "    *args allows the function to accept a variable number of positional arguments. These arguments are passed to the function as a tuple.\n",
    "    **kwargs allows the function to accept a variable number of keyword arguments. These arguments are passed to the function as a dictionary.\"\"\"\n",
    "print(\"*args: \",end=\"\")\n",
    "def sum_num(*args):\n",
    "    result = 0\n",
    "    for i in args:\n",
    "        result += i\n",
    "    return result\n",
    "print(sum_num(1,2,3,4,5,6,7,9))\n",
    "print(sum_num(2,67,99))\n",
    "print()\n",
    "print(\"**kwargs: \",end=\"\")\n",
    "def print_kwargs(**kwargs):\n",
    "    for key, value in kwargs.items():\n",
    "        print(f'{key}: {value}')\n",
    "\n",
    "print_kwargs(a=1, b=2, c=3, d=4, e=5, f=10)"
   ]
  },
  {
   "cell_type": "code",
   "execution_count": 10,
   "id": "fd15cf56-8a21-4568-9208-3a6d8a51d11b",
   "metadata": {},
   "outputs": [
    {
     "name": "stdout",
     "output_type": "stream",
     "text": [
      "2 4 6 8 10 "
     ]
    }
   ],
   "source": [
    "# Question 3\n",
    "\n",
    "\"\"\" In Python, an iterator is an object that implements the iterator protocol, which consists of two methods: iter() and next()\n",
    "    iter() method is used to initialize and next() is used to iterate through the iterator object.\"\"\"\n",
    "\n",
    "mylist = [2, 4, 6, 8, 10, 12, 14, 16,18, 20]\n",
    "obj = iter(mylist)\n",
    "for i in range(5):\n",
    "    print(next(obj),end = \" \")"
   ]
  },
  {
   "cell_type": "code",
   "execution_count": 12,
   "id": "ce8644de-0f8f-487e-a8ee-562d8fcc80e1",
   "metadata": {},
   "outputs": [
    {
     "name": "stdout",
     "output_type": "stream",
     "text": [
      "0 1 1 2 3 "
     ]
    }
   ],
   "source": [
    "# Question 4\n",
    "\n",
    "\"\"\" A generator function is a special type of function in Python that returns a generator object. A generator object is an iterator that generates values on-the-fly as they are needed, instead of generating all of the values up-front and storing them in memory.\n",
    "The yield keyword is used in a generator function to produce a value\"\"\"\n",
    "\n",
    "def fibonacci(n):\n",
    "    a, b = 0, 1\n",
    "    for i in range(n):\n",
    "        yield a\n",
    "        a, b = b, a + b\n",
    "\n",
    "for i in fibonacci(5):\n",
    "    print(i, end=\" \")"
   ]
  },
  {
   "cell_type": "code",
   "execution_count": 20,
   "id": "d6aac52d-fa08-4bda-a10c-482ecef2f3b9",
   "metadata": {},
   "outputs": [
    {
     "name": "stdout",
     "output_type": "stream",
     "text": [
      "2 3 5 7 11 13 17 19 23 29 31 37 41 43 47 53 59 61 67 71 "
     ]
    }
   ],
   "source": [
    "# Question 5\n",
    "\n",
    "def primes():\n",
    "    yield 2\n",
    "    primes = [2]\n",
    "    number = 3\n",
    "    while number < 1000:\n",
    "        flag = True\n",
    "        for prime in primes:\n",
    "            if number % prime == 0:\n",
    "                flag = False\n",
    "                break\n",
    "        if flag:\n",
    "            primes.append(number)\n",
    "            yield number\n",
    "        number += 2\n",
    "        \n",
    "\n",
    "gen = primes()\n",
    "for i in range(20):\n",
    "    print(next(gen),end = \" \")"
   ]
  },
  {
   "cell_type": "code",
   "execution_count": null,
   "id": "7c02e327-f963-4a0a-9dc6-14fb7efc9313",
   "metadata": {},
   "outputs": [],
   "source": []
  }
 ],
 "metadata": {
  "kernelspec": {
   "display_name": "Python 3 (ipykernel)",
   "language": "python",
   "name": "python3"
  },
  "language_info": {
   "codemirror_mode": {
    "name": "ipython",
    "version": 3
   },
   "file_extension": ".py",
   "mimetype": "text/x-python",
   "name": "python",
   "nbconvert_exporter": "python",
   "pygments_lexer": "ipython3",
   "version": "3.10.8"
  }
 },
 "nbformat": 4,
 "nbformat_minor": 5
}
