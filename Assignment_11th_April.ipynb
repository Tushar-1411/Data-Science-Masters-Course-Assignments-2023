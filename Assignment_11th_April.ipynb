{
 "cells": [
  {
   "cell_type": "markdown",
   "id": "ce968347-ba77-40e2-8986-20c9d03167c2",
   "metadata": {},
   "source": [
    "### Question 1\n",
    "\n",
    "Ensemble Techniques in machine learning can be defined as when we try to combine different models predictions which are trained on a subset of the same data. We maximize the potential of outcome to be correct by processing the same data through multiple models."
   ]
  },
  {
   "cell_type": "markdown",
   "id": "cdd1ad51-0e10-4ed1-acd4-caf3e502a43b",
   "metadata": {},
   "source": [
    "### Question 2\n",
    "\n",
    "Since one model can be error prone to our data hence we use ensemble techniques to even out the errors with the help of different models."
   ]
  },
  {
   "cell_type": "markdown",
   "id": "7ee157eb-98f5-4bd2-9eed-240faf27e433",
   "metadata": {},
   "source": [
    "### Question 3\n",
    "\n",
    "**Bagging**\n",
    "\n",
    "- Bagging is an ensemble learning technique where the subset of data is drawn out with replacement and fed into different models and the output of all the models are combined."
   ]
  },
  {
   "cell_type": "markdown",
   "id": "d3c93a79-a03b-4508-b669-a87a9e807f42",
   "metadata": {},
   "source": [
    "### Question 4\n",
    "\n",
    "**Boosting**:\n",
    "\n",
    "- Boosting is another type of ensemble learning technique where we start from a base learner and next model tries to reduces the error of the previous model and work our way to strong model."
   ]
  },
  {
   "cell_type": "markdown",
   "id": "8a5bc1cb-ee95-429b-b0d0-295ee2e401d6",
   "metadata": {},
   "source": [
    "### Question 5\n",
    "\n",
    "Advantages/Benefits of ensemble methods:\n",
    "\n",
    "1. Ensemble methods have higher predictive accuracy, compared to the individual models. \n",
    "2. Ensemble methods are very useful when there is both linear and non-linear type of data in the dataset; different models can be combined to handle this type of data."
   ]
  },
  {
   "cell_type": "markdown",
   "id": "ab1600b5-2a90-48a4-a7d0-09df7a6daadd",
   "metadata": {},
   "source": [
    "### Question 6\n",
    "\n",
    "There is no absolute guarantee a ensemble model performs better than an individual model, but if you build many of those, and your individual classifier is weak. Your overall performance should be better than an individual model."
   ]
  },
  {
   "cell_type": "markdown",
   "id": "78819f59-6db0-4177-98e4-faa453d2b67c",
   "metadata": {},
   "source": [
    "### Question 7\n",
    "\n",
    "\n",
    "A confidence interval, in the context of the bootstrap method, is calculated by resampling your dataset many times to estimate the sampling distribution of a statistic (e.g., the mean, median, variance) and then determining the range of values that contains the central portion of that distribution. The standard method for calculating a confidence interval using bootstrap is as follows:\n",
    "\n",
    "\n",
    "1. Randomly draw a large number (B) of resamples from your original dataset. Each resample is the same size as your original dataset, and sampling is done with replacement. This generates B resampled datasets.\n",
    "\n",
    "2. Calculate the statistic of interest (e.g., mean, median, variance, etc.) for each of the B resampled datasets. This means you will have B values for your statistic.\n",
    "\n",
    "3. To create a confidence interval, use the percentile method. Sort the B statistic values from step 2 in ascending order. Then, the lower bound of your confidence interval is the (100α/2)th percentile, and the upper bound is the (100(1 - α/2))th percentile, where α represents the significance level (e.g., 0.05 for a 95% confidence interval)."
   ]
  },
  {
   "cell_type": "markdown",
   "id": "0a39c519-219b-4538-829f-9cef1bf4fabd",
   "metadata": {},
   "source": [
    "### Question 8\n",
    "\n",
    "Steps involved in Bootstrap : \n",
    "\n",
    "1. Data Collection\n",
    "2. Resampling\n",
    "3. Statistic Calculation\n",
    "4. Confidence Interval Calculation (Optional)\n",
    "5. Analysis"
   ]
  },
  {
   "cell_type": "markdown",
   "id": "386a6be6-78d8-4e41-bcb6-1b08509818a9",
   "metadata": {},
   "source": [
    "### Question 9"
   ]
  },
  {
   "cell_type": "code",
   "execution_count": 2,
   "id": "6d181549-b057-4d5f-97d4-9f9fa50ba536",
   "metadata": {},
   "outputs": [],
   "source": [
    "N = 1000       # Population size \n",
    "n = 50         # sample size\n",
    "sample_mean = 15\n",
    "std_dev = 2    # Sample standard devaiation"
   ]
  },
  {
   "cell_type": "code",
   "execution_count": 3,
   "id": "633f0cf2-e08b-43e2-9f50-3e7af86ba6fa",
   "metadata": {},
   "outputs": [],
   "source": [
    "import numpy as np\n",
    "\n",
    "sample_arr = np.random.normal(loc=15, scale=2, size=n)"
   ]
  },
  {
   "cell_type": "code",
   "execution_count": 6,
   "id": "5b42d7f9-85b6-4f10-80d1-d9929358f80d",
   "metadata": {},
   "outputs": [],
   "source": [
    "resampled_means = []\n",
    "for _ in range(N):\n",
    "    resampled_arr = np.random.choice(sample_arr, size=n, replace=True)\n",
    "    mean = np.mean(resampled_arr)\n",
    "    resampled_means.append(mean)\n",
    "    \n",
    "resampled_means = sorted(resampled_means)"
   ]
  },
  {
   "cell_type": "code",
   "execution_count": 13,
   "id": "566ae1cd-a289-443b-87e3-976f2b0d5196",
   "metadata": {},
   "outputs": [
    {
     "data": {
      "text/plain": [
       "array([15.21652222, 16.29363312])"
      ]
     },
     "execution_count": 13,
     "metadata": {},
     "output_type": "execute_result"
    }
   ],
   "source": [
    "percentile = np.percentile(resampled_means,[2.5,97.5])\n",
    "percentile"
   ]
  },
  {
   "cell_type": "code",
   "execution_count": 12,
   "id": "af994340-6140-4480-b7d8-e28a46576ce0",
   "metadata": {},
   "outputs": [
    {
     "name": "stdout",
     "output_type": "stream",
     "text": [
      "Hence the 95% confidence interval of resampled means of population height lies between 15.21652222075226 and 16.29363312411585\n"
     ]
    }
   ],
   "source": [
    "print(f\"Hence the 95% confidence interval of resampled means of population height lies between {percentile[0]} and {percentile[1]}\")"
   ]
  }
 ],
 "metadata": {
  "kernelspec": {
   "display_name": "Python 3 (ipykernel)",
   "language": "python",
   "name": "python3"
  },
  "language_info": {
   "codemirror_mode": {
    "name": "ipython",
    "version": 3
   },
   "file_extension": ".py",
   "mimetype": "text/x-python",
   "name": "python",
   "nbconvert_exporter": "python",
   "pygments_lexer": "ipython3",
   "version": "3.10.8"
  }
 },
 "nbformat": 4,
 "nbformat_minor": 5
}
