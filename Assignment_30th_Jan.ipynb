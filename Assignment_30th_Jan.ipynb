{
 "cells": [
  {
   "cell_type": "code",
   "execution_count": 1,
   "id": "7e202f7b-0de6-40e8-8af8-0a27a8fd5d96",
   "metadata": {},
   "outputs": [
    {
     "name": "stdin",
     "output_type": "stream",
     "text": [
      "Enter the marks:  10\n"
     ]
    },
    {
     "name": "stdout",
     "output_type": "stream",
     "text": [
      "D\n"
     ]
    }
   ],
   "source": [
    "# Question 1\n",
    "\n",
    "marks = int(input(\"Enter the marks: \"))\n",
    "\n",
    "if (marks > 90): \n",
    "    print(\"A\")\n",
    "elif (marks > 80 and marks <= 90):\n",
    "    print(\"B\")\n",
    "elif (marks >= 60 and marks <= 80):\n",
    "    print(\"C\")\n",
    "else:\n",
    "    print(\"D\")"
   ]
  },
  {
   "cell_type": "code",
   "execution_count": 3,
   "id": "fdb3171e-4965-4351-9d37-864cbba63527",
   "metadata": {},
   "outputs": [
    {
     "name": "stdin",
     "output_type": "stream",
     "text": [
      "Enter the cost of bike:  50000\n"
     ]
    },
    {
     "name": "stdout",
     "output_type": "stream",
     "text": [
      "Tax on the bike: 5%\n"
     ]
    }
   ],
   "source": [
    "# Question 2\n",
    "\n",
    "cost = int(input(\"Enter the cost of bike: \"))\n",
    "print(\"Tax on the bike: \",end=\"\")\n",
    "if (cost > 1_00_000):\n",
    "    print(\"15%\")\n",
    "elif (cost > 50_000 and cost <= 1_00_000):\n",
    "    print(\"10%\")\n",
    "else:\n",
    "    print(\"5%\")"
   ]
  },
  {
   "cell_type": "code",
   "execution_count": 6,
   "id": "3d49b3e9-55aa-4847-a06d-6e458484fad7",
   "metadata": {},
   "outputs": [
    {
     "name": "stdin",
     "output_type": "stream",
     "text": [
      "Enter the city:  Delhi\n"
     ]
    },
    {
     "name": "stdout",
     "output_type": "stream",
     "text": [
      "Monument: Red Fort\n"
     ]
    }
   ],
   "source": [
    "# Question 3\n",
    "\n",
    "city = input(\"Enter the city: \")\n",
    "print(\"Monument: \",end=\"\")\n",
    "\n",
    "if(city.lower() == \"delhi\"):\n",
    "    print(\"Red Fort\")\n",
    "elif(city.lower() == \"agra\"):\n",
    "    print(\"Taj Mahal\")\n",
    "elif(city.lower() == \"jaipur\"):\n",
    "    print(\"Jal Mahal\")"
   ]
  },
  {
   "cell_type": "code",
   "execution_count": 9,
   "id": "b0d3b9d6-2239-4bc2-aac5-8405b3e9af9c",
   "metadata": {},
   "outputs": [
    {
     "name": "stdin",
     "output_type": "stream",
     "text": [
      "Enter the number:  100\n"
     ]
    },
    {
     "name": "stdout",
     "output_type": "stream",
     "text": [
      "3\n"
     ]
    }
   ],
   "source": [
    "# Question 4\n",
    "\n",
    "num = int(input(\"Enter the number: \"))\n",
    "count = 0\n",
    "\n",
    "while (num > 10):\n",
    "    num = num/3\n",
    "    count = count + 1\n",
    "print(count)"
   ]
  },
  {
   "cell_type": "code",
   "execution_count": 5,
   "id": "94d09788-7055-4cd8-a820-f362428a1e08",
   "metadata": {},
   "outputs": [
    {
     "name": "stdin",
     "output_type": "stream",
     "text": [
      "Enter the number:  543\n"
     ]
    },
    {
     "name": "stdout",
     "output_type": "stream",
     "text": [
      "3\n"
     ]
    }
   ],
   "source": [
    "# Question 5\n",
    "\n",
    "\"\"\" While loop is used when you are unsure about the times of loops you want the program to execute based on a specific condition \"\"\" \n",
    "\n",
    "# Example : Add individual digits of a number. In this problem we are not sure how many dgigts a number would have entered by user\n",
    "\n",
    "num = int(input(\"Enter the number: \"))\n",
    "count = 0\n",
    "while(num >= 1):\n",
    "    num = num/10\n",
    "    count = count + 1\n",
    "print(count)"
   ]
  },
  {
   "cell_type": "code",
   "execution_count": 7,
   "id": "ffec320f-3798-4cce-ac5a-383c4bfaee76",
   "metadata": {},
   "outputs": [
    {
     "name": "stdout",
     "output_type": "stream",
     "text": [
      "***\n",
      "***\n",
      "***\n",
      "\n",
      "*\n",
      "**\n",
      "***\n",
      "\n",
      "***\n",
      "**\n",
      "*\n"
     ]
    }
   ],
   "source": [
    "# Question 6\n",
    "i = 3\n",
    "while(i > 0):\n",
    "    j = 3\n",
    "    while(j > 0):\n",
    "        print(\"*\",end=\"\")\n",
    "        j = j - 1\n",
    "    print()\n",
    "    i = i - 1 \n",
    "print()\n",
    "x = 0\n",
    "while(x < 3):\n",
    "    j = 0\n",
    "    while(j <= x):\n",
    "        print(\"*\",end=\"\")\n",
    "        j = j + 1\n",
    "    print()\n",
    "    x = x + 1\n",
    "print()    \n",
    "y = 0\n",
    "while(y < 3):\n",
    "    j = 3\n",
    "    while(j > y):\n",
    "        print(\"*\",end=\"\")\n",
    "        j = j - 1\n",
    "    print()\n",
    "    y += 1"
   ]
  },
  {
   "cell_type": "code",
   "execution_count": 8,
   "id": "93d8ecc9-93bf-42a2-a2f2-c081cd888d98",
   "metadata": {},
   "outputs": [
    {
     "name": "stdout",
     "output_type": "stream",
     "text": [
      "10 9 8 7 6 5 4 3 2 1 "
     ]
    }
   ],
   "source": [
    "# Question 7\n",
    "\n",
    "i = 10\n",
    "\n",
    "while(i > 0):\n",
    "    print(i, end= \" \")\n",
    "    i -= 1"
   ]
  },
  {
   "cell_type": "code",
   "execution_count": 9,
   "id": "1dc3bab7-4391-44e9-9b31-af8b17c581a8",
   "metadata": {},
   "outputs": [
    {
     "name": "stdout",
     "output_type": "stream",
     "text": [
      "10 9 8 7 6 5 4 3 2 1 "
     ]
    }
   ],
   "source": [
    "# Question 8\n",
    "\n",
    "i = 10\n",
    "\n",
    "while(i > 0):\n",
    "    print(i, end= \" \")\n",
    "    i -= 1"
   ]
  },
  {
   "cell_type": "code",
   "execution_count": null,
   "id": "bb8eea76-e97c-4319-abe3-aa8df3e7370e",
   "metadata": {},
   "outputs": [],
   "source": []
  }
 ],
 "metadata": {
  "kernelspec": {
   "display_name": "Python 3 (ipykernel)",
   "language": "python",
   "name": "python3"
  },
  "language_info": {
   "codemirror_mode": {
    "name": "ipython",
    "version": 3
   },
   "file_extension": ".py",
   "mimetype": "text/x-python",
   "name": "python",
   "nbconvert_exporter": "python",
   "pygments_lexer": "ipython3",
   "version": "3.10.8"
  }
 },
 "nbformat": 4,
 "nbformat_minor": 5
}
