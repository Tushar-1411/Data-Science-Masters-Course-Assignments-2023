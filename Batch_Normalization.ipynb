{
 "cells": [
  {
   "cell_type": "code",
   "execution_count": 1,
   "id": "d413e388-0072-4b56-9e59-ab5fe80bef32",
   "metadata": {
    "collapsed": true,
    "jupyter": {
     "outputs_hidden": true
    },
    "tags": []
   },
   "outputs": [
    {
     "name": "stdout",
     "output_type": "stream",
     "text": [
      "Collecting tensorflow\n",
      "  Downloading tensorflow-2.15.0.post1-cp310-cp310-manylinux_2_17_x86_64.manylinux2014_x86_64.whl (475.2 MB)\n",
      "\u001b[2K     \u001b[90m━━━━━━━━━━━━━━━━━━━━━━━━━━━━━━━━━━━━━━━\u001b[0m \u001b[32m475.2/475.2 MB\u001b[0m \u001b[31m3.6 MB/s\u001b[0m eta \u001b[36m0:00:00\u001b[0m00:01\u001b[0m00:01\u001b[0m\n",
      "\u001b[?25hCollecting absl-py>=1.0.0\n",
      "  Downloading absl_py-2.1.0-py3-none-any.whl (133 kB)\n",
      "\u001b[2K     \u001b[90m━━━━━━━━━━━━━━━━━━━━━━━━━━━━━━━━━━━━━━\u001b[0m \u001b[32m133.7/133.7 kB\u001b[0m \u001b[31m23.3 MB/s\u001b[0m eta \u001b[36m0:00:00\u001b[0m\n",
      "\u001b[?25hCollecting astunparse>=1.6.0\n",
      "  Downloading astunparse-1.6.3-py2.py3-none-any.whl (12 kB)\n",
      "Requirement already satisfied: packaging in /opt/conda/lib/python3.10/site-packages (from tensorflow) (22.0)\n",
      "Collecting flatbuffers>=23.5.26\n",
      "  Downloading flatbuffers-24.3.6-py2.py3-none-any.whl (26 kB)\n",
      "Collecting tensorflow-estimator<2.16,>=2.15.0\n",
      "  Downloading tensorflow_estimator-2.15.0-py2.py3-none-any.whl (441 kB)\n",
      "\u001b[2K     \u001b[90m━━━━━━━━━━━━━━━━━━━━━━━━━━━━━━━━━━━━━━\u001b[0m \u001b[32m442.0/442.0 kB\u001b[0m \u001b[31m45.9 MB/s\u001b[0m eta \u001b[36m0:00:00\u001b[0m\n",
      "\u001b[?25hCollecting gast!=0.5.0,!=0.5.1,!=0.5.2,>=0.2.1\n",
      "  Downloading gast-0.5.4-py3-none-any.whl (19 kB)\n",
      "Collecting termcolor>=1.1.0\n",
      "  Downloading termcolor-2.4.0-py3-none-any.whl (7.7 kB)\n",
      "Collecting keras<2.16,>=2.15.0\n",
      "  Downloading keras-2.15.0-py3-none-any.whl (1.7 MB)\n",
      "\u001b[2K     \u001b[90m━━━━━━━━━━━━━━━━━━━━━━━━━━━━━━━━━━━━━━━━\u001b[0m \u001b[32m1.7/1.7 MB\u001b[0m \u001b[31m67.4 MB/s\u001b[0m eta \u001b[36m0:00:00\u001b[0m\n",
      "\u001b[?25hCollecting wrapt<1.15,>=1.11.0\n",
      "  Downloading wrapt-1.14.1-cp310-cp310-manylinux_2_5_x86_64.manylinux1_x86_64.manylinux_2_17_x86_64.manylinux2014_x86_64.whl (77 kB)\n",
      "\u001b[2K     \u001b[90m━━━━━━━━━━━━━━━━━━━━━━━━━━━━━━━━━━━━━━━━\u001b[0m \u001b[32m77.9/77.9 kB\u001b[0m \u001b[31m13.4 MB/s\u001b[0m eta \u001b[36m0:00:00\u001b[0m\n",
      "\u001b[?25hCollecting ml-dtypes~=0.2.0\n",
      "  Downloading ml_dtypes-0.2.0-cp310-cp310-manylinux_2_17_x86_64.manylinux2014_x86_64.whl (1.0 MB)\n",
      "\u001b[2K     \u001b[90m━━━━━━━━━━━━━━━━━━━━━━━━━━━━━━━━━━━━━━━━\u001b[0m \u001b[32m1.0/1.0 MB\u001b[0m \u001b[31m63.6 MB/s\u001b[0m eta \u001b[36m0:00:00\u001b[0m\n",
      "\u001b[?25hRequirement already satisfied: six>=1.12.0 in /opt/conda/lib/python3.10/site-packages (from tensorflow) (1.16.0)\n",
      "Requirement already satisfied: numpy<2.0.0,>=1.23.5 in /opt/conda/lib/python3.10/site-packages (from tensorflow) (1.23.5)\n",
      "Collecting tensorboard<2.16,>=2.15\n",
      "  Downloading tensorboard-2.15.2-py3-none-any.whl (5.5 MB)\n",
      "\u001b[2K     \u001b[90m━━━━━━━━━━━━━━━━━━━━━━━━━━━━━━━━━━━━━━━━\u001b[0m \u001b[32m5.5/5.5 MB\u001b[0m \u001b[31m74.3 MB/s\u001b[0m eta \u001b[36m0:00:00\u001b[0m:00:01\u001b[0m00:01\u001b[0m\n",
      "\u001b[?25hRequirement already satisfied: typing-extensions>=3.6.6 in /opt/conda/lib/python3.10/site-packages (from tensorflow) (4.4.0)\n",
      "Collecting google-pasta>=0.1.1\n",
      "  Downloading google_pasta-0.2.0-py3-none-any.whl (57 kB)\n",
      "\u001b[2K     \u001b[90m━━━━━━━━━━━━━━━━━━━━━━━━━━━━━━━━━━━━━━━━\u001b[0m \u001b[32m57.5/57.5 kB\u001b[0m \u001b[31m11.1 MB/s\u001b[0m eta \u001b[36m0:00:00\u001b[0m\n",
      "\u001b[?25hCollecting tensorflow-io-gcs-filesystem>=0.23.1\n",
      "  Downloading tensorflow_io_gcs_filesystem-0.36.0-cp310-cp310-manylinux_2_17_x86_64.manylinux2014_x86_64.whl (5.1 MB)\n",
      "\u001b[2K     \u001b[90m━━━━━━━━━━━━━━━━━━━━━━━━━━━━━━━━━━━━━━━━\u001b[0m \u001b[32m5.1/5.1 MB\u001b[0m \u001b[31m56.0 MB/s\u001b[0m eta \u001b[36m0:00:00\u001b[0m00:01\u001b[0m00:01\u001b[0m\n",
      "\u001b[?25hRequirement already satisfied: protobuf!=4.21.0,!=4.21.1,!=4.21.2,!=4.21.3,!=4.21.4,!=4.21.5,<5.0.0dev,>=3.20.3 in /opt/conda/lib/python3.10/site-packages (from tensorflow) (4.21.11)\n",
      "Collecting libclang>=13.0.0\n",
      "  Downloading libclang-16.0.6-py2.py3-none-manylinux2010_x86_64.whl (22.9 MB)\n",
      "\u001b[2K     \u001b[90m━━━━━━━━━━━━━━━━━━━━━━━━━━━━━━━━━━━━━━━━\u001b[0m \u001b[32m22.9/22.9 MB\u001b[0m \u001b[31m51.9 MB/s\u001b[0m eta \u001b[36m0:00:00\u001b[0m00:01\u001b[0m00:01\u001b[0m\n",
      "\u001b[?25hCollecting opt-einsum>=2.3.2\n",
      "  Downloading opt_einsum-3.3.0-py3-none-any.whl (65 kB)\n",
      "\u001b[2K     \u001b[90m━━━━━━━━━━━━━━━━━━━━━━━━━━━━━━━━━━━━━━━━\u001b[0m \u001b[32m65.5/65.5 kB\u001b[0m \u001b[31m11.2 MB/s\u001b[0m eta \u001b[36m0:00:00\u001b[0m\n",
      "\u001b[?25hCollecting grpcio<2.0,>=1.24.3\n",
      "  Downloading grpcio-1.62.0-cp310-cp310-manylinux_2_17_x86_64.manylinux2014_x86_64.whl (5.5 MB)\n",
      "\u001b[2K     \u001b[90m━━━━━━━━━━━━━━━━━━━━━━━━━━━━━━━━━━━━━━━━\u001b[0m \u001b[32m5.5/5.5 MB\u001b[0m \u001b[31m75.4 MB/s\u001b[0m eta \u001b[36m0:00:00\u001b[0m:00:01\u001b[0m00:01\u001b[0m\n",
      "\u001b[?25hRequirement already satisfied: h5py>=2.9.0 in /opt/conda/lib/python3.10/site-packages (from tensorflow) (3.7.0)\n",
      "Requirement already satisfied: setuptools in /opt/conda/lib/python3.10/site-packages (from tensorflow) (65.5.1)\n",
      "Requirement already satisfied: wheel<1.0,>=0.23.0 in /opt/conda/lib/python3.10/site-packages (from astunparse>=1.6.0->tensorflow) (0.38.4)\n",
      "Collecting tensorboard-data-server<0.8.0,>=0.7.0\n",
      "  Downloading tensorboard_data_server-0.7.2-py3-none-manylinux_2_31_x86_64.whl (6.6 MB)\n",
      "\u001b[2K     \u001b[90m━━━━━━━━━━━━━━━━━━━━━━━━━━━━━━━━━━━━━━━━\u001b[0m \u001b[32m6.6/6.6 MB\u001b[0m \u001b[31m80.1 MB/s\u001b[0m eta \u001b[36m0:00:00\u001b[0m:00:01\u001b[0m00:01\u001b[0m\n",
      "\u001b[?25hRequirement already satisfied: requests<3,>=2.21.0 in /opt/conda/lib/python3.10/site-packages (from tensorboard<2.16,>=2.15->tensorflow) (2.28.1)\n",
      "Collecting google-auth<3,>=1.6.3\n",
      "  Downloading google_auth-2.28.1-py2.py3-none-any.whl (186 kB)\n",
      "\u001b[2K     \u001b[90m━━━━━━━━━━━━━━━━━━━━━━━━━━━━━━━━━━━━━━\u001b[0m \u001b[32m186.9/186.9 kB\u001b[0m \u001b[31m26.8 MB/s\u001b[0m eta \u001b[36m0:00:00\u001b[0m\n",
      "\u001b[?25hCollecting werkzeug>=1.0.1\n",
      "  Downloading werkzeug-3.0.1-py3-none-any.whl (226 kB)\n",
      "\u001b[2K     \u001b[90m━━━━━━━━━━━━━━━━━━━━━━━━━━━━━━━━━━━━━━\u001b[0m \u001b[32m226.7/226.7 kB\u001b[0m \u001b[31m30.3 MB/s\u001b[0m eta \u001b[36m0:00:00\u001b[0m\n",
      "\u001b[?25hCollecting google-auth-oauthlib<2,>=0.5\n",
      "  Downloading google_auth_oauthlib-1.2.0-py2.py3-none-any.whl (24 kB)\n",
      "Collecting markdown>=2.6.8\n",
      "  Downloading Markdown-3.5.2-py3-none-any.whl (103 kB)\n",
      "\u001b[2K     \u001b[90m━━━━━━━━━━━━━━━━━━━━━━━━━━━━━━━━━━━━━━\u001b[0m \u001b[32m103.9/103.9 kB\u001b[0m \u001b[31m17.5 MB/s\u001b[0m eta \u001b[36m0:00:00\u001b[0m\n",
      "\u001b[?25hCollecting cachetools<6.0,>=2.0.0\n",
      "  Downloading cachetools-5.3.3-py3-none-any.whl (9.3 kB)\n",
      "Collecting rsa<5,>=3.1.4\n",
      "  Downloading rsa-4.9-py3-none-any.whl (34 kB)\n",
      "Collecting pyasn1-modules>=0.2.1\n",
      "  Downloading pyasn1_modules-0.3.0-py2.py3-none-any.whl (181 kB)\n",
      "\u001b[2K     \u001b[90m━━━━━━━━━━━━━━━━━━━━━━━━━━━━━━━━━━━━━━\u001b[0m \u001b[32m181.3/181.3 kB\u001b[0m \u001b[31m26.3 MB/s\u001b[0m eta \u001b[36m0:00:00\u001b[0m\n",
      "\u001b[?25hCollecting requests-oauthlib>=0.7.0\n",
      "  Downloading requests_oauthlib-1.3.1-py2.py3-none-any.whl (23 kB)\n",
      "Requirement already satisfied: certifi>=2017.4.17 in /opt/conda/lib/python3.10/site-packages (from requests<3,>=2.21.0->tensorboard<2.16,>=2.15->tensorflow) (2022.12.7)\n",
      "Requirement already satisfied: urllib3<1.27,>=1.21.1 in /opt/conda/lib/python3.10/site-packages (from requests<3,>=2.21.0->tensorboard<2.16,>=2.15->tensorflow) (1.26.13)\n",
      "Requirement already satisfied: idna<4,>=2.5 in /opt/conda/lib/python3.10/site-packages (from requests<3,>=2.21.0->tensorboard<2.16,>=2.15->tensorflow) (3.4)\n",
      "Requirement already satisfied: charset-normalizer<3,>=2 in /opt/conda/lib/python3.10/site-packages (from requests<3,>=2.21.0->tensorboard<2.16,>=2.15->tensorflow) (2.1.1)\n",
      "Requirement already satisfied: MarkupSafe>=2.1.1 in /opt/conda/lib/python3.10/site-packages (from werkzeug>=1.0.1->tensorboard<2.16,>=2.15->tensorflow) (2.1.1)\n",
      "Collecting pyasn1<0.6.0,>=0.4.6\n",
      "  Downloading pyasn1-0.5.1-py2.py3-none-any.whl (84 kB)\n",
      "\u001b[2K     \u001b[90m━━━━━━━━━━━━━━━━━━━━━━━━━━━━━━━━━━━━━━━━\u001b[0m \u001b[32m84.9/84.9 kB\u001b[0m \u001b[31m11.2 MB/s\u001b[0m eta \u001b[36m0:00:00\u001b[0m\n",
      "\u001b[?25hRequirement already satisfied: oauthlib>=3.0.0 in /opt/conda/lib/python3.10/site-packages (from requests-oauthlib>=0.7.0->google-auth-oauthlib<2,>=0.5->tensorboard<2.16,>=2.15->tensorflow) (3.2.2)\n",
      "Installing collected packages: libclang, flatbuffers, wrapt, werkzeug, termcolor, tensorflow-io-gcs-filesystem, tensorflow-estimator, tensorboard-data-server, pyasn1, opt-einsum, ml-dtypes, markdown, keras, grpcio, google-pasta, gast, cachetools, astunparse, absl-py, rsa, requests-oauthlib, pyasn1-modules, google-auth, google-auth-oauthlib, tensorboard, tensorflow\n",
      "Successfully installed absl-py-2.1.0 astunparse-1.6.3 cachetools-5.3.3 flatbuffers-24.3.6 gast-0.5.4 google-auth-2.28.1 google-auth-oauthlib-1.2.0 google-pasta-0.2.0 grpcio-1.62.0 keras-2.15.0 libclang-16.0.6 markdown-3.5.2 ml-dtypes-0.2.0 opt-einsum-3.3.0 pyasn1-0.5.1 pyasn1-modules-0.3.0 requests-oauthlib-1.3.1 rsa-4.9 tensorboard-2.15.2 tensorboard-data-server-0.7.2 tensorflow-2.15.0.post1 tensorflow-estimator-2.15.0 tensorflow-io-gcs-filesystem-0.36.0 termcolor-2.4.0 werkzeug-3.0.1 wrapt-1.14.1\n"
     ]
    }
   ],
   "source": [
    "!pip install tensorflow"
   ]
  },
  {
   "cell_type": "code",
   "execution_count": 2,
   "id": "18ed57de-d401-443a-9701-037981f8d516",
   "metadata": {},
   "outputs": [],
   "source": [
    "import pandas as pd\n",
    "import numpy as np\n",
    "import matplotlib.pyplot as plt\n",
    "import seaborn"
   ]
  },
  {
   "cell_type": "markdown",
   "id": "4b7387c6-bfb6-419f-9abb-24c8c4506ec1",
   "metadata": {},
   "source": [
    "### Question 1\n",
    "\n",
    "Batch Normalization refers to the technique of passing the dataset in mini batches instead of the complete dataset as one in each iteration.\n",
    "\n",
    "For Example: \n",
    "\n",
    "- Without this technique the dataset is passed completely and the weights are biases are initialized at random in the first iteration which most probably will not be optimal\n",
    "- But with this technique when applied (let's say batch size = 32 and dataset has 1000 records) instead of 1000 records in one iteration we pass batches of 32 as one epoch so by the first iteration ends we already have some weights and biases calculates batch after batch which may not be optimal but still more accurate than random initialization."
   ]
  },
  {
   "cell_type": "markdown",
   "id": "bd164a07-75dd-428e-88d8-f5cf4f033f6d",
   "metadata": {},
   "source": [
    "### Question 2\n",
    "\n",
    "Benefits of Batch Normalization:\n",
    "\n",
    "1. Regularizes the model\n",
    "2. Speeds up learning\n",
    "3. Allows higher learning rates"
   ]
  },
  {
   "cell_type": "markdown",
   "id": "fc567044-8c71-4367-a88d-adc8a8b64199",
   "metadata": {},
   "source": [
    "### Question 3\n",
    "\n",
    "Normalization Step:\n",
    "1. During training, batch normalization operates on a mini-batch of data.\n",
    "2. For each feature (neuron activation), it calculates the mean and standard deviation across the mini-batch.\n",
    "3. The activations are then normalized by subtracting the mean and dividing by the standard deviation.\n",
    "4. This ensures that the input to each layer has a consistent scale and distribution.\n",
    "\n",
    "Learnable Parameters:\n",
    "\n",
    "After normalization, the result is scaled and shifted using two learnable parameters:\n",
    "- Gamma (γ): Scales the normalized values.\n",
    "- Beta (β): Shifts the scaled values."
   ]
  },
  {
   "cell_type": "markdown",
   "id": "d08578df-6caa-4d3e-ac6c-c6c4adf60e38",
   "metadata": {},
   "source": [
    "## Code and Implementation"
   ]
  },
  {
   "cell_type": "code",
   "execution_count": 3,
   "id": "a2e7627f-0487-479d-b554-e17595013683",
   "metadata": {},
   "outputs": [
    {
     "name": "stderr",
     "output_type": "stream",
     "text": [
      "2024-03-07 08:22:50.810270: I external/local_tsl/tsl/cuda/cudart_stub.cc:31] Could not find cuda drivers on your machine, GPU will not be used.\n",
      "2024-03-07 08:22:50.875081: E external/local_xla/xla/stream_executor/cuda/cuda_dnn.cc:9261] Unable to register cuDNN factory: Attempting to register factory for plugin cuDNN when one has already been registered\n",
      "2024-03-07 08:22:50.875151: E external/local_xla/xla/stream_executor/cuda/cuda_fft.cc:607] Unable to register cuFFT factory: Attempting to register factory for plugin cuFFT when one has already been registered\n",
      "2024-03-07 08:22:50.876486: E external/local_xla/xla/stream_executor/cuda/cuda_blas.cc:1515] Unable to register cuBLAS factory: Attempting to register factory for plugin cuBLAS when one has already been registered\n",
      "2024-03-07 08:22:50.885267: I external/local_tsl/tsl/cuda/cudart_stub.cc:31] Could not find cuda drivers on your machine, GPU will not be used.\n",
      "2024-03-07 08:22:50.885934: I tensorflow/core/platform/cpu_feature_guard.cc:182] This TensorFlow binary is optimized to use available CPU instructions in performance-critical operations.\n",
      "To enable the following instructions: AVX2 FMA, in other operations, rebuild TensorFlow with the appropriate compiler flags.\n",
      "2024-03-07 08:22:52.226032: W tensorflow/compiler/tf2tensorrt/utils/py_utils.cc:38] TF-TRT Warning: Could not find TensorRT\n"
     ]
    }
   ],
   "source": [
    "import tensorflow as tf\n",
    "import keras\n",
    "from keras import layers"
   ]
  },
  {
   "cell_type": "code",
   "execution_count": 4,
   "id": "984cd1fd-59d3-4b96-8e14-e0fd7ff5302b",
   "metadata": {},
   "outputs": [
    {
     "name": "stdout",
     "output_type": "stream",
     "text": [
      "Downloading data from https://storage.googleapis.com/tensorflow/tf-keras-datasets/mnist.npz\n",
      "11490434/11490434 [==============================] - 2s 0us/step\n",
      "(60000, 28, 28) (60000,)\n",
      "(10000, 28, 28) (10000,)\n"
     ]
    }
   ],
   "source": [
    "## Loading the data\n",
    "\n",
    "(x_train, y_train), (x_test, y_test) = keras.datasets.mnist.load_data()\n",
    "\n",
    "print(x_train.shape, y_train.shape)\n",
    "print(x_test.shape, y_test.shape)"
   ]
  },
  {
   "cell_type": "code",
   "execution_count": 5,
   "id": "1b973461-62df-45a4-b85f-4ddb862797f7",
   "metadata": {},
   "outputs": [],
   "source": [
    "# Dividing the dataset with 255 to scale it between 0 and 1\n",
    "\n",
    "x_train_scaled = x_train/255\n",
    "x_test_scaled = x_test/255\n",
    "y_train_scaled = y_train/255\n",
    "y_test_scaled = y_test/255"
   ]
  },
  {
   "cell_type": "code",
   "execution_count": 6,
   "id": "17638873-f6cd-46cd-935f-acbb398ad300",
   "metadata": {},
   "outputs": [],
   "source": [
    "# Defining the model with and without batch normalization layer\n",
    "\n",
    "model_1 = keras.Sequential (\n",
    "            [\n",
    "                layers.Flatten(name = \"input_layer\"),\n",
    "                layers.Dense(500, activation=\"relu\", name = \"Layer_1\"),\n",
    "                layers.Dense(200, activation=\"relu\", name = \"Layer_2\"),\n",
    "                layers.Dense(50, activation=\"relu\", name = \"Layer_3\"),\n",
    "                layers.Dense(10, activation=\"softmax\", name = \"output_layer\")\n",
    "            ]\n",
    ")\n",
    "\n",
    "model_2 = keras.Sequential (\n",
    "            [\n",
    "                layers.Flatten(name = \"input_layer\"),\n",
    "                layers.Dense(500, activation=\"relu\", name = \"Layer_1\"),\n",
    "                layers.Dense(200, activation=\"relu\", name = \"Layer_2\"),\n",
    "                layers.BatchNormalization(),\n",
    "                layers.Dense(50, activation=\"relu\", name = \"Layer_3\"),\n",
    "                layers.Dense(10, activation=\"softmax\", name = \"output_layer\")\n",
    "            ]\n",
    ")\n",
    "\n",
    "model_3 = keras.Sequential (\n",
    "            [\n",
    "                layers.Flatten(name = \"input_layer\"),\n",
    "                layers.BatchNormalization(),\n",
    "                layers.Dense(500, activation=\"relu\", name = \"Layer_1\"),\n",
    "                layers.Dense(200, activation=\"relu\", name = \"Layer_2\"),\n",
    "                layers.BatchNormalization(),\n",
    "                layers.Dense(50, activation=\"relu\", name = \"Layer_3\"),\n",
    "                layers.Dense(10, activation=\"softmax\", name = \"output_layer\")\n",
    "            ]\n",
    ")"
   ]
  },
  {
   "cell_type": "code",
   "execution_count": 11,
   "id": "c71eb389-87d9-4131-a594-96fc54da007c",
   "metadata": {},
   "outputs": [
    {
     "data": {
      "text/plain": [
       "[<keras.src.layers.reshaping.flatten.Flatten at 0x7f3a4d556980>,\n",
       " <keras.src.layers.core.dense.Dense at 0x7f3a4d556530>,\n",
       " <keras.src.layers.core.dense.Dense at 0x7f3a4d556590>,\n",
       " <keras.src.layers.core.dense.Dense at 0x7f3a4d4cbd00>,\n",
       " <keras.src.layers.core.dense.Dense at 0x7f3cec387d00>]"
      ]
     },
     "execution_count": 11,
     "metadata": {},
     "output_type": "execute_result"
    }
   ],
   "source": [
    "model_1.layers"
   ]
  },
  {
   "cell_type": "code",
   "execution_count": 12,
   "id": "ff91686a-92d4-48b8-8665-b62b0999f86f",
   "metadata": {},
   "outputs": [
    {
     "data": {
      "text/plain": [
       "[<keras.src.layers.reshaping.flatten.Flatten at 0x7f3a4d4cbd60>,\n",
       " <keras.src.layers.core.dense.Dense at 0x7f3a6b13e2c0>,\n",
       " <keras.src.layers.core.dense.Dense at 0x7f3a6b13dc00>,\n",
       " <keras.src.layers.normalization.batch_normalization.BatchNormalization at 0x7f3a6b13e440>,\n",
       " <keras.src.layers.core.dense.Dense at 0x7f3a6b13f130>,\n",
       " <keras.src.layers.core.dense.Dense at 0x7f3a4d66fca0>]"
      ]
     },
     "execution_count": 12,
     "metadata": {},
     "output_type": "execute_result"
    }
   ],
   "source": [
    "model_2.layers"
   ]
  },
  {
   "cell_type": "code",
   "execution_count": 13,
   "id": "20abfbff-ff7d-49bf-a8f4-409976fd9522",
   "metadata": {},
   "outputs": [
    {
     "data": {
      "text/plain": [
       "[<keras.src.layers.reshaping.flatten.Flatten at 0x7f3a4d556650>,\n",
       " <keras.src.layers.normalization.batch_normalization.BatchNormalization at 0x7f3a6b13c640>,\n",
       " <keras.src.layers.core.dense.Dense at 0x7f3a4d66da50>,\n",
       " <keras.src.layers.core.dense.Dense at 0x7f3a4d66da20>,\n",
       " <keras.src.layers.normalization.batch_normalization.BatchNormalization at 0x7f3a4d66ded0>,\n",
       " <keras.src.layers.core.dense.Dense at 0x7f3a4d66e5f0>,\n",
       " <keras.src.layers.core.dense.Dense at 0x7f3a4d66e5c0>]"
      ]
     },
     "execution_count": 13,
     "metadata": {},
     "output_type": "execute_result"
    }
   ],
   "source": [
    "model_3.layers"
   ]
  },
  {
   "cell_type": "code",
   "execution_count": 7,
   "id": "27a94e2f-5754-4d9f-982c-7e7ff0b948ba",
   "metadata": {},
   "outputs": [],
   "source": [
    "OPTIMIZER = \"SGD\"\n",
    "LOSS = \"sparse_categorical_crossentropy\"\n",
    "METRICS = \"accuracy\""
   ]
  },
  {
   "cell_type": "code",
   "execution_count": 24,
   "id": "d80af160-44ae-4018-882d-808717d63769",
   "metadata": {
    "collapsed": true,
    "jupyter": {
     "outputs_hidden": true
    },
    "tags": []
   },
   "outputs": [
    {
     "name": "stdout",
     "output_type": "stream",
     "text": [
      "Epoch 1/10\n",
      "938/938 [==============================] - 5s 5ms/step - loss: nan - categorical_accuracy: 1.0000\n",
      "Epoch 2/10\n",
      "938/938 [==============================] - 5s 5ms/step - loss: nan - categorical_accuracy: 1.0000\n",
      "Epoch 3/10\n",
      "938/938 [==============================] - 4s 5ms/step - loss: nan - categorical_accuracy: 1.0000\n",
      "Epoch 4/10\n",
      "938/938 [==============================] - 4s 5ms/step - loss: nan - categorical_accuracy: 1.0000\n",
      "Epoch 5/10\n",
      "938/938 [==============================] - 4s 5ms/step - loss: nan - categorical_accuracy: 1.0000\n",
      "Epoch 6/10\n",
      "938/938 [==============================] - 5s 5ms/step - loss: nan - categorical_accuracy: 1.0000\n",
      "Epoch 7/10\n",
      "938/938 [==============================] - 4s 5ms/step - loss: nan - categorical_accuracy: 1.0000\n",
      "Epoch 8/10\n",
      "938/938 [==============================] - 4s 5ms/step - loss: nan - categorical_accuracy: 1.0000\n",
      "Epoch 9/10\n",
      "938/938 [==============================] - 4s 5ms/step - loss: nan - categorical_accuracy: 1.0000\n",
      "Epoch 10/10\n",
      "938/938 [==============================] - 4s 5ms/step - loss: nan - categorical_accuracy: 1.0000\n"
     ]
    }
   ],
   "source": [
    "## Without batch normalization\n",
    "\n",
    "model_1.compile(optimizer=OPTIMIZER,\n",
    "               loss=LOSS,\n",
    "               metrics=METRICS)\n",
    "\n",
    "history = model_1.fit(x_train, y_train, batch_size = 64, epochs = 10)"
   ]
  },
  {
   "cell_type": "code",
   "execution_count": 25,
   "id": "a4018bea-28ec-4f41-815d-4f75c52531e0",
   "metadata": {},
   "outputs": [
    {
     "name": "stdout",
     "output_type": "stream",
     "text": [
      "Model: \"sequential\"\n",
      "_________________________________________________________________\n",
      " Layer (type)                Output Shape              Param #   \n",
      "=================================================================\n",
      " input_layer (Flatten)       (None, 784)               0         \n",
      "                                                                 \n",
      " Layer_1 (Dense)             (None, 500)               392500    \n",
      "                                                                 \n",
      " Layer_2 (Dense)             (None, 200)               100200    \n",
      "                                                                 \n",
      " Layer_3 (Dense)             (None, 50)                10050     \n",
      "                                                                 \n",
      " output_layer (Dense)        (None, 10)                510       \n",
      "                                                                 \n",
      "=================================================================\n",
      "Total params: 503260 (1.92 MB)\n",
      "Trainable params: 503260 (1.92 MB)\n",
      "Non-trainable params: 0 (0.00 Byte)\n",
      "_________________________________________________________________\n",
      "None\n"
     ]
    }
   ],
   "source": [
    "print(model_1.summary())"
   ]
  },
  {
   "cell_type": "code",
   "execution_count": 28,
   "id": "61caaedf-7c69-4312-bc28-48c287e2ccdf",
   "metadata": {},
   "outputs": [
    {
     "name": "stdout",
     "output_type": "stream",
     "text": [
      "{'loss': [nan, nan, nan, nan, nan, nan, nan, nan, nan, nan], 'categorical_accuracy': [1.0, 1.0, 1.0, 1.0, 1.0, 1.0, 1.0, 1.0, 1.0, 1.0]}\n"
     ]
    }
   ],
   "source": [
    "loss_1 = history.history[\"loss\"]\n",
    "accuracy_1 = history.history[\"categorical_accuracy\"]\n",
    "print(history.history)"
   ]
  },
  {
   "cell_type": "code",
   "execution_count": 8,
   "id": "f4b0ee21-904b-4c9d-8594-bc80df50c246",
   "metadata": {},
   "outputs": [],
   "source": [
    "## Compile and train the model\n",
    "\n",
    "list_of_models = [model_1, model_2, model_3]\n",
    "\n",
    "def train_evaluate(model, epoch = 10, batch_size = 64):\n",
    "    model.compile(optimizer = OPTIMIZER,\n",
    "                 loss = LOSS,\n",
    "                 metrics = METRICS)\n",
    "    \n",
    "    history = model.fit(x_train, y_train, batch_size = batch_size, epochs = epoch)\n",
    "    print(\"Model summary : {}\".format(model.summary()))\n",
    "    print(\"History : {}\".format(history.history))\n",
    "    \n",
    "    loss = history.history[\"loss\"]\n",
    "    accuracy = history.history[\"accuracy\"]\n",
    "    return (loss, accuracy)"
   ]
  },
  {
   "cell_type": "code",
   "execution_count": 9,
   "id": "43b1912b-3e29-4ac3-8de4-eb5de32805c2",
   "metadata": {},
   "outputs": [
    {
     "name": "stdout",
     "output_type": "stream",
     "text": [
      "Epoch 1/10\n",
      "938/938 [==============================] - 5s 5ms/step - loss: nan - accuracy: 0.0985\n",
      "Epoch 2/10\n",
      "938/938 [==============================] - 5s 5ms/step - loss: nan - accuracy: 0.0987\n",
      "Epoch 3/10\n",
      "938/938 [==============================] - 4s 5ms/step - loss: nan - accuracy: 0.0987\n",
      "Epoch 4/10\n",
      "938/938 [==============================] - 5s 5ms/step - loss: nan - accuracy: 0.0987\n",
      "Epoch 5/10\n",
      "938/938 [==============================] - 4s 5ms/step - loss: nan - accuracy: 0.0987\n",
      "Epoch 6/10\n",
      "938/938 [==============================] - 4s 5ms/step - loss: nan - accuracy: 0.0987\n",
      "Epoch 7/10\n",
      "938/938 [==============================] - 4s 5ms/step - loss: nan - accuracy: 0.0987\n",
      "Epoch 8/10\n",
      "938/938 [==============================] - 5s 5ms/step - loss: nan - accuracy: 0.0987\n",
      "Epoch 9/10\n",
      "938/938 [==============================] - 4s 5ms/step - loss: nan - accuracy: 0.0987\n",
      "Epoch 10/10\n",
      "938/938 [==============================] - 4s 5ms/step - loss: nan - accuracy: 0.0987\n",
      "Model: \"sequential\"\n",
      "_________________________________________________________________\n",
      " Layer (type)                Output Shape              Param #   \n",
      "=================================================================\n",
      " input_layer (Flatten)       (None, 784)               0         \n",
      "                                                                 \n",
      " Layer_1 (Dense)             (None, 500)               392500    \n",
      "                                                                 \n",
      " Layer_2 (Dense)             (None, 200)               100200    \n",
      "                                                                 \n",
      " Layer_3 (Dense)             (None, 50)                10050     \n",
      "                                                                 \n",
      " output_layer (Dense)        (None, 10)                510       \n",
      "                                                                 \n",
      "=================================================================\n",
      "Total params: 503260 (1.92 MB)\n",
      "Trainable params: 503260 (1.92 MB)\n",
      "Non-trainable params: 0 (0.00 Byte)\n",
      "_________________________________________________________________\n",
      "Model summary : None\n",
      "History : {'loss': [nan, nan, nan, nan, nan, nan, nan, nan, nan, nan], 'accuracy': [0.0984666645526886, 0.09871666878461838, 0.09871666878461838, 0.09871666878461838, 0.09871666878461838, 0.09871666878461838, 0.09871666878461838, 0.09871666878461838, 0.09871666878461838, 0.09871666878461838]}\n",
      "Epoch 1/10\n",
      "938/938 [==============================] - 6s 5ms/step - loss: 0.3806 - accuracy: 0.8922\n",
      "Epoch 2/10\n",
      "938/938 [==============================] - 5s 5ms/step - loss: 0.1705 - accuracy: 0.9504\n",
      "Epoch 3/10\n",
      "938/938 [==============================] - 5s 5ms/step - loss: 0.1253 - accuracy: 0.9641\n",
      "Epoch 4/10\n",
      "938/938 [==============================] - 5s 5ms/step - loss: 0.0979 - accuracy: 0.9725\n",
      "Epoch 5/10\n",
      "938/938 [==============================] - 5s 5ms/step - loss: 0.0788 - accuracy: 0.9780\n",
      "Epoch 6/10\n",
      "938/938 [==============================] - 5s 5ms/step - loss: 0.0652 - accuracy: 0.9820\n",
      "Epoch 7/10\n",
      "938/938 [==============================] - 5s 5ms/step - loss: 0.0546 - accuracy: 0.9854\n",
      "Epoch 8/10\n",
      "938/938 [==============================] - 5s 5ms/step - loss: 0.0457 - accuracy: 0.9880\n",
      "Epoch 9/10\n",
      "938/938 [==============================] - 5s 5ms/step - loss: 0.0383 - accuracy: 0.9905\n",
      "Epoch 10/10\n",
      "938/938 [==============================] - 5s 5ms/step - loss: 0.0326 - accuracy: 0.9922\n",
      "Model: \"sequential_1\"\n",
      "_________________________________________________________________\n",
      " Layer (type)                Output Shape              Param #   \n",
      "=================================================================\n",
      " input_layer (Flatten)       (None, 784)               0         \n",
      "                                                                 \n",
      " Layer_1 (Dense)             (None, 500)               392500    \n",
      "                                                                 \n",
      " Layer_2 (Dense)             (None, 200)               100200    \n",
      "                                                                 \n",
      " batch_normalization (Batch  (None, 200)               800       \n",
      " Normalization)                                                  \n",
      "                                                                 \n",
      " Layer_3 (Dense)             (None, 50)                10050     \n",
      "                                                                 \n",
      " output_layer (Dense)        (None, 10)                510       \n",
      "                                                                 \n",
      "=================================================================\n",
      "Total params: 504060 (1.92 MB)\n",
      "Trainable params: 503660 (1.92 MB)\n",
      "Non-trainable params: 400 (1.56 KB)\n",
      "_________________________________________________________________\n",
      "Model summary : None\n",
      "History : {'loss': [0.3806331753730774, 0.17051513493061066, 0.1252521574497223, 0.09789365530014038, 0.07878179848194122, 0.06518474221229553, 0.05458056926727295, 0.045706965029239655, 0.038329385221004486, 0.03260881081223488], 'accuracy': [0.8922333121299744, 0.9504166841506958, 0.9640833139419556, 0.9724666476249695, 0.9779999852180481, 0.9819833040237427, 0.9853500127792358, 0.9879999756813049, 0.9904833436012268, 0.9922166466712952]}\n",
      "Epoch 1/10\n",
      "938/938 [==============================] - 6s 6ms/step - loss: 0.4279 - accuracy: 0.8756\n",
      "Epoch 2/10\n",
      "938/938 [==============================] - 5s 6ms/step - loss: 0.1836 - accuracy: 0.9458\n",
      "Epoch 3/10\n",
      "938/938 [==============================] - 6s 6ms/step - loss: 0.1391 - accuracy: 0.9588\n",
      "Epoch 4/10\n",
      "938/938 [==============================] - 5s 6ms/step - loss: 0.1107 - accuracy: 0.9666\n",
      "Epoch 5/10\n",
      "938/938 [==============================] - 5s 6ms/step - loss: 0.0926 - accuracy: 0.9726\n",
      "Epoch 6/10\n",
      "938/938 [==============================] - 5s 6ms/step - loss: 0.0772 - accuracy: 0.9775\n",
      "Epoch 7/10\n",
      "938/938 [==============================] - 5s 6ms/step - loss: 0.0662 - accuracy: 0.9814\n",
      "Epoch 8/10\n",
      "938/938 [==============================] - 5s 6ms/step - loss: 0.0573 - accuracy: 0.9833\n",
      "Epoch 9/10\n",
      "938/938 [==============================] - 5s 6ms/step - loss: 0.0485 - accuracy: 0.9863\n",
      "Epoch 10/10\n",
      "938/938 [==============================] - 5s 6ms/step - loss: 0.0425 - accuracy: 0.9881\n",
      "Model: \"sequential_2\"\n",
      "_________________________________________________________________\n",
      " Layer (type)                Output Shape              Param #   \n",
      "=================================================================\n",
      " input_layer (Flatten)       (None, 784)               0         \n",
      "                                                                 \n",
      " batch_normalization_1 (Bat  (None, 784)               3136      \n",
      " chNormalization)                                                \n",
      "                                                                 \n",
      " Layer_1 (Dense)             (None, 500)               392500    \n",
      "                                                                 \n",
      " Layer_2 (Dense)             (None, 200)               100200    \n",
      "                                                                 \n",
      " batch_normalization_2 (Bat  (None, 200)               800       \n",
      " chNormalization)                                                \n",
      "                                                                 \n",
      " Layer_3 (Dense)             (None, 50)                10050     \n",
      "                                                                 \n",
      " output_layer (Dense)        (None, 10)                510       \n",
      "                                                                 \n",
      "=================================================================\n",
      "Total params: 507196 (1.93 MB)\n",
      "Trainable params: 505228 (1.93 MB)\n",
      "Non-trainable params: 1968 (7.69 KB)\n",
      "_________________________________________________________________\n",
      "Model summary : None\n",
      "History : {'loss': [0.427921861410141, 0.18359318375587463, 0.13910144567489624, 0.11070376634597778, 0.09257954359054565, 0.07721292972564697, 0.06618466228246689, 0.0573456734418869, 0.0484948493540287, 0.04253105819225311], 'accuracy': [0.8755666613578796, 0.9457666873931885, 0.9588000178337097, 0.9665666818618774, 0.9726499915122986, 0.9775166511535645, 0.9813500046730042, 0.9832500219345093, 0.9862833619117737, 0.9880666732788086]}\n"
     ]
    }
   ],
   "source": [
    "## Training part \n",
    "\n",
    "accuracy_loss = []\n",
    "\n",
    "for model in list_of_models:\n",
    "    accuracy_loss.append(train_evaluate(model))"
   ]
  },
  {
   "cell_type": "code",
   "execution_count": 10,
   "id": "5217174b-cca8-4f04-ad6b-1d2702f2eb77",
   "metadata": {},
   "outputs": [
    {
     "data": {
      "image/png": "[encoded data removed]",
      "text/plain": [
       "<Figure size 1200x400 with 3 Axes>"
      ]
     },
     "metadata": {},
     "output_type": "display_data"
    }
   ],
   "source": [
    "\n",
    "plt.figure(figsize = (12,4))\n",
    "for  i, (loss, accuracy) in enumerate(accuracy_loss):\n",
    "    plt.subplot(1,3,i+1)\n",
    "    plt.title(f\"Model {i+1}\")\n",
    "    plt.plot(range(1,11),loss, label = \"Training Loss\")\n",
    "    plt.plot(range(1,11), accuracy, label = \"Training Accuracy\")\n",
    "    plt.legend()\n",
    "    plt.tight_layout()"
   ]
  },
  {
   "cell_type": "markdown",
   "id": "457eb701-f432-4d07-8920-9f6bff646be9",
   "metadata": {},
   "source": [
    "## Batch_Size = 32"
   ]
  },
  {
   "cell_type": "code",
   "execution_count": 11,
   "id": "287b006b-fba0-41e6-a8d0-bf01fe509c1c",
   "metadata": {},
   "outputs": [
    {
     "name": "stdout",
     "output_type": "stream",
     "text": [
      "Epoch 1/10\n",
      "1875/1875 [==============================] - 8s 4ms/step - loss: nan - accuracy: 0.0987\n",
      "Epoch 2/10\n",
      "1875/1875 [==============================] - 7s 4ms/step - loss: nan - accuracy: 0.0987\n",
      "Epoch 3/10\n",
      "1875/1875 [==============================] - 8s 4ms/step - loss: nan - accuracy: 0.0987\n",
      "Epoch 4/10\n",
      "1875/1875 [==============================] - 8s 4ms/step - loss: nan - accuracy: 0.0987\n",
      "Epoch 5/10\n",
      "1875/1875 [==============================] - 7s 4ms/step - loss: nan - accuracy: 0.0987\n",
      "Epoch 6/10\n",
      "1875/1875 [==============================] - 7s 4ms/step - loss: nan - accuracy: 0.0987\n",
      "Epoch 7/10\n",
      "1875/1875 [==============================] - 7s 4ms/step - loss: nan - accuracy: 0.0987\n",
      "Epoch 8/10\n",
      "1875/1875 [==============================] - 7s 4ms/step - loss: nan - accuracy: 0.0987\n",
      "Epoch 9/10\n",
      "1875/1875 [==============================] - 7s 4ms/step - loss: nan - accuracy: 0.0987\n",
      "Epoch 10/10\n",
      "1875/1875 [==============================] - 7s 4ms/step - loss: nan - accuracy: 0.0987\n",
      "Model: \"sequential\"\n",
      "_________________________________________________________________\n",
      " Layer (type)                Output Shape              Param #   \n",
      "=================================================================\n",
      " input_layer (Flatten)       (None, 784)               0         \n",
      "                                                                 \n",
      " Layer_1 (Dense)             (None, 500)               392500    \n",
      "                                                                 \n",
      " Layer_2 (Dense)             (None, 200)               100200    \n",
      "                                                                 \n",
      " Layer_3 (Dense)             (None, 50)                10050     \n",
      "                                                                 \n",
      " output_layer (Dense)        (None, 10)                510       \n",
      "                                                                 \n",
      "=================================================================\n",
      "Total params: 503260 (1.92 MB)\n",
      "Trainable params: 503260 (1.92 MB)\n",
      "Non-trainable params: 0 (0.00 Byte)\n",
      "_________________________________________________________________\n",
      "Model summary : None\n",
      "History : {'loss': [nan, nan, nan, nan, nan, nan, nan, nan, nan, nan], 'accuracy': [0.09871666878461838, 0.09871666878461838, 0.09871666878461838, 0.09871666878461838, 0.09871666878461838, 0.09871666878461838, 0.09871666878461838, 0.09871666878461838, 0.09871666878461838, 0.09871666878461838]}\n",
      "Epoch 1/10\n",
      "1875/1875 [==============================] - 9s 4ms/step - loss: 0.0535 - accuracy: 0.9840\n",
      "Epoch 2/10\n",
      "1875/1875 [==============================] - 8s 4ms/step - loss: 0.0445 - accuracy: 0.9870\n",
      "Epoch 3/10\n",
      "1875/1875 [==============================] - 8s 4ms/step - loss: 0.0331 - accuracy: 0.9909\n",
      "Epoch 4/10\n",
      "1875/1875 [==============================] - 8s 4ms/step - loss: 0.0264 - accuracy: 0.9927\n",
      "Epoch 5/10\n",
      "1875/1875 [==============================] - 8s 4ms/step - loss: 0.0234 - accuracy: 0.9936\n",
      "Epoch 6/10\n",
      "1875/1875 [==============================] - 8s 4ms/step - loss: 0.0180 - accuracy: 0.9954\n",
      "Epoch 7/10\n",
      "1875/1875 [==============================] - 8s 4ms/step - loss: 0.0165 - accuracy: 0.9959\n",
      "Epoch 8/10\n",
      "1875/1875 [==============================] - 8s 4ms/step - loss: 0.0146 - accuracy: 0.9963\n",
      "Epoch 9/10\n",
      "1875/1875 [==============================] - 8s 4ms/step - loss: 0.0113 - accuracy: 0.9971\n",
      "Epoch 10/10\n",
      "1875/1875 [==============================] - 8s 4ms/step - loss: 0.0388 - accuracy: 0.9881\n",
      "Model: \"sequential_1\"\n",
      "_________________________________________________________________\n",
      " Layer (type)                Output Shape              Param #   \n",
      "=================================================================\n",
      " input_layer (Flatten)       (None, 784)               0         \n",
      "                                                                 \n",
      " Layer_1 (Dense)             (None, 500)               392500    \n",
      "                                                                 \n",
      " Layer_2 (Dense)             (None, 200)               100200    \n",
      "                                                                 \n",
      " batch_normalization (Batch  (None, 200)               800       \n",
      " Normalization)                                                  \n",
      "                                                                 \n",
      " Layer_3 (Dense)             (None, 50)                10050     \n",
      "                                                                 \n",
      " output_layer (Dense)        (None, 10)                510       \n",
      "                                                                 \n",
      "=================================================================\n",
      "Total params: 504060 (1.92 MB)\n",
      "Trainable params: 503660 (1.92 MB)\n",
      "Non-trainable params: 400 (1.56 KB)\n",
      "_________________________________________________________________\n",
      "Model summary : None\n",
      "History : {'loss': [0.05348971486091614, 0.04453860968351364, 0.03311878815293312, 0.026379479095339775, 0.023393811658024788, 0.017963755875825882, 0.01652882620692253, 0.014561296440660954, 0.011276512406766415, 0.03876051679253578], 'accuracy': [0.9839833378791809, 0.9869999885559082, 0.990933358669281, 0.9927166700363159, 0.9936333298683167, 0.9953833222389221, 0.9958833456039429, 0.9962666630744934, 0.9970999956130981, 0.9881333112716675]}\n",
      "Epoch 1/10\n",
      "1875/1875 [==============================] - 9s 5ms/step - loss: 0.0613 - accuracy: 0.9806\n",
      "Epoch 2/10\n",
      "1875/1875 [==============================] - 9s 5ms/step - loss: 0.0510 - accuracy: 0.9838\n",
      "Epoch 3/10\n",
      "1875/1875 [==============================] - 9s 5ms/step - loss: 0.0459 - accuracy: 0.9857\n",
      "Epoch 4/10\n",
      "1875/1875 [==============================] - 9s 5ms/step - loss: 0.0375 - accuracy: 0.9890\n",
      "Epoch 5/10\n",
      "1875/1875 [==============================] - 9s 5ms/step - loss: 0.0346 - accuracy: 0.9893\n",
      "Epoch 6/10\n",
      "1875/1875 [==============================] - 9s 5ms/step - loss: 0.0299 - accuracy: 0.9906\n",
      "Epoch 7/10\n",
      "1875/1875 [==============================] - 9s 5ms/step - loss: 0.0261 - accuracy: 0.9923\n",
      "Epoch 8/10\n",
      "1875/1875 [==============================] - 9s 5ms/step - loss: 0.0215 - accuracy: 0.9937\n",
      "Epoch 9/10\n",
      "1875/1875 [==============================] - 9s 5ms/step - loss: 0.0209 - accuracy: 0.9936\n",
      "Epoch 10/10\n",
      "1875/1875 [==============================] - 9s 5ms/step - loss: 0.0195 - accuracy: 0.9942\n",
      "Model: \"sequential_2\"\n",
      "_________________________________________________________________\n",
      " Layer (type)                Output Shape              Param #   \n",
      "=================================================================\n",
      " input_layer (Flatten)       (None, 784)               0         \n",
      "                                                                 \n",
      " batch_normalization_1 (Bat  (None, 784)               3136      \n",
      " chNormalization)                                                \n",
      "                                                                 \n",
      " Layer_1 (Dense)             (None, 500)               392500    \n",
      "                                                                 \n",
      " Layer_2 (Dense)             (None, 200)               100200    \n",
      "                                                                 \n",
      " batch_normalization_2 (Bat  (None, 200)               800       \n",
      " chNormalization)                                                \n",
      "                                                                 \n",
      " Layer_3 (Dense)             (None, 50)                10050     \n",
      "                                                                 \n",
      " output_layer (Dense)        (None, 10)                510       \n",
      "                                                                 \n",
      "=================================================================\n",
      "Total params: 507196 (1.93 MB)\n",
      "Trainable params: 505228 (1.93 MB)\n",
      "Non-trainable params: 1968 (7.69 KB)\n",
      "_________________________________________________________________\n",
      "Model summary : None\n",
      "History : {'loss': [0.06130950525403023, 0.05097011849284172, 0.0459410585463047, 0.037478599697351456, 0.03456671163439751, 0.029936546459794044, 0.02611744962632656, 0.021526306867599487, 0.020864346995949745, 0.019546447321772575], 'accuracy': [0.9805999994277954, 0.9838166832923889, 0.9856500029563904, 0.9889666438102722, 0.9892666935920715, 0.9905999898910522, 0.9922500252723694, 0.9937166571617126, 0.9936333298683167, 0.994183361530304]}\n"
     ]
    }
   ],
   "source": [
    "accuracy_loss = []\n",
    "\n",
    "for model in list_of_models:\n",
    "    accuracy_loss.append(train_evaluate(model, batch_size = 32))"
   ]
  },
  {
   "cell_type": "code",
   "execution_count": 12,
   "id": "d3bea357-0f01-4d94-9d0e-7367f38fdc9d",
   "metadata": {},
   "outputs": [
    {
     "data": {
      "image/png": "[encoded data removed]",
      "text/plain": [
       "<Figure size 1200x400 with 3 Axes>"
      ]
     },
     "metadata": {},
     "output_type": "display_data"
    }
   ],
   "source": [
    "\n",
    "plt.figure(figsize = (12,4))\n",
    "for  i, (loss, accuracy) in enumerate(accuracy_loss):\n",
    "    plt.subplot(1,3,i+1)\n",
    "    plt.title(f\"Model {i+1}\")\n",
    "    plt.plot(range(1,11),loss, label = \"Training Loss\")\n",
    "    plt.plot(range(1,11), accuracy, label = \"Training Accuracy\")\n",
    "    plt.legend()\n",
    "    plt.tight_layout()"
   ]
  },
  {
   "cell_type": "markdown",
   "id": "71a409bb-84e7-4b4c-9b81-76a2a3d92d3a",
   "metadata": {},
   "source": [
    "## Batch Size = 100"
   ]
  },
  {
   "cell_type": "code",
   "execution_count": 13,
   "id": "9fc3a991-268c-4886-987b-c9049ed0b039",
   "metadata": {},
   "outputs": [
    {
     "name": "stdout",
     "output_type": "stream",
     "text": [
      "Epoch 1/10\n",
      "600/600 [==============================] - 4s 6ms/step - loss: nan - accuracy: 0.0987\n",
      "Epoch 2/10\n",
      "600/600 [==============================] - 3s 5ms/step - loss: nan - accuracy: 0.0987\n",
      "Epoch 3/10\n",
      "600/600 [==============================] - 3s 5ms/step - loss: nan - accuracy: 0.0987\n",
      "Epoch 4/10\n",
      "600/600 [==============================] - 3s 6ms/step - loss: nan - accuracy: 0.0987\n",
      "Epoch 5/10\n",
      "600/600 [==============================] - 3s 6ms/step - loss: nan - accuracy: 0.0987\n",
      "Epoch 6/10\n",
      "600/600 [==============================] - 3s 6ms/step - loss: nan - accuracy: 0.0987\n",
      "Epoch 7/10\n",
      "600/600 [==============================] - 3s 6ms/step - loss: nan - accuracy: 0.0987\n",
      "Epoch 8/10\n",
      "600/600 [==============================] - 3s 5ms/step - loss: nan - accuracy: 0.0987\n",
      "Epoch 9/10\n",
      "600/600 [==============================] - 3s 6ms/step - loss: nan - accuracy: 0.0987\n",
      "Epoch 10/10\n",
      "600/600 [==============================] - 3s 6ms/step - loss: nan - accuracy: 0.0987\n",
      "Model: \"sequential\"\n",
      "_________________________________________________________________\n",
      " Layer (type)                Output Shape              Param #   \n",
      "=================================================================\n",
      " input_layer (Flatten)       (None, 784)               0         \n",
      "                                                                 \n",
      " Layer_1 (Dense)             (None, 500)               392500    \n",
      "                                                                 \n",
      " Layer_2 (Dense)             (None, 200)               100200    \n",
      "                                                                 \n",
      " Layer_3 (Dense)             (None, 50)                10050     \n",
      "                                                                 \n",
      " output_layer (Dense)        (None, 10)                510       \n",
      "                                                                 \n",
      "=================================================================\n",
      "Total params: 503260 (1.92 MB)\n",
      "Trainable params: 503260 (1.92 MB)\n",
      "Non-trainable params: 0 (0.00 Byte)\n",
      "_________________________________________________________________\n",
      "Model summary : None\n",
      "History : {'loss': [nan, nan, nan, nan, nan, nan, nan, nan, nan, nan], 'accuracy': [0.09871666878461838, 0.09871666878461838, 0.09871666878461838, 0.09871666878461838, 0.09871666878461838, 0.09871666878461838, 0.09871666878461838, 0.09871666878461838, 0.09871666878461838, 0.09871666878461838]}\n",
      "Epoch 1/10\n",
      "600/600 [==============================] - 4s 6ms/step - loss: 0.0312 - accuracy: 0.9910\n",
      "Epoch 2/10\n",
      "600/600 [==============================] - 4s 6ms/step - loss: 0.0184 - accuracy: 0.9955\n",
      "Epoch 3/10\n",
      "600/600 [==============================] - 4s 6ms/step - loss: 0.0136 - accuracy: 0.9974\n",
      "Epoch 4/10\n",
      "600/600 [==============================] - 4s 6ms/step - loss: 0.0106 - accuracy: 0.9983\n",
      "Epoch 5/10\n",
      "600/600 [==============================] - 4s 6ms/step - loss: 0.0085 - accuracy: 0.9990\n",
      "Epoch 6/10\n",
      "600/600 [==============================] - 4s 6ms/step - loss: 0.0074 - accuracy: 0.9992\n",
      "Epoch 7/10\n",
      "600/600 [==============================] - 4s 6ms/step - loss: 0.0063 - accuracy: 0.9996\n",
      "Epoch 8/10\n",
      "600/600 [==============================] - 4s 6ms/step - loss: 0.0059 - accuracy: 0.9995\n",
      "Epoch 9/10\n",
      "600/600 [==============================] - 4s 6ms/step - loss: 0.0066 - accuracy: 0.9993\n",
      "Epoch 10/10\n",
      "600/600 [==============================] - 4s 6ms/step - loss: 0.0056 - accuracy: 0.9995\n",
      "Model: \"sequential_1\"\n",
      "_________________________________________________________________\n",
      " Layer (type)                Output Shape              Param #   \n",
      "=================================================================\n",
      " input_layer (Flatten)       (None, 784)               0         \n",
      "                                                                 \n",
      " Layer_1 (Dense)             (None, 500)               392500    \n",
      "                                                                 \n",
      " Layer_2 (Dense)             (None, 200)               100200    \n",
      "                                                                 \n",
      " batch_normalization (Batch  (None, 200)               800       \n",
      " Normalization)                                                  \n",
      "                                                                 \n",
      " Layer_3 (Dense)             (None, 50)                10050     \n",
      "                                                                 \n",
      " output_layer (Dense)        (None, 10)                510       \n",
      "                                                                 \n",
      "=================================================================\n",
      "Total params: 504060 (1.92 MB)\n",
      "Trainable params: 503660 (1.92 MB)\n",
      "Non-trainable params: 400 (1.56 KB)\n",
      "_________________________________________________________________\n",
      "Model summary : None\n",
      "History : {'loss': [0.031181575730443, 0.018403958529233932, 0.013580488972365856, 0.01056248601526022, 0.008523390628397465, 0.007376933004707098, 0.00630086800083518, 0.005891740322113037, 0.006609586998820305, 0.005618348717689514], 'accuracy': [0.9909666776657104, 0.9955166578292847, 0.9973999857902527, 0.998283326625824, 0.9990333318710327, 0.9992499947547913, 0.9995666742324829, 0.9994666576385498, 0.9993000030517578, 0.9995166659355164]}\n",
      "Epoch 1/10\n",
      "600/600 [==============================] - 5s 7ms/step - loss: 0.0066 - accuracy: 0.9988\n",
      "Epoch 2/10\n",
      "600/600 [==============================] - 4s 7ms/step - loss: 0.0053 - accuracy: 0.9992\n",
      "Epoch 3/10\n",
      "600/600 [==============================] - 4s 7ms/step - loss: 0.0049 - accuracy: 0.9992\n",
      "Epoch 4/10\n",
      "600/600 [==============================] - 4s 7ms/step - loss: 0.0044 - accuracy: 0.9995\n",
      "Epoch 5/10\n",
      "600/600 [==============================] - 4s 7ms/step - loss: 0.0040 - accuracy: 0.9996\n",
      "Epoch 6/10\n",
      "600/600 [==============================] - 4s 7ms/step - loss: 0.0039 - accuracy: 0.9995\n",
      "Epoch 7/10\n",
      "600/600 [==============================] - 4s 7ms/step - loss: 0.0035 - accuracy: 0.9997\n",
      "Epoch 8/10\n",
      "600/600 [==============================] - 4s 7ms/step - loss: 0.0034 - accuracy: 0.9996\n",
      "Epoch 9/10\n",
      "600/600 [==============================] - 4s 7ms/step - loss: 0.0031 - accuracy: 0.9997\n",
      "Epoch 10/10\n",
      "600/600 [==============================] - 4s 7ms/step - loss: 0.0031 - accuracy: 0.9997\n",
      "Model: \"sequential_2\"\n",
      "_________________________________________________________________\n",
      " Layer (type)                Output Shape              Param #   \n",
      "=================================================================\n",
      " input_layer (Flatten)       (None, 784)               0         \n",
      "                                                                 \n",
      " batch_normalization_1 (Bat  (None, 784)               3136      \n",
      " chNormalization)                                                \n",
      "                                                                 \n",
      " Layer_1 (Dense)             (None, 500)               392500    \n",
      "                                                                 \n",
      " Layer_2 (Dense)             (None, 200)               100200    \n",
      "                                                                 \n",
      " batch_normalization_2 (Bat  (None, 200)               800       \n",
      " chNormalization)                                                \n",
      "                                                                 \n",
      " Layer_3 (Dense)             (None, 50)                10050     \n",
      "                                                                 \n",
      " output_layer (Dense)        (None, 10)                510       \n",
      "                                                                 \n",
      "=================================================================\n",
      "Total params: 507196 (1.93 MB)\n",
      "Trainable params: 505228 (1.93 MB)\n",
      "Non-trainable params: 1968 (7.69 KB)\n",
      "_________________________________________________________________\n",
      "Model summary : None\n",
      "History : {'loss': [0.006559773348271847, 0.005251803435385227, 0.004854150582104921, 0.0044264537282288074, 0.004009151365607977, 0.003916286863386631, 0.0034758734982460737, 0.0033763819374144077, 0.0030597602017223835, 0.003138625528663397], 'accuracy': [0.9987666606903076, 0.9991666674613953, 0.9992499947547913, 0.9995166659355164, 0.9995666742324829, 0.9994999766349792, 0.9997166395187378, 0.9996333122253418, 0.9997333288192749, 0.999666690826416]}\n"
     ]
    }
   ],
   "source": [
    "accuracy_loss = []\n",
    "\n",
    "for model in list_of_models:\n",
    "    accuracy_loss.append(train_evaluate(model, batch_size = 100))"
   ]
  },
  {
   "cell_type": "code",
   "execution_count": 14,
   "id": "474bb7ab-f010-48cc-b738-689b2486dca0",
   "metadata": {},
   "outputs": [
    {
     "data": {
      "image/png": "[encoded data removed]",
      "text/plain": [
       "<Figure size 1200x400 with 3 Axes>"
      ]
     },
     "metadata": {},
     "output_type": "display_data"
    }
   ],
   "source": [
    "plt.figure(figsize = (12,4))\n",
    "for  i, (loss, accuracy) in enumerate(accuracy_loss):\n",
    "    plt.subplot(1,3,i+1)\n",
    "    plt.title(f\"Model {i+1}\")\n",
    "    plt.plot(range(1,11),loss, label = \"Training Loss\")\n",
    "    plt.plot(range(1,11), accuracy, label = \"Training Accuracy\")\n",
    "    plt.legend()\n",
    "    plt.tight_layout()"
   ]
  },
  {
   "cell_type": "code",
   "execution_count": 16,
   "id": "9f7d307e-03d4-408e-a0b4-9f315ae87e99",
   "metadata": {},
   "outputs": [
    {
     "name": "stdout",
     "output_type": "stream",
     "text": [
      "313/313 [==============================] - 1s 2ms/step - loss: nan - accuracy: 0.0980\n",
      "313/313 [==============================] - 1s 2ms/step - loss: 0.0730 - accuracy: 0.9797\n",
      "313/313 [==============================] - 1s 2ms/step - loss: 0.1728 - accuracy: 0.9747\n"
     ]
    }
   ],
   "source": [
    "test_loss_1, test_accuracy_1 = model_1.evaluate(x_test, y_test)\n",
    "test_loss_2, test_accuracy_2 = model_2.evaluate(x_test, y_test)\n",
    "test_loss_3, test_accuracy_3 = model_3.evaluate(x_test, y_test)"
   ]
  },
  {
   "cell_type": "code",
   "execution_count": 18,
   "id": "40a2df70-d700-4c95-aeab-7cee71cdde8f",
   "metadata": {},
   "outputs": [
    {
     "name": "stdout",
     "output_type": "stream",
     "text": [
      "Model without batch normalizaton - Loss : nan and accuracy : 0.09799999743700027\n",
      "Model batch normalizaton - Loss : 0.0730183869600296 and accuracy : 0.9797000288963318\n",
      "Model with two layers batch normalizaton - Loss : 0.17279314994812012 and accuracy : 0.9746999740600586\n"
     ]
    }
   ],
   "source": [
    "print(f\"Model without batch normalizaton - Loss : {test_loss_1} and accuracy : {test_accuracy_1}\" )\n",
    "\n",
    "print(f\"Model batch normalizaton - Loss : {test_loss_2} and accuracy : {test_accuracy_2}\" )\n",
    "\n",
    "print(f\"Model with two layers batch normalizaton - Loss : {test_loss_3} and accuracy : {test_accuracy_3}\" )"
   ]
  },
  {
   "cell_type": "markdown",
   "id": "3918a945-aff2-4b29-8e82-6534fa4eb07a",
   "metadata": {},
   "source": [
    "### Question 6\n",
    "\n",
    "When batch normalization is applied it tends to prevent the model from overfitting and also scales the features for a better learning and tends to converge faster.\n",
    "\n",
    "Without it the model sometimes highly overfits or tends to not learn the pattern at all."
   ]
  },
  {
   "cell_type": "markdown",
   "id": "8a54e2e1-abb7-49b6-883d-45e8d9cb7063",
   "metadata": {},
   "source": [
    "### Question 7\n",
    "\n",
    "The different batch sizes dont make much of a difference but here the the models with slightly higher batch sizes had a better training accuracy overall. In general the batch size is a hyperparamter and must be tuned according to the usecase."
   ]
  },
  {
   "cell_type": "markdown",
   "id": "b1b3c595-fc58-4dc3-9810-af9febd6b40d",
   "metadata": {},
   "source": [
    "### Question 8\n",
    "\n",
    "#### **Advantages of Batch Normalization:**\n",
    "\n",
    "1. **Stabilizing Training Process:**\n",
    "   \n",
    "2. **Faster Convergence:**\n",
    "\n",
    "3. **Regularization Effect:**\n",
    "\n",
    "4. **Higher Learning Rates:**\n",
    "\n",
    "#### **Potential Limitations:**\n",
    "\n",
    "1. **Computational Overhead:**\n",
    "\n",
    "2. **Dependency on Mini-Batch Size:**\n",
    "\n",
    "3. **Incompatibility with Recurrent Networks:**"
   ]
  },
  {
   "cell_type": "code",
   "execution_count": null,
   "id": "f3bbb97d-ab1d-4f31-a324-fa9cfa9fdb7b",
   "metadata": {},
   "outputs": [],
   "source": []
  }
 ],
 "metadata": {
  "kernelspec": {
   "display_name": "Python 3 (ipykernel)",
   "language": "python",
   "name": "python3"
  },
  "language_info": {
   "codemirror_mode": {
    "name": "ipython",
    "version": 3
   },
   "file_extension": ".py",
   "mimetype": "text/x-python",
   "name": "python",
   "nbconvert_exporter": "python",
   "pygments_lexer": "ipython3",
   "version": "3.10.8"
  }
 },
 "nbformat": 4,
 "nbformat_minor": 5
}
