{
 "cells": [
  {
   "cell_type": "code",
   "execution_count": 4,
   "id": "109b8424-620b-4560-b131-8c4753812f90",
   "metadata": {},
   "outputs": [
    {
     "data": {
      "text/html": [
       "<div>\n",
       "<style scoped>\n",
       "    .dataframe tbody tr th:only-of-type {\n",
       "        vertical-align: middle;\n",
       "    }\n",
       "\n",
       "    .dataframe tbody tr th {\n",
       "        vertical-align: top;\n",
       "    }\n",
       "\n",
       "    .dataframe thead th {\n",
       "        text-align: right;\n",
       "    }\n",
       "</style>\n",
       "<table border=\"1\" class=\"dataframe\">\n",
       "  <thead>\n",
       "    <tr style=\"text-align: right;\">\n",
       "      <th></th>\n",
       "      <th>course_name</th>\n",
       "      <th>duration</th>\n",
       "    </tr>\n",
       "  </thead>\n",
       "  <tbody>\n",
       "    <tr>\n",
       "      <th>0</th>\n",
       "      <td>Data Science</td>\n",
       "      <td>2</td>\n",
       "    </tr>\n",
       "    <tr>\n",
       "      <th>1</th>\n",
       "      <td>Machine Learning</td>\n",
       "      <td>3</td>\n",
       "    </tr>\n",
       "    <tr>\n",
       "      <th>2</th>\n",
       "      <td>Big Data</td>\n",
       "      <td>6</td>\n",
       "    </tr>\n",
       "    <tr>\n",
       "      <th>3</th>\n",
       "      <td>Data Engineer</td>\n",
       "      <td>4</td>\n",
       "    </tr>\n",
       "  </tbody>\n",
       "</table>\n",
       "</div>"
      ],
      "text/plain": [
       "        course_name  duration\n",
       "0      Data Science         2\n",
       "1  Machine Learning         3\n",
       "2          Big Data         6\n",
       "3     Data Engineer         4"
      ]
     },
     "execution_count": 4,
     "metadata": {},
     "output_type": "execute_result"
    }
   ],
   "source": [
    "import pandas as pd\n",
    "\n",
    "course_name = [\"Data Science\", \"Machine Learning\", \"Big Data\", \"Data Engineer\"]\n",
    "duration = [2,3,6,4]\n",
    "df = pd.DataFrame(data = {\"course_name\" : course_name, \"duration\" : duration})\n",
    "df"
   ]
  },
  {
   "cell_type": "code",
   "execution_count": 6,
   "id": "7bc99d34-e8ba-4c47-9481-9bf27eaf4b5a",
   "metadata": {},
   "outputs": [
    {
     "data": {
      "text/plain": [
       "course_name    Machine Learning\n",
       "duration                      3\n",
       "Name: 1, dtype: object"
      ]
     },
     "execution_count": 6,
     "metadata": {},
     "output_type": "execute_result"
    }
   ],
   "source": [
    "# Question 1\n",
    "df.iloc[1]"
   ]
  },
  {
   "cell_type": "markdown",
   "id": "04b28f47-afa3-4d62-a240-4557d8e41a0e",
   "metadata": {},
   "source": [
    "### Question 2\n",
    "\n",
    "pandas.iloc uses the implicit indexing i.e. whihc starts from index 0-n-1 given a dataframe of n rows.\n",
    "pandas.loc uses the explicitly defined indexing given by the programmer."
   ]
  },
  {
   "cell_type": "code",
   "execution_count": 7,
   "id": "0d4cc5ac-8bce-4f03-b853-3719fc0bd582",
   "metadata": {},
   "outputs": [
    {
     "data": {
      "text/html": [
       "<div>\n",
       "<style scoped>\n",
       "    .dataframe tbody tr th:only-of-type {\n",
       "        vertical-align: middle;\n",
       "    }\n",
       "\n",
       "    .dataframe tbody tr th {\n",
       "        vertical-align: top;\n",
       "    }\n",
       "\n",
       "    .dataframe thead th {\n",
       "        text-align: right;\n",
       "    }\n",
       "</style>\n",
       "<table border=\"1\" class=\"dataframe\">\n",
       "  <thead>\n",
       "    <tr style=\"text-align: right;\">\n",
       "      <th></th>\n",
       "      <th>course_name</th>\n",
       "      <th>duration</th>\n",
       "    </tr>\n",
       "  </thead>\n",
       "  <tbody>\n",
       "    <tr>\n",
       "      <th>3</th>\n",
       "      <td>Data Engineer</td>\n",
       "      <td>4</td>\n",
       "    </tr>\n",
       "    <tr>\n",
       "      <th>0</th>\n",
       "      <td>Data Science</td>\n",
       "      <td>2</td>\n",
       "    </tr>\n",
       "    <tr>\n",
       "      <th>1</th>\n",
       "      <td>Machine Learning</td>\n",
       "      <td>3</td>\n",
       "    </tr>\n",
       "    <tr>\n",
       "      <th>2</th>\n",
       "      <td>Big Data</td>\n",
       "      <td>6</td>\n",
       "    </tr>\n",
       "  </tbody>\n",
       "</table>\n",
       "</div>"
      ],
      "text/plain": [
       "        course_name  duration\n",
       "3     Data Engineer         4\n",
       "0      Data Science         2\n",
       "1  Machine Learning         3\n",
       "2          Big Data         6"
      ]
     },
     "execution_count": 7,
     "metadata": {},
     "output_type": "execute_result"
    }
   ],
   "source": [
    "# Question 3\n",
    "reindex = [3,0,1,2]\n",
    "df.reindex(reindex)"
   ]
  },
  {
   "cell_type": "code",
   "execution_count": 9,
   "id": "dde7e98f-c81a-4ee1-a280-ec2241a25853",
   "metadata": {},
   "outputs": [
    {
     "name": "stdout",
     "output_type": "stream",
     "text": [
      "course_name    Big Data\n",
      "duration              6\n",
      "Name: 2, dtype: object\n",
      "\n",
      "course_name    Big Data\n",
      "duration              6\n",
      "Name: 2, dtype: object\n"
     ]
    }
   ],
   "source": [
    "print(df.loc[2])\n",
    "print()\n",
    "print(df.iloc[2])"
   ]
  },
  {
   "cell_type": "code",
   "execution_count": null,
   "id": "bfbcc76a-da6d-40f9-a63a-f20496d73fae",
   "metadata": {},
   "outputs": [],
   "source": []
  },
  {
   "cell_type": "code",
   "execution_count": 12,
   "id": "c6d91956-6844-4d7d-9447-39884610c992",
   "metadata": {},
   "outputs": [
    {
     "data": {
      "text/html": [
       "<div>\n",
       "<style scoped>\n",
       "    .dataframe tbody tr th:only-of-type {\n",
       "        vertical-align: middle;\n",
       "    }\n",
       "\n",
       "    .dataframe tbody tr th {\n",
       "        vertical-align: top;\n",
       "    }\n",
       "\n",
       "    .dataframe thead th {\n",
       "        text-align: right;\n",
       "    }\n",
       "</style>\n",
       "<table border=\"1\" class=\"dataframe\">\n",
       "  <thead>\n",
       "    <tr style=\"text-align: right;\">\n",
       "      <th></th>\n",
       "      <th>column_1</th>\n",
       "      <th>column_2</th>\n",
       "      <th>column_3</th>\n",
       "      <th>column_4</th>\n",
       "      <th>column_5</th>\n",
       "      <th>column_6</th>\n",
       "    </tr>\n",
       "  </thead>\n",
       "  <tbody>\n",
       "    <tr>\n",
       "      <th>1</th>\n",
       "      <td>0.076414</td>\n",
       "      <td>0.053443</td>\n",
       "      <td>0.325204</td>\n",
       "      <td>0.829257</td>\n",
       "      <td>0.514929</td>\n",
       "      <td>0.108757</td>\n",
       "    </tr>\n",
       "    <tr>\n",
       "      <th>2</th>\n",
       "      <td>0.008443</td>\n",
       "      <td>0.461916</td>\n",
       "      <td>0.730234</td>\n",
       "      <td>0.320426</td>\n",
       "      <td>0.232843</td>\n",
       "      <td>0.774695</td>\n",
       "    </tr>\n",
       "    <tr>\n",
       "      <th>3</th>\n",
       "      <td>0.514527</td>\n",
       "      <td>0.986431</td>\n",
       "      <td>0.191637</td>\n",
       "      <td>0.821848</td>\n",
       "      <td>0.393324</td>\n",
       "      <td>0.793622</td>\n",
       "    </tr>\n",
       "    <tr>\n",
       "      <th>4</th>\n",
       "      <td>0.787057</td>\n",
       "      <td>0.121181</td>\n",
       "      <td>0.440304</td>\n",
       "      <td>0.806490</td>\n",
       "      <td>0.771860</td>\n",
       "      <td>0.713329</td>\n",
       "    </tr>\n",
       "    <tr>\n",
       "      <th>5</th>\n",
       "      <td>0.412587</td>\n",
       "      <td>0.953268</td>\n",
       "      <td>0.291192</td>\n",
       "      <td>0.308680</td>\n",
       "      <td>0.631639</td>\n",
       "      <td>0.941498</td>\n",
       "    </tr>\n",
       "    <tr>\n",
       "      <th>6</th>\n",
       "      <td>0.927088</td>\n",
       "      <td>0.991300</td>\n",
       "      <td>0.990996</td>\n",
       "      <td>0.540841</td>\n",
       "      <td>0.453753</td>\n",
       "      <td>0.869492</td>\n",
       "    </tr>\n",
       "  </tbody>\n",
       "</table>\n",
       "</div>"
      ],
      "text/plain": [
       "   column_1  column_2  column_3  column_4  column_5  column_6\n",
       "1  0.076414  0.053443  0.325204  0.829257  0.514929  0.108757\n",
       "2  0.008443  0.461916  0.730234  0.320426  0.232843  0.774695\n",
       "3  0.514527  0.986431  0.191637  0.821848  0.393324  0.793622\n",
       "4  0.787057  0.121181  0.440304  0.806490  0.771860  0.713329\n",
       "5  0.412587  0.953268  0.291192  0.308680  0.631639  0.941498\n",
       "6  0.927088  0.991300  0.990996  0.540841  0.453753  0.869492"
      ]
     },
     "execution_count": 12,
     "metadata": {},
     "output_type": "execute_result"
    }
   ],
   "source": [
    "import numpy as np\n",
    "columns = ['column_1', 'column_2', 'column_3', 'column_4', 'column_5', 'column_6']\n",
    "indices = [1,2,3,4,5,6]\n",
    "#Creating a dataframe:\n",
    "df1 = pd.DataFrame(np.random.rand(6,6), columns = columns, index = indices)\n",
    "df1"
   ]
  },
  {
   "cell_type": "code",
   "execution_count": 18,
   "id": "bacb9a5a-5fb6-4e1f-a40a-3a51ae1b1063",
   "metadata": {},
   "outputs": [
    {
     "data": {
      "text/plain": [
       "column_1    0.454352\n",
       "column_2    0.594590\n",
       "column_3    0.494928\n",
       "column_4    0.604590\n",
       "column_5    0.499725\n",
       "column_6    0.700232\n",
       "dtype: float64"
      ]
     },
     "execution_count": 18,
     "metadata": {},
     "output_type": "execute_result"
    }
   ],
   "source": [
    "# Question 4 part 1\n",
    "df1.mean()"
   ]
  },
  {
   "cell_type": "code",
   "execution_count": 22,
   "id": "57f1ffe6-c82d-49e2-9a0c-2be190a4540c",
   "metadata": {},
   "outputs": [
    {
     "data": {
      "text/plain": [
       "0.4413904127837789"
      ]
     },
     "execution_count": 22,
     "metadata": {},
     "output_type": "execute_result"
    }
   ],
   "source": [
    "# Question 4 part 2\n",
    "df1.column_2.std()"
   ]
  },
  {
   "cell_type": "code",
   "execution_count": 27,
   "id": "35e820ae-ce77-41c6-9be9-49e13cf0a63c",
   "metadata": {},
   "outputs": [
    {
     "name": "stdout",
     "output_type": "stream",
     "text": [
      "We get an error because we are trying to add a string and a numeric value which is not supported.\n"
     ]
    }
   ],
   "source": [
    "# Question 5\n",
    "\n",
    "df1.loc[2,\"column_2\"] = \"Hello\"\n",
    "try:\n",
    "    df1.column_2.mean()\n",
    "except:\n",
    "    print(\"We get an error because we are trying to add a string and a numeric value which is not supported.\")"
   ]
  },
  {
   "cell_type": "markdown",
   "id": "40e96f1c-3f5c-4973-a572-d15e2a3d126a",
   "metadata": {},
   "source": [
    "### Question 6\n",
    "\n",
    "In pandas, the rolling function is used to create a rolling window object that can be used to apply a window function to a pandas Series or DataFrame.\n",
    "The rolling function has a parameter called window, which specifies the size of the window to be used for the rolling window calculation.\n",
    "\n",
    "1. mean() - Calculates the rolling mean (or moving average) of the data in the window.\n",
    "2. sum() - Calculates the rolling sum of the data in the window.\n",
    "3. max() - Calculates the rolling maximum of the data in the window.\n",
    "4. min() - Calculates the rolling minimum of the data in the window.\n",
    "5. count() - Counts the number of non-NaN values in the window.\n",
    "6. std() - Calculates the rolling standard deviation of the data in the window.\n",
    "7. var() - Calculates the rolling variance of the data in the window."
   ]
  },
  {
   "cell_type": "code",
   "execution_count": 30,
   "id": "04b1b995-3cef-42c0-a8a3-95e5a90a2549",
   "metadata": {},
   "outputs": [
    {
     "name": "stdout",
     "output_type": "stream",
     "text": [
      "Current month : 3 and Current year : 2023\n"
     ]
    }
   ],
   "source": [
    "# Question 7 \n",
    "\n",
    "print(f\"Current month : {pd.Timestamp.now().month} and Current year : {pd.Timestamp.now().year}\")"
   ]
  },
  {
   "cell_type": "code",
   "execution_count": 34,
   "id": "2456ad8d-c513-46ed-be25-6cf42ca72ad4",
   "metadata": {},
   "outputs": [
    {
     "name": "stdin",
     "output_type": "stream",
     "text": [
      "Enter the first date (YYYY-MM-DD):  20200101\n",
      "Enter the second date (YYYY-MM-DD):  20200102\n"
     ]
    },
    {
     "name": "stdout",
     "output_type": "stream",
     "text": [
      "The time difference between 2020-01-01 and 2020-01-02 is:\n",
      "Time difference is 1 days 00:00:00\n"
     ]
    }
   ],
   "source": [
    "# Question 8 \n",
    "# Prompt the user to enter the first date\n",
    "date1_str = input(\"Enter the first date (YYYY-MM-DD): \")\n",
    "date1 = pd.Timestamp(date1_str)\n",
    "\n",
    "# Prompt the user to enter the second date\n",
    "date2_str = input(\"Enter the second date (YYYY-MM-DD): \")\n",
    "date2 = pd.Timestamp(date2_str)\n",
    "\n",
    "# Calculate the time difference using Pandas time delta\n",
    "time_diff = date2 - date1\n",
    "\n",
    "# Extract the time difference in days, hours, and minutes\n",
    "days_diff = time_diff.days\n",
    "hours_diff = time_diff.seconds // 3600\n",
    "minutes_diff = (time_diff.seconds % 3600) // 60\n",
    "\n",
    "# Display the result\n",
    "print(f\"The time difference between {date1.date()} and {date2.date()} is:\")\n",
    "print(f\"Time difference is {time_diff}\")"
   ]
  },
  {
   "cell_type": "code",
   "execution_count": null,
   "id": "bfac35f3-3597-4888-9c67-cf0e0f33a6a0",
   "metadata": {},
   "outputs": [],
   "source": [
    "# Question 9\n",
    "\n",
    "file_path = input(\"Enter the file path: \")\n",
    "\n",
    "column_name = input(\"Enter the column name: \")\n",
    "\n",
    "category_order_str = input(\"Enter the category order (comma-separated): \")\n",
    "category_order = category_order_str.split(\",\")\n",
    "\n",
    "# Read the CSV file into a DataFrame\n",
    "df = pd.read_csv(file_path)\n",
    "\n",
    "# Convert the specified column to categorical with the specified category order\n",
    "df[column_name] = pd.Categorical(df[column_name], categories=category_order, ordered=True)\n",
    "\n",
    "# Sort the DataFrame by the categorical column\n",
    "df_sorted = df.sort_values(by=[column_name])\n",
    "\n",
    "# Display the sorted data\n",
    "print(df_sorted)\n"
   ]
  },
  {
   "cell_type": "code",
   "execution_count": 46,
   "id": "82fa58db-46ea-48e8-9a52-18d5a1efde9d",
   "metadata": {},
   "outputs": [
    {
     "name": "stdin",
     "output_type": "stream",
     "text": [
      "Enter the filepath :  sales.csv\n"
     ]
    },
    {
     "data": {
      "text/html": [
       "<div>\n",
       "<style scoped>\n",
       "    .dataframe tbody tr th:only-of-type {\n",
       "        vertical-align: middle;\n",
       "    }\n",
       "\n",
       "    .dataframe tbody tr th {\n",
       "        vertical-align: top;\n",
       "    }\n",
       "\n",
       "    .dataframe thead th {\n",
       "        text-align: right;\n",
       "    }\n",
       "</style>\n",
       "<table border=\"1\" class=\"dataframe\">\n",
       "  <thead>\n",
       "    <tr style=\"text-align: right;\">\n",
       "      <th></th>\n",
       "      <th>Sales</th>\n",
       "      <th>Product Category</th>\n",
       "      <th>Region</th>\n",
       "      <th>Client</th>\n",
       "    </tr>\n",
       "    <tr>\n",
       "      <th>Date</th>\n",
       "      <th></th>\n",
       "      <th></th>\n",
       "      <th></th>\n",
       "      <th></th>\n",
       "    </tr>\n",
       "  </thead>\n",
       "  <tbody>\n",
       "    <tr>\n",
       "      <th>2022-01-01</th>\n",
       "      <td>1000</td>\n",
       "      <td>Electronics</td>\n",
       "      <td>West</td>\n",
       "      <td>Client A</td>\n",
       "    </tr>\n",
       "    <tr>\n",
       "      <th>2022-01-01</th>\n",
       "      <td>1500</td>\n",
       "      <td>Clothing</td>\n",
       "      <td>West</td>\n",
       "      <td>Client B</td>\n",
       "    </tr>\n",
       "    <tr>\n",
       "      <th>2022-01-01</th>\n",
       "      <td>2000</td>\n",
       "      <td>Electronics</td>\n",
       "      <td>East</td>\n",
       "      <td>Client C</td>\n",
       "    </tr>\n",
       "    <tr>\n",
       "      <th>2022-01-01</th>\n",
       "      <td>500</td>\n",
       "      <td>Home Decor</td>\n",
       "      <td>North</td>\n",
       "      <td>Client D</td>\n",
       "    </tr>\n",
       "    <tr>\n",
       "      <th>2022-01-02</th>\n",
       "      <td>1200</td>\n",
       "      <td>Clothing</td>\n",
       "      <td>South</td>\n",
       "      <td>Client E</td>\n",
       "    </tr>\n",
       "    <tr>\n",
       "      <th>2022-01-02</th>\n",
       "      <td>800</td>\n",
       "      <td>Home Decor</td>\n",
       "      <td>West</td>\n",
       "      <td>Client F</td>\n",
       "    </tr>\n",
       "    <tr>\n",
       "      <th>2022-01-02</th>\n",
       "      <td>2500</td>\n",
       "      <td>Clothing</td>\n",
       "      <td>East</td>\n",
       "      <td>Client G</td>\n",
       "    </tr>\n",
       "    <tr>\n",
       "      <th>2022-01-02</th>\n",
       "      <td>1800</td>\n",
       "      <td>Electronics</td>\n",
       "      <td>North</td>\n",
       "      <td>Client H</td>\n",
       "    </tr>\n",
       "    <tr>\n",
       "      <th>2022-01-02</th>\n",
       "      <td>900</td>\n",
       "      <td>Home Decor</td>\n",
       "      <td>West</td>\n",
       "      <td>Client I</td>\n",
       "    </tr>\n",
       "    <tr>\n",
       "      <th>2022-01-13</th>\n",
       "      <td>3000</td>\n",
       "      <td>Clothing</td>\n",
       "      <td>South</td>\n",
       "      <td>Client J</td>\n",
       "    </tr>\n",
       "    <tr>\n",
       "      <th>2022-01-13</th>\n",
       "      <td>700</td>\n",
       "      <td>Electronics</td>\n",
       "      <td>East</td>\n",
       "      <td>Client K</td>\n",
       "    </tr>\n",
       "    <tr>\n",
       "      <th>2022-01-13</th>\n",
       "      <td>1500</td>\n",
       "      <td>Home Decor</td>\n",
       "      <td>North</td>\n",
       "      <td>Client L</td>\n",
       "    </tr>\n",
       "    <tr>\n",
       "      <th>2022-01-13</th>\n",
       "      <td>2200</td>\n",
       "      <td>Clothing</td>\n",
       "      <td>West</td>\n",
       "      <td>Client M</td>\n",
       "    </tr>\n",
       "    <tr>\n",
       "      <th>2022-01-13</th>\n",
       "      <td>1800</td>\n",
       "      <td>Electronics</td>\n",
       "      <td>East</td>\n",
       "      <td>Client N</td>\n",
       "    </tr>\n",
       "    <tr>\n",
       "      <th>2022-01-13</th>\n",
       "      <td>500</td>\n",
       "      <td>Home Decor</td>\n",
       "      <td>South</td>\n",
       "      <td>Client O</td>\n",
       "    </tr>\n",
       "    <tr>\n",
       "      <th>2022-01-13</th>\n",
       "      <td>900</td>\n",
       "      <td>Clothing</td>\n",
       "      <td>West</td>\n",
       "      <td>Client P</td>\n",
       "    </tr>\n",
       "    <tr>\n",
       "      <th>2022-01-17</th>\n",
       "      <td>1200</td>\n",
       "      <td>Electronics</td>\n",
       "      <td>East</td>\n",
       "      <td>Client Q</td>\n",
       "    </tr>\n",
       "    <tr>\n",
       "      <th>2022-01-17</th>\n",
       "      <td>800</td>\n",
       "      <td>Home Decor</td>\n",
       "      <td>North</td>\n",
       "      <td>Client R</td>\n",
       "    </tr>\n",
       "    <tr>\n",
       "      <th>2022-01-17</th>\n",
       "      <td>1600</td>\n",
       "      <td>Clothing</td>\n",
       "      <td>South</td>\n",
       "      <td>Client S</td>\n",
       "    </tr>\n",
       "    <tr>\n",
       "      <th>2022-01-27</th>\n",
       "      <td>1000</td>\n",
       "      <td>Electronics</td>\n",
       "      <td>West</td>\n",
       "      <td>Client T</td>\n",
       "    </tr>\n",
       "    <tr>\n",
       "      <th>2022-01-27</th>\n",
       "      <td>1900</td>\n",
       "      <td>Home Decor</td>\n",
       "      <td>East</td>\n",
       "      <td>Client U</td>\n",
       "    </tr>\n",
       "    <tr>\n",
       "      <th>2022-01-27</th>\n",
       "      <td>2300</td>\n",
       "      <td>Clothing</td>\n",
       "      <td>North</td>\n",
       "      <td>Client V</td>\n",
       "    </tr>\n",
       "    <tr>\n",
       "      <th>2022-01-27</th>\n",
       "      <td>400</td>\n",
       "      <td>Electronics</td>\n",
       "      <td>West</td>\n",
       "      <td>Client W</td>\n",
       "    </tr>\n",
       "    <tr>\n",
       "      <th>2022-01-29</th>\n",
       "      <td>1700</td>\n",
       "      <td>Home Decor</td>\n",
       "      <td>East</td>\n",
       "      <td>Client X</td>\n",
       "    </tr>\n",
       "    <tr>\n",
       "      <th>2022-01-29</th>\n",
       "      <td>2200</td>\n",
       "      <td>Clothing</td>\n",
       "      <td>South</td>\n",
       "      <td>Client Y</td>\n",
       "    </tr>\n",
       "    <tr>\n",
       "      <th>2022-01-29</th>\n",
       "      <td>3000</td>\n",
       "      <td>Electronics</td>\n",
       "      <td>West</td>\n",
       "      <td>Client Z</td>\n",
       "    </tr>\n",
       "    <tr>\n",
       "      <th>2022-01-30</th>\n",
       "      <td>2500</td>\n",
       "      <td>Home Decor</td>\n",
       "      <td>East</td>\n",
       "      <td>Client A</td>\n",
       "    </tr>\n",
       "    <tr>\n",
       "      <th>2022-01-30</th>\n",
       "      <td>1800</td>\n",
       "      <td>Clothing</td>\n",
       "      <td>North</td>\n",
       "      <td>Client B</td>\n",
       "    </tr>\n",
       "    <tr>\n",
       "      <th>2022-01-30</th>\n",
       "      <td>1400</td>\n",
       "      <td>Electronics</td>\n",
       "      <td>South</td>\n",
       "      <td>Client C</td>\n",
       "    </tr>\n",
       "    <tr>\n",
       "      <th>2022-01-30</th>\n",
       "      <td>900</td>\n",
       "      <td>Home Decor</td>\n",
       "      <td>West</td>\n",
       "      <td>Client D</td>\n",
       "    </tr>\n",
       "  </tbody>\n",
       "</table>\n",
       "</div>"
      ],
      "text/plain": [
       "            Sales Product Category Region    Client\n",
       "Date                                               \n",
       "2022-01-01   1000      Electronics   West  Client A\n",
       "2022-01-01   1500         Clothing   West  Client B\n",
       "2022-01-01   2000      Electronics   East  Client C\n",
       "2022-01-01    500       Home Decor  North  Client D\n",
       "2022-01-02   1200         Clothing  South  Client E\n",
       "2022-01-02    800       Home Decor   West  Client F\n",
       "2022-01-02   2500         Clothing   East  Client G\n",
       "2022-01-02   1800      Electronics  North  Client H\n",
       "2022-01-02    900       Home Decor   West  Client I\n",
       "2022-01-13   3000         Clothing  South  Client J\n",
       "2022-01-13    700      Electronics   East  Client K\n",
       "2022-01-13   1500       Home Decor  North  Client L\n",
       "2022-01-13   2200         Clothing   West  Client M\n",
       "2022-01-13   1800      Electronics   East  Client N\n",
       "2022-01-13    500       Home Decor  South  Client O\n",
       "2022-01-13    900         Clothing   West  Client P\n",
       "2022-01-17   1200      Electronics   East  Client Q\n",
       "2022-01-17    800       Home Decor  North  Client R\n",
       "2022-01-17   1600         Clothing  South  Client S\n",
       "2022-01-27   1000      Electronics   West  Client T\n",
       "2022-01-27   1900       Home Decor   East  Client U\n",
       "2022-01-27   2300         Clothing  North  Client V\n",
       "2022-01-27    400      Electronics   West  Client W\n",
       "2022-01-29   1700       Home Decor   East  Client X\n",
       "2022-01-29   2200         Clothing  South  Client Y\n",
       "2022-01-29   3000      Electronics   West  Client Z\n",
       "2022-01-30   2500       Home Decor   East  Client A\n",
       "2022-01-30   1800         Clothing  North  Client B\n",
       "2022-01-30   1400      Electronics  South  Client C\n",
       "2022-01-30    900       Home Decor   West  Client D"
      ]
     },
     "execution_count": 46,
     "metadata": {},
     "output_type": "execute_result"
    }
   ],
   "source": [
    "# Question 10\n",
    "\n",
    "filepath = input(\"Enter the filepath : \")\n",
    "\n",
    "sales_df = pd.read_csv(filepath, index_col = \"Date\", parse_dates = True)\n",
    "sales_df\n"
   ]
  },
  {
   "cell_type": "code",
   "execution_count": 64,
   "id": "58f400f3-bb25-45d7-a19e-f39d18f1cc3a",
   "metadata": {},
   "outputs": [
    {
     "data": {
      "text/plain": [
       "<AxesSubplot: xlabel='Date'>"
      ]
     },
     "execution_count": 64,
     "metadata": {},
     "output_type": "execute_result"
    },
    {
     "data": {
      "image/png": "[encoded data removed]",
      "text/plain": [
       "<Figure size 640x480 with 1 Axes>"
      ]
     },
     "metadata": {},
     "output_type": "display_data"
    }
   ],
   "source": [
    "grouped_df = sales_df.groupby(['Date',\"Product Category\"])[\"Sales\"].sum().reset_index()\n",
    "df_pivoted = grouped_df.pivot(index=\"Date\", columns=\"Product Category\", values=\"Sales\")\n",
    "df_pivoted.plot(kind='bar',stacked=True)"
   ]
  },
  {
   "cell_type": "code",
   "execution_count": null,
   "id": "a3b3cb4d-319a-4bd6-b10a-fdb8360b3f4a",
   "metadata": {},
   "outputs": [],
   "source": []
  },
  {
   "cell_type": "code",
   "execution_count": 67,
   "id": "58ee87a0-711e-4b1a-b0c6-6d6778a3daa2",
   "metadata": {},
   "outputs": [
    {
     "name": "stdin",
     "output_type": "stream",
     "text": [
      "Enter the filepath :  students.csv\n"
     ]
    },
    {
     "data": {
      "text/html": [
       "<div>\n",
       "<style scoped>\n",
       "    .dataframe tbody tr th:only-of-type {\n",
       "        vertical-align: middle;\n",
       "    }\n",
       "\n",
       "    .dataframe tbody tr th {\n",
       "        vertical-align: top;\n",
       "    }\n",
       "\n",
       "    .dataframe thead th {\n",
       "        text-align: right;\n",
       "    }\n",
       "</style>\n",
       "<table border=\"1\" class=\"dataframe\">\n",
       "  <thead>\n",
       "    <tr style=\"text-align: right;\">\n",
       "      <th></th>\n",
       "      <th>Statistics</th>\n",
       "      <th>Values</th>\n",
       "    </tr>\n",
       "  </thead>\n",
       "  <tbody>\n",
       "    <tr>\n",
       "      <th>0</th>\n",
       "      <td>Mean</td>\n",
       "      <td>83.5</td>\n",
       "    </tr>\n",
       "    <tr>\n",
       "      <th>1</th>\n",
       "      <td>Median</td>\n",
       "      <td>85.0</td>\n",
       "    </tr>\n",
       "    <tr>\n",
       "      <th>2</th>\n",
       "      <td>Mode</td>\n",
       "      <td>0    85\n",
       "Name: Test Score, dtype: int64</td>\n",
       "    </tr>\n",
       "  </tbody>\n",
       "</table>\n",
       "</div>"
      ],
      "text/plain": [
       "  Statistics                                  Values\n",
       "0       Mean                                    83.5\n",
       "1     Median                                    85.0\n",
       "2       Mode  0    85\n",
       "Name: Test Score, dtype: int64"
      ]
     },
     "execution_count": 67,
     "metadata": {},
     "output_type": "execute_result"
    }
   ],
   "source": [
    "# Question 11\n",
    "\n",
    "filepath = input(\"Enter the filepath : \")\n",
    "\n",
    "df = pd.read_csv(filepath)\n",
    "col = df[\"Test Score\"]\n",
    "stats = [\"Mean\", \"Median\", \"Mode\"]\n",
    "values = [col.mean(), col.median(), col.mode()]\n",
    "pd.DataFrame({\"Statistics\":stats, \"Values\":values})"
   ]
  },
  {
   "cell_type": "code",
   "execution_count": null,
   "id": "53b16d97-41d1-47c2-8ced-7ee37f694baf",
   "metadata": {},
   "outputs": [],
   "source": []
  }
 ],
 "metadata": {
  "kernelspec": {
   "display_name": "Python 3 (ipykernel)",
   "language": "python",
   "name": "python3"
  },
  "language_info": {
   "codemirror_mode": {
    "name": "ipython",
    "version": 3
   },
   "file_extension": ".py",
   "mimetype": "text/x-python",
   "name": "python",
   "nbconvert_exporter": "python",
   "pygments_lexer": "ipython3",
   "version": "3.10.8"
  }
 },
 "nbformat": 4,
 "nbformat_minor": 5
}
