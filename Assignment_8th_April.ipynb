{
 "cells": [
  {
   "cell_type": "markdown",
   "id": "76fbb8a3-3fee-4d8a-83a2-fbc8ca1f6199",
   "metadata": {},
   "source": [
    "### Question 1\n",
    "\n",
    "In order to predict house prices based on various characteristics, such as location, square footage, number of bedrooms, etc., the best regression metric to employ would be Mean Squared Error (MSE). MSE measures the average squared difference between the predicted and actual house prices. It provides a quantitative measure of how well the model's predictions match the true prices, which is crucial for regression tasks."
   ]
  },
  {
   "cell_type": "markdown",
   "id": "b93ba9e9-dd51-43ac-9cd2-d8a9b43d0d2b",
   "metadata": {},
   "source": [
    "### Question 2\n",
    "\n",
    "In order to predict house prices based on various characteristics, such as location, square footage, number of bedrooms, etc., the best regression metric to employ would be Mean Squared Error (MSE). MSE measures the average squared difference between the predicted and actual house prices. It provides a quantitative measure of how well the model's predictions match the true prices, which is crucial for regression tasks."
   ]
  },
  {
   "cell_type": "markdown",
   "id": "52203839-f837-45b8-a54b-55bf6cff2796",
   "metadata": {},
   "source": [
    "### Question 3\n",
    "\n",
    "When dealing with a dataset that has a significant number of outliers, the most appropriate regression metric to use with an SVM model is Mean Absolute Error (MAE). MAE is less sensitive to outliers than MSE because it calculates the average absolute differences between predicted and actual values. This makes it robust in scenarios where outliers can significantly impact the model's performance."
   ]
  },
  {
   "cell_type": "markdown",
   "id": "ea4364b8-02dc-4145-83e2-b59040f5ca73",
   "metadata": {},
   "source": [
    "### Question 4\n",
    "\n",
    "If both Mean Squared Error (MSE) and Root Mean Squared Error (RMSE) are very close in value for an SVM regression model with a polynomial kernel, it is advisable to choose RMSE as the evaluation metric. RMSE is essentially the square root of MSE and provides an interpretable metric in the same unit as the target variable. It is often preferred when the goal is to understand the typical magnitude of errors in the original scale."
   ]
  },
  {
   "cell_type": "markdown",
   "id": "cf6d1523-83e2-49d4-b579-56f038bb161c",
   "metadata": {},
   "source": [
    "### Question 5\n",
    "\n",
    "To measure how well the SVM regression models explain the variance in the target variable, the most appropriate metric is R-squared (R2). R2 quantifies the proportion of the variance in the dependent variable that is predictable from the independent variables. It provides an indication of how well the model captures the variability in the target variable, making it suitable for assessing explanatory power across different kernel types (linear, polynomial, RBF) and comparing their performance in explaining variance."
   ]
  }
 ],
 "metadata": {
  "kernelspec": {
   "display_name": "Python 3 (ipykernel)",
   "language": "python",
   "name": "python3"
  },
  "language_info": {
   "codemirror_mode": {
    "name": "ipython",
    "version": 3
   },
   "file_extension": ".py",
   "mimetype": "text/x-python",
   "name": "python",
   "nbconvert_exporter": "python",
   "pygments_lexer": "ipython3",
   "version": "3.10.8"
  }
 },
 "nbformat": 4,
 "nbformat_minor": 5
}
