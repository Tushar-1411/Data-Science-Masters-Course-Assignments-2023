{
 "cells": [
  {
   "cell_type": "code",
   "execution_count": 1,
   "id": "5401846e-e198-463f-8298-144ee4904bc5",
   "metadata": {},
   "outputs": [],
   "source": [
    "import numpy as np"
   ]
  },
  {
   "cell_type": "markdown",
   "id": "ca80c21a-f343-4904-a98c-107b5d2db969",
   "metadata": {},
   "source": [
    "### Question 1\n",
    "\n",
    "Three measure of central tendency are: \n",
    "1. Mean: Average of all the data points present in the data\n",
    "2. Median: Central data point inside the data\n",
    "3. Mode: Most frequent occuring element"
   ]
  },
  {
   "cell_type": "markdown",
   "id": "624a78d4-ebdf-4de4-afd5-fabb911d1a35",
   "metadata": {},
   "source": [
    "### Question 2\n",
    "\n",
    "1. Mean: The mean is the average of a set of data points. It is calculated by summing all the values in the dataset and dividing by the number of data points. The mean provides an estimate of the \"typical\" value in the dataset and is widely used in many statistical analyses.\n",
    "2. Median: The median is the middle value in a dataset when the data points are arranged in ascending or descending order. It is less sensitive to extreme values compared to the mean and provides a measure of the \"central\" value in the dataset.\n",
    "3. Mode: The mode is the value that appears most frequently in a dataset. It represents the most common value or category in the dataset."
   ]
  },
  {
   "cell_type": "code",
   "execution_count": 11,
   "id": "b4b67662-7c21-4936-b094-247043d834b6",
   "metadata": {},
   "outputs": [
    {
     "name": "stdout",
     "output_type": "stream",
     "text": [
      "Mean : 177.01875 \n",
      "Median : 180 \n",
      "Mode : [177.]\n"
     ]
    },
    {
     "name": "stderr",
     "output_type": "stream",
     "text": [
      "/tmp/ipykernel_1019/1151201445.py:8: FutureWarning: Unlike other reduction functions (e.g. `skew`, `kurtosis`), the default behavior of `mode` typically preserves the axis it acts along. In SciPy 1.11.0, this behavior will change: the default value of `keepdims` will become False, the `axis` over which the statistic is taken will be eliminated, and the value None will no longer be accepted. Set `keepdims` to True or False to avoid this warning.\n",
      "  mode = scipy.stats.mode(data, axis=None)[0]\n"
     ]
    }
   ],
   "source": [
    "# Question 3\n",
    "\n",
    "import scipy\n",
    "data = [178,177,176,177,178.2,178,175,179,180,175,178.9,176.2,177,172.5,178,176.5]\n",
    "\n",
    "mean = sum(data) / len(data)\n",
    "median = data[len(sorted(data)) // 2]\n",
    "mode = scipy.stats.mode(data, axis=None)[0]\n",
    "print(f\"Mean : {mean} \\nMedian : {median} \\nMode : {mode}\")"
   ]
  },
  {
   "cell_type": "code",
   "execution_count": 18,
   "id": "01edb5e0-4523-4277-907c-e3fefe05de80",
   "metadata": {},
   "outputs": [
    {
     "name": "stdout",
     "output_type": "stream",
     "text": [
      "1.7885814036548633 \n",
      " 1.7885814036548633\n"
     ]
    }
   ],
   "source": [
    "# Question 4\n",
    "    \n",
    "data = [178,177,176,177,178.2,178,175,179,180,175,178.9,176.2,177,172.5,178,176.5]\n",
    "\n",
    "mean = sum(data) / len(data)\n",
    "variance = sum([(x - mean)**2 for x in data]) / len(data)\n",
    "std_dev = variance **0.5\n",
    "print(std_dev,\"\\n\",np.std(data))"
   ]
  },
  {
   "cell_type": "markdown",
   "id": "cee882f5-a67e-46fd-959e-5d7ab209d149",
   "metadata": {},
   "source": [
    "### Question 5\n",
    "\n",
    "1. Range: The range is the simplest measure of dispersion, as it is the difference between the maximum and minimum values in a dataset. It provides an estimate of the extent of variation in the dataset. A larger range indicates a wider spread of data points, while a smaller range indicates a narrower spread.\n",
    "Example: Let's say you have a dataset of the heights (in inches) of a group of individuals: 65, 68, 70, 72, 75. The range of this dataset would be 75 - 65 = 10 inches, indicating that the heights vary by 10 inches across the dataset.\n",
    "\n",
    "2. Variance: Variance is a measure of how much the data points deviate from the mean of the dataset. It is calculated by averaging the squared differences between each data point and the mean. A higher variance indicates a greater spread or variability in the dataset, while a lower variance indicates less spread.\n",
    "Example: Using the same dataset of heights as above, the mean height is (65 + 68 + 70 + 72 + 75)/5 = 70 inches. The squared differences between each data point and the mean are: (65 - 70)^2 = 25, (68 - 70)^2 = 4, (70 - 70)^2 = 0, (72 - 70)^2 = 4, (75 - 70)^2 = 25. The sum of squared differences is 58. Dividing by the number of data points (5), the variance is 58/5 = 11.6 square inches.\n",
    "\n",
    "3. Standard deviation: The standard deviation is the square root of the variance and is commonly used to measure the variability or spread of data points in a dataset. It is expressed in the same units as the data, making it easier to interpret compared to the variance.\n",
    "Example: Continuing with the same height dataset, the variance is 11.6 square inches. Taking the square root of 11.6, the standard deviation is √11.6 ≈ 3.41 inches. This indicates that the heights vary by approximately 3.41 inches on average across the dataset.\n",
    "\n"
   ]
  },
  {
   "cell_type": "markdown",
   "id": "97fb3ff1-aafe-426e-a9da-6e5ca0d5a9e5",
   "metadata": {},
   "source": [
    "### Question 6 \n",
    "\n",
    "A venn diagram is a diagramatic representation of datasets under a universal set."
   ]
  },
  {
   "cell_type": "code",
   "execution_count": 22,
   "id": "6ad115e9-eed3-4a10-9d32-1eecc001c657",
   "metadata": {},
   "outputs": [
    {
     "name": "stdout",
     "output_type": "stream",
     "text": [
      "1. Intersection : {2, 6} \n",
      "2. Union : {0, 2, 3, 4, 5, 6, 7, 8, 10}\n"
     ]
    }
   ],
   "source": [
    "# Question 7\n",
    "A = {2,3,4,5,6,7}\n",
    "B = {0,2,6,8,10}\n",
    "\n",
    "union = A.union(B)\n",
    "intersection = A.intersection(B)\n",
    "\n",
    "print(f\"1. Intersection : {intersection} \\n2. Union : {union}\")"
   ]
  },
  {
   "cell_type": "markdown",
   "id": "a0a49da4-311f-414c-bf91-6ee5d981f23c",
   "metadata": {},
   "source": [
    "### Question 8\n",
    "\n",
    "Skewness in data refers to the asymmetry of the probability distribution of a dataset. Positive skewness indicates a longer tail towards higher values, negative skewness indicates a longer tail towards lower values, and zero skewness indicates a balanced distribution. Skewness is an important statistical measure that helps in understanding the shape and characteristics of a dataset, and it can be used to make meaningful interpretations in data analysis and decision-making."
   ]
  },
  {
   "cell_type": "markdown",
   "id": "e3a6e609-1cff-41ec-9ff1-56448f240ada",
   "metadata": {},
   "source": [
    "### Question 9\n",
    "\n",
    "If a dataset is right-skewed, meaning it has a longer tail towards higher values, then the position of the median with respect to the mean would typically be lower than the mean. In other words, the median would be closer to the lower end of the dataset compared to the mean"
   ]
  },
  {
   "cell_type": "markdown",
   "id": "e32c6878-68bb-43ff-886b-94ae7e7bf1a6",
   "metadata": {},
   "source": [
    "### Question 10\n",
    "\n",
    "1. Covariance: Covariance measures the extent to which two variables change together. It is a statistical measure that indicates the direction (positive or negative) and the strength of the linear relationship between two variables. Covariance can be calculated as the average of the product of the deviations of each variable from their respective means.\n",
    "\n",
    "2. Correlation: Correlation is a normalized version of covariance that measures the strength and direction of the linear relationship between two variables on a scale of -1 to 1. Correlation coefficient is a more standardized measure that allows for comparison across different datasets and scales."
   ]
  },
  {
   "cell_type": "markdown",
   "id": "1ecc0151-e61a-4925-ac1e-300593c252ba",
   "metadata": {},
   "source": [
    "### Question 11\n",
    "\n",
    "Sample Mean (x̄) = Σ(xi) / n\n",
    "\n",
    "To illustrate with an example, let's consider a dataset of 5 test scores: 80, 85, 90, 95, and 100. We can calculate the sample mean as follows:\n",
    "\n",
    "Sample Mean (x̄) = (80 + 85 + 90 + 95 + 100) / 5\n",
    "= 450 / 5\n",
    "= 90"
   ]
  },
  {
   "cell_type": "markdown",
   "id": "520f22fa-dc47-45e2-8ecd-ee52433c4b99",
   "metadata": {},
   "source": [
    "### Question 12\n",
    "\n",
    "The relationship between measures of central tendency (mean, median, and mode) in a normally distributed data is that they are all approximately equal. In a perfectly normal distribution, the mean, median, and mode will all coincide at the center of the distribution. This is because the normal distribution is symmetric and bell-shaped, with equal probability density on both sides of the mean. However, in real-world data, slight differences may exist due to sampling variability or other factors, but the measures of central tendency in a normally distributed data are generally close to each other."
   ]
  },
  {
   "cell_type": "markdown",
   "id": "1cfff9e6-b10d-4f8d-9361-581da7f58ea9",
   "metadata": {},
   "source": [
    "### Question 13\n",
    "\n",
    "Covariance measures the extent to which two variables change together. It is a measure of the linear association between two variables and can be positive, negative, or zero. A positive covariance indicates that as one variable increases, the other tends to increase, and vice versa. A negative covariance indicates that as one variable increases, the other tends to decrease, and vice versa. However, the magnitude of covariance does not provide a standardized measure of the strength or direction of the relationship.\n",
    "\n",
    "Correlation, on the other hand, measures the strength and direction of the linear relationship between two variables on a standardized scale, ranging from -1 (perfect negative correlation) to 1 (perfect positive correlation), with 0 indicating no correlation. Correlation accounts for both the strength and direction of the relationship between two variables, whereas covariance only accounts for the strength of the linear relationship."
   ]
  },
  {
   "cell_type": "markdown",
   "id": "f3ea134c-3552-4ca1-b84d-78f578459246",
   "metadata": {},
   "source": [
    "### Question 14\n",
    "\n",
    "Outliers can significantly affect measures of central tendency and dispersion. Outliers are data points that are significantly different from the rest of the data in a dataset. They can skew the values of measures of central tendency, such as the mean, and lead to inaccurate representations of the overall data.\n",
    "\n",
    "For example, consider a dataset of salaries of employees in a company, where most employees earn between $40,000 and $60,000 per year, but one executive earns $1 million per year. This extreme outlier would significantly affect the mean salary, pulling it much higher than the typical salary of employees. In this case, the mean would be inflated and may not accurately represent the central tendency of the data."
   ]
  },
  {
   "cell_type": "code",
   "execution_count": null,
   "id": "577d3d52-c94a-4124-b7d6-4bbeeecfccb6",
   "metadata": {},
   "outputs": [],
   "source": []
  }
 ],
 "metadata": {
  "kernelspec": {
   "display_name": "Python 3 (ipykernel)",
   "language": "python",
   "name": "python3"
  },
  "language_info": {
   "codemirror_mode": {
    "name": "ipython",
    "version": 3
   },
   "file_extension": ".py",
   "mimetype": "text/x-python",
   "name": "python",
   "nbconvert_exporter": "python",
   "pygments_lexer": "ipython3",
   "version": "3.10.8"
  }
 },
 "nbformat": 4,
 "nbformat_minor": 5
}
