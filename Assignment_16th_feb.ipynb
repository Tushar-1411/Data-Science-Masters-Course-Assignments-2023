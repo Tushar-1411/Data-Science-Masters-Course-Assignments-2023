{
 "cells": [
  {
   "cell_type": "markdown",
   "id": "98fce2c9-4f57-4069-aa5e-739eed092d6c",
   "metadata": {},
   "source": [
    "### **Ans1 :** \n",
    "\n",
    "A database is an organized collection of data that can be easily accessed, managed and updated.\n",
    "\n",
    "SQL (Structured Query Language) databases are relational databases that use tables to store data. SQL databases have a pre-defined schema, and all data stored in the database must adhere to that schema. SQL databases are generally best suited for applications that require complex querying, transactions, and data consistency. Examples of SQL databases include MySQL, Oracle, and PostgreSQL.\n",
    "\n",
    "NoSQL (Not Only SQL) databases are non-relational databases that do not use tables to store data. Instead, they use a variety of data models, such as key-value pairs, documents, and graphs. NoSQL databases are generally best suited for applications that require scalability, flexibility, and speed. Examples of NoSQL databases include MongoDB, Cassandra, and Redis."
   ]
  },
  {
   "cell_type": "markdown",
   "id": "879ba6d3-948a-494b-9ee8-04e29169efbf",
   "metadata": {},
   "source": [
    "### **Ans2 :**\n",
    "\n",
    "DDL stands for Data Definition Language and is used to define the database schema or structure. It includes statements used to create, modify and delete database structures such as tables, indexes, views, sequences, and other related database objects.\n",
    "\n",
    "1.  The CREATE statement is used to create a new database object such as a table, index, or view. For example, the following statement creates a new table named \"users\": \n",
    "\n",
    "CREATE TABLE users (\n",
    "   id INT PRIMARY KEY,\n",
    "   name VARCHAR(50),\n",
    "   email VARCHAR(100)\n",
    ");\n",
    "\n",
    "2.  The DROP statement is used to delete a database object such as a table or view. For example, the following statement deletes the \"users\" table:\n",
    "\n",
    "DROP TABLE users;\n",
    "\n",
    "3. The ALTER statement is used to modify the structure of an existing database object. For example, the following statement adds a new column named \"phone\" to the \"users\" table:\n",
    "\n",
    "ALTER TABLE users ADD phone VARCHAR(20);\n",
    "\n",
    "4. The TRUNCATE statement is used to delete all data from a table, but keeps the table structure intact. It is faster than the DELETE statement as it does not log individual row deletions. For example, the following statement deletes all data from the \"users\" table:\n",
    "\n",
    "TRUNCATE TABLE users;\n"
   ]
  },
  {
   "cell_type": "markdown",
   "id": "83608e96-cb2e-417d-91d7-f2ee3790eb5b",
   "metadata": {},
   "source": [
    "### **ANS 3:** \n",
    "\n",
    "DML stands for Data Manipulation Language, which is a subset of SQL that deals with data manipulation operations such as inserting, updating, and deleting records in a database.\n",
    "\n",
    "1. INSERT: The INSERT statement is used to add new records to a table. The syntax for INSERT statement is as follows:\n",
    "\n",
    "INSERT INTO table_name (column1, column2, column3, ...)\n",
    "VALUES (value1, value2, value3, ...);\n",
    "\n",
    "2. UPDATE: The UPDATE statement is used to modify existing records in a table. The syntax for UPDATE statement is as follows:\n",
    "\n",
    "UPDATE table_name\n",
    "SET column1 = value1, column2 = value2, ...\n",
    "WHERE condition;\n",
    "\n",
    "3. DELETE: The DELETE statement is used to delete existing records from a table. The syntax for DELETE statement is as follows:\n",
    "\n",
    "DELETE FROM table_name WHERE condition;\n"
   ]
  },
  {
   "cell_type": "code",
   "execution_count": null,
   "id": "ddf01426-e0e6-4ace-a785-7f5671cfca0d",
   "metadata": {},
   "outputs": [],
   "source": []
  },
  {
   "cell_type": "markdown",
   "id": "98169858-a45d-4892-85f8-a558b8c85306",
   "metadata": {},
   "source": [
    "### **ANS 4:**\n",
    "\n",
    "DQL stands for Data Query Language, which is used to retrieve data from a database. The most commonly used DQL statement is SELECT, which retrieves data from one or more tables based on certain criteria.\n",
    "\n",
    "The basic syntax of the SELECT statement is as follows:\n",
    "\n",
    "SELECT column1, column2, ...\n",
    "FROM table_name\n",
    "WHERE condition;\n"
   ]
  },
  {
   "cell_type": "markdown",
   "id": "84556b64-4812-42d1-9b15-7ba935326fd5",
   "metadata": {},
   "source": [
    "### **ANS 5:**\n",
    "\n",
    "In a relational database, a primary key is a column or a set of columns that uniquely identifies each row in a table. It is used to enforce the integrity and uniqueness of the data stored in a table.\n",
    "For example, consider a table named employees that contains information about employees in a company. A primary key for this table could be the employee ID, which is a unique identifier for each employee in the company.\n",
    "\n",
    "A foreign key is a column or a set of columns in a table that refers to the primary key of another table. It establishes a link between two tables and enables the creation of a parent-child relationship between them. \n",
    "For example, consider two tables named orders and customers. The orders table contains information about orders placed by customers, and the customers table contains information about customers. The orders table can have a foreign key column that refers to the primary key of the customers table. This establishes a link between the two tables, and enables the creation of a parent-child relationship between them."
   ]
  },
  {
   "cell_type": "code",
   "execution_count": null,
   "id": "163cdfea-8f72-4b5c-91ae-754ef0af68b7",
   "metadata": {},
   "outputs": [],
   "source": []
  },
  {
   "cell_type": "code",
   "execution_count": null,
   "id": "dfd4cff5-3dc7-4ef5-9fd9-2cfc9337559f",
   "metadata": {},
   "outputs": [],
   "source": [
    "import mysql.connector\n",
    "\n",
    "# Connect to MySQL database\n",
    "mydb = mysql.connector.connect(\n",
    "  host=\"localhost\",\n",
    "  user=\"yourusername\",\n",
    "  password=\"yourpassword\",\n",
    "  database=\"mydatabase\"\n",
    ")\n",
    "\n",
    "# Create a cursor object\n",
    "mycursor = mydb.cursor()\n",
    "\n",
    "# Execute a SQL query\n",
    "mycursor.execute(\"SELECT * FROM customers\")\n",
    "\n",
    "# Fetch all rows using fetchall() method\n",
    "result = mycursor.fetchall()\n",
    "\n",
    "# Print the result\n",
    "for row in result:\n",
    "  print(row)\n"
   ]
  },
  {
   "cell_type": "markdown",
   "id": "595c957a-f5fa-4895-ab53-bc2f45aba186",
   "metadata": {
    "tags": []
   },
   "source": [
    "### Question 7 \n",
    "\n",
    "The order of execution of SQL clauses in an SQL query is as follows:\n",
    "\n",
    "1. FROM\n",
    "2. JOIN\n",
    "3. WHERE\n",
    "4. GROUP BY\n",
    "5. HAVING\n",
    "6. SELECT\n",
    "7. DISTINCT\n",
    "8. ORDER BY\n",
    "9. LIMIT/OFFSET\n"
   ]
  },
  {
   "cell_type": "code",
   "execution_count": null,
   "id": "bcdbf5c2-4271-4ebe-9585-f14c142f8353",
   "metadata": {},
   "outputs": [],
   "source": []
  }
 ],
 "metadata": {
  "kernelspec": {
   "display_name": "Python 3 (ipykernel)",
   "language": "python",
   "name": "python3"
  },
  "language_info": {
   "codemirror_mode": {
    "name": "ipython",
    "version": 3
   },
   "file_extension": ".py",
   "mimetype": "text/x-python",
   "name": "python",
   "nbconvert_exporter": "python",
   "pygments_lexer": "ipython3",
   "version": "3.10.8"
  }
 },
 "nbformat": 4,
 "nbformat_minor": 5
}
