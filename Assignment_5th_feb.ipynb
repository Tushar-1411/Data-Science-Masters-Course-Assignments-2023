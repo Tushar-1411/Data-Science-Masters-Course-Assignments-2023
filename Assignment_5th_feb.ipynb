{
 "cells": [
  {
   "cell_type": "markdown",
   "id": "75740880-8752-48c1-84e4-884e4ce40374",
   "metadata": {},
   "source": [
    "**Ans1**: A class is a blueprint or classification of a real world entity such as students, cars, vehicles etc. An object is something which can be uniquely distinguished by its set of properties and attributes.\n",
    "\n",
    "ex: vehicle is a class. swift dzire of red color is an object"
   ]
  },
  {
   "cell_type": "markdown",
   "id": "9c99abd9-2bb6-4c07-9c9d-c03f3942d692",
   "metadata": {},
   "source": [
    "**Ans2**: Four pillars of OOP's are Inheritance, polymorphism, Encapsulation and Abstraction "
   ]
  },
  {
   "cell_type": "markdown",
   "id": "401c7081-5729-4ce9-97be-aca6e8976adb",
   "metadata": {},
   "source": [
    "**Ans3**: __init__ method is used to invoke a constructor of a class to pass in the data during object creation.\n",
    "\n",
    "Example: Let's suppose we have a student class. Rohan is an object of that class. Rohan = student(\"Rohan\",123)\n",
    "\n",
    "here the data passed in the student class will be invoked by the __init__ method"
   ]
  },
  {
   "cell_type": "markdown",
   "id": "44de0df5-27f4-442e-b695-ef1acfb6d0d1",
   "metadata": {},
   "source": [
    "**Ans4**: Self is used as an reference to the class that the data passed belongs to that particular class"
   ]
  },
  {
   "cell_type": "markdown",
   "id": "a61f083b-b3a9-4e47-a7c6-e50bd9439457",
   "metadata": {},
   "source": [
    "**Ans5:** Inheritance is the property of acquiring the methods of a parent class by a child class"
   ]
  }
 ],
 "metadata": {
  "kernelspec": {
   "display_name": "Python 3 (ipykernel)",
   "language": "python",
   "name": "python3"
  },
  "language_info": {
   "codemirror_mode": {
    "name": "ipython",
    "version": 3
   },
   "file_extension": ".py",
   "mimetype": "text/x-python",
   "name": "python",
   "nbconvert_exporter": "python",
   "pygments_lexer": "ipython3",
   "version": "3.10.8"
  }
 },
 "nbformat": 4,
 "nbformat_minor": 5
}
