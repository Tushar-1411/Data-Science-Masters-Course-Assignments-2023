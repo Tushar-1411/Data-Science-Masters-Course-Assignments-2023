{
 "cells": [
  {
   "cell_type": "markdown",
   "id": "88663fc9-d2fc-4af1-be49-3161853152b5",
   "metadata": {},
   "source": [
    "### Question 1\n",
    "\n",
    "Multithreading is the ability of a program to run multiple threads concurrently. In Python, multithreading refers to the use of multiple threads within a single program. Each thread can run independently and perform different tasks simultaneously.\n",
    "\n",
    "Multithreading is used in Python to improve the performance of applications that need to perform multiple tasks concurrently.\n",
    "\n",
    "The module used to handle threads in Python is called \"threading\"."
   ]
  },
  {
   "cell_type": "markdown",
   "id": "5f8b049b-f6c0-457f-9094-7dadc02209c0",
   "metadata": {},
   "source": [
    "### Question 2\n",
    "\n",
    "The threading module in Python is used to create and manage threads in a Python program. \n",
    "\n",
    "1. activeCount(): This function returns the number of thread objects that are active in the current program. This includes both daemon and non-daemon threads.\n",
    "\n",
    "2. currentThread(): This function returns a reference to the thread object of the currently executing thread. This can be useful for debugging and for passing the thread object to other functions.\n",
    "\n",
    "3. enumerate(): This function returns a list of all thread objects that are currently active in the program. This includes both daemon and non-daemon threads. The order of the threads in the list is arbitrary."
   ]
  },
  {
   "cell_type": "markdown",
   "id": "c8997fd2-a25d-4749-810f-effc6566f74a",
   "metadata": {},
   "source": [
    "### Question 3\n",
    "\n",
    "1. run(): This function is called when a thread is started using the start() method. It is the entry point for the thread and contains the code that will be executed in the new thread.\n",
    "\n",
    "2. start(): This function starts a new thread by calling the run() method of the thread object. Once started, the new thread runs concurrently with the main thread of the program.\n",
    "\n",
    "3. join(): This function waits for a thread to complete its execution before the main thread continues to execute. When this function is called on a thread object, the main thread blocks until the thread completes its execution.\n",
    "\n",
    "4. isAlive(): This function returns a boolean value indicating whether a thread is currently running or not. If the thread is running, the function returns True. Otherwise, it returns False."
   ]
  },
  {
   "cell_type": "code",
   "execution_count": 2,
   "id": "d06515c6-2d48-469d-ab23-c00e03a81e31",
   "metadata": {},
   "outputs": [
    {
     "name": "stdout",
     "output_type": "stream",
     "text": [
      "1 squared is 1\n",
      "2 squared is 4\n",
      "3 squared is 9\n",
      "4 squared is 16\n",
      "5 squared is 25\n",
      "1 cubed is 1\n",
      "2 cubed is 8\n",
      "3 cubed is 27\n",
      "4 cubed is 64\n",
      "5 cubed is 125\n",
      "Main thread exiting...\n"
     ]
    }
   ],
   "source": [
    "# Question 4\n",
    "\n",
    "import threading\n",
    "\n",
    "def print_squares():\n",
    "    for i in range(1, 6):\n",
    "        print(f\"{i} squared is {i**2}\")\n",
    "\n",
    "def print_cubes():\n",
    "    for i in range(1, 6):\n",
    "        print(f\"{i} cubed is {i**3}\")\n",
    "\n",
    "if __name__ == \"__main__\":\n",
    "    # Create two thread objects\n",
    "    t1 = threading.Thread(target=print_squares)\n",
    "    t2 = threading.Thread(target=print_cubes)\n",
    "\n",
    "    # Start the threads\n",
    "    t1.start()\n",
    "    t2.start()\n",
    "\n",
    "    # Wait for the threads to finish\n",
    "    t1.join()\n",
    "    t2.join()\n",
    "\n",
    "    print(\"Main thread exiting...\")\n"
   ]
  },
  {
   "cell_type": "markdown",
   "id": "a479d657-d58e-407d-bf5f-efb121659d95",
   "metadata": {},
   "source": [
    "### Question 5\n",
    "\n",
    "Advantages of multithreading:\n",
    "\n",
    "1. Improved performance: Multithreading can improve the performance of a program by allowing it to execute multiple tasks simultaneously. This can result in faster execution times and better resource utilization.\n",
    "2. Better responsiveness: Multithreading can help to make a program more responsive by allowing it to handle user input and other events concurrently.\n",
    "3. Easier to implement: Multithreading can be easier to implement than multiprocessing, as it does not require interprocess communication or shared memory.\n",
    "\n",
    "Disadvantages of multithreading:\n",
    "\n",
    "1. Complexity: Multithreading can add complexity to a program, as it introduces the need to synchronize access to shared resources and avoid race conditions.\n",
    "2. Debugging and testing: Multithreaded programs can be more difficult to debug and test than single-threaded programs, as they have non-deterministic behavior and can exhibit race conditions.\n",
    "3. Overhead: Multithreading can introduce overhead in a program, as there is a cost associated with creating and managing threads. Additionally, if too many threads are used, this can result in a decrease in performance due to context switching and other overheads."
   ]
  },
  {
   "cell_type": "markdown",
   "id": "42f51e4d-a8da-464a-a39a-77081adf287d",
   "metadata": {},
   "source": [
    "### Question 6\n",
    "\n",
    "A deadlock occurs when two or more threads are waiting for each other to release a resource, such as a lock or a semaphore, that they need to proceed with their execution. This can result in a situation where none of the threads can make progress, and the program becomes stuck. Deadlocks are usually caused by improper resource management, such as holding a lock for too long or acquiring multiple locks in the wrong order.\n",
    "\n",
    "A race condition occurs when two or more threads access a shared resource concurrently, and the outcome depends on the timing of their execution. Race conditions can result in unexpected behavior, such as incorrect values or data corruption. Race conditions are usually caused by improper synchronization, such as not using locks or semaphores to protect shared resources."
   ]
  },
  {
   "cell_type": "code",
   "execution_count": null,
   "id": "465ccd63-b9e0-4894-9213-bafe7fe80570",
   "metadata": {},
   "outputs": [],
   "source": []
  }
 ],
 "metadata": {
  "kernelspec": {
   "display_name": "Python 3 (ipykernel)",
   "language": "python",
   "name": "python3"
  },
  "language_info": {
   "codemirror_mode": {
    "name": "ipython",
    "version": 3
   },
   "file_extension": ".py",
   "mimetype": "text/x-python",
   "name": "python",
   "nbconvert_exporter": "python",
   "pygments_lexer": "ipython3",
   "version": "3.10.8"
  }
 },
 "nbformat": 4,
 "nbformat_minor": 5
}
