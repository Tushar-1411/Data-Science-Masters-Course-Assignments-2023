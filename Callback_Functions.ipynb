{
 "cells": [
  {
   "cell_type": "code",
   "execution_count": 1,
   "id": "8460b552-3df5-4e54-aee9-05fee9debd91",
   "metadata": {
    "collapsed": true,
    "jupyter": {
     "outputs_hidden": true
    },
    "tags": []
   },
   "outputs": [
    {
     "name": "stdout",
     "output_type": "stream",
     "text": [
      "Requirement already satisfied: tensorflow in /opt/conda/lib/python3.10/site-packages (2.16.1)\n",
      "Requirement already satisfied: keras in /opt/conda/lib/python3.10/site-packages (3.0.5)\n",
      "Requirement already satisfied: astunparse>=1.6.0 in /opt/conda/lib/python3.10/site-packages (from tensorflow) (1.6.3)\n",
      "Requirement already satisfied: typing-extensions>=3.6.6 in /opt/conda/lib/python3.10/site-packages (from tensorflow) (4.4.0)\n",
      "Requirement already satisfied: h5py>=3.10.0 in /opt/conda/lib/python3.10/site-packages (from tensorflow) (3.10.0)\n",
      "Requirement already satisfied: absl-py>=1.0.0 in /opt/conda/lib/python3.10/site-packages (from tensorflow) (2.1.0)\n",
      "Requirement already satisfied: opt-einsum>=2.3.2 in /opt/conda/lib/python3.10/site-packages (from tensorflow) (3.3.0)\n",
      "Requirement already satisfied: tensorboard<2.17,>=2.16 in /opt/conda/lib/python3.10/site-packages (from tensorflow) (2.16.2)\n",
      "Requirement already satisfied: requests<3,>=2.21.0 in /opt/conda/lib/python3.10/site-packages (from tensorflow) (2.28.1)\n",
      "Requirement already satisfied: gast!=0.5.0,!=0.5.1,!=0.5.2,>=0.2.1 in /opt/conda/lib/python3.10/site-packages (from tensorflow) (0.5.4)\n",
      "Requirement already satisfied: wrapt>=1.11.0 in /opt/conda/lib/python3.10/site-packages (from tensorflow) (1.16.0)\n",
      "Requirement already satisfied: grpcio<2.0,>=1.24.3 in /opt/conda/lib/python3.10/site-packages (from tensorflow) (1.62.1)\n",
      "Requirement already satisfied: termcolor>=1.1.0 in /opt/conda/lib/python3.10/site-packages (from tensorflow) (2.4.0)\n",
      "Requirement already satisfied: protobuf!=4.21.0,!=4.21.1,!=4.21.2,!=4.21.3,!=4.21.4,!=4.21.5,<5.0.0dev,>=3.20.3 in /opt/conda/lib/python3.10/site-packages (from tensorflow) (4.21.11)\n",
      "Requirement already satisfied: setuptools in /opt/conda/lib/python3.10/site-packages (from tensorflow) (65.5.1)\n",
      "Requirement already satisfied: numpy<2.0.0,>=1.23.5 in /opt/conda/lib/python3.10/site-packages (from tensorflow) (1.23.5)\n",
      "Requirement already satisfied: ml-dtypes~=0.3.1 in /opt/conda/lib/python3.10/site-packages (from tensorflow) (0.3.2)\n",
      "Requirement already satisfied: flatbuffers>=23.5.26 in /opt/conda/lib/python3.10/site-packages (from tensorflow) (24.3.7)\n",
      "Requirement already satisfied: six>=1.12.0 in /opt/conda/lib/python3.10/site-packages (from tensorflow) (1.16.0)\n",
      "Requirement already satisfied: packaging in /opt/conda/lib/python3.10/site-packages (from tensorflow) (22.0)\n",
      "Requirement already satisfied: tensorflow-io-gcs-filesystem>=0.23.1 in /opt/conda/lib/python3.10/site-packages (from tensorflow) (0.36.0)\n",
      "Requirement already satisfied: google-pasta>=0.1.1 in /opt/conda/lib/python3.10/site-packages (from tensorflow) (0.2.0)\n",
      "Requirement already satisfied: libclang>=13.0.0 in /opt/conda/lib/python3.10/site-packages (from tensorflow) (16.0.6)\n",
      "Requirement already satisfied: namex in /opt/conda/lib/python3.10/site-packages (from keras) (0.0.7)\n",
      "Requirement already satisfied: rich in /opt/conda/lib/python3.10/site-packages (from keras) (13.7.1)\n",
      "Requirement already satisfied: dm-tree in /opt/conda/lib/python3.10/site-packages (from keras) (0.1.8)\n",
      "Requirement already satisfied: wheel<1.0,>=0.23.0 in /opt/conda/lib/python3.10/site-packages (from astunparse>=1.6.0->tensorflow) (0.38.4)\n",
      "Requirement already satisfied: charset-normalizer<3,>=2 in /opt/conda/lib/python3.10/site-packages (from requests<3,>=2.21.0->tensorflow) (2.1.1)\n",
      "Requirement already satisfied: idna<4,>=2.5 in /opt/conda/lib/python3.10/site-packages (from requests<3,>=2.21.0->tensorflow) (3.4)\n",
      "Requirement already satisfied: urllib3<1.27,>=1.21.1 in /opt/conda/lib/python3.10/site-packages (from requests<3,>=2.21.0->tensorflow) (1.26.13)\n",
      "Requirement already satisfied: certifi>=2017.4.17 in /opt/conda/lib/python3.10/site-packages (from requests<3,>=2.21.0->tensorflow) (2022.12.7)\n",
      "Requirement already satisfied: tensorboard-data-server<0.8.0,>=0.7.0 in /opt/conda/lib/python3.10/site-packages (from tensorboard<2.17,>=2.16->tensorflow) (0.7.2)\n",
      "Requirement already satisfied: markdown>=2.6.8 in /opt/conda/lib/python3.10/site-packages (from tensorboard<2.17,>=2.16->tensorflow) (3.6)\n",
      "Requirement already satisfied: werkzeug>=1.0.1 in /opt/conda/lib/python3.10/site-packages (from tensorboard<2.17,>=2.16->tensorflow) (3.0.1)\n",
      "Requirement already satisfied: markdown-it-py>=2.2.0 in /opt/conda/lib/python3.10/site-packages (from rich->keras) (3.0.0)\n",
      "Requirement already satisfied: pygments<3.0.0,>=2.13.0 in /opt/conda/lib/python3.10/site-packages (from rich->keras) (2.13.0)\n",
      "Requirement already satisfied: mdurl~=0.1 in /opt/conda/lib/python3.10/site-packages (from markdown-it-py>=2.2.0->rich->keras) (0.1.2)\n",
      "Requirement already satisfied: MarkupSafe>=2.1.1 in /opt/conda/lib/python3.10/site-packages (from werkzeug>=1.0.1->tensorboard<2.17,>=2.16->tensorflow) (2.1.1)\n"
     ]
    }
   ],
   "source": [
    "!pip install tensorflow keras"
   ]
  },
  {
   "cell_type": "code",
   "execution_count": 8,
   "id": "9fd49e62-c3ab-487d-870b-964bcdf3b297",
   "metadata": {},
   "outputs": [],
   "source": [
    "import pandas as pd\n",
    "import numpy as np\n",
    "import matplotlib.pyplot as plt\n",
    "import seaborn as sns\n",
    "import os\n",
    "\n",
    "import warnings\n",
    "warnings.filterwarnings(\"ignore\")"
   ]
  },
  {
   "cell_type": "code",
   "execution_count": 9,
   "id": "7d47f9f5-03bb-48ea-892f-91191bdd31f4",
   "metadata": {},
   "outputs": [
    {
     "name": "stderr",
     "output_type": "stream",
     "text": [
      "2024-03-15 07:07:02.995300: I external/local_tsl/tsl/cuda/cudart_stub.cc:32] Could not find cuda drivers on your machine, GPU will not be used.\n",
      "2024-03-15 07:07:03.000821: I external/local_tsl/tsl/cuda/cudart_stub.cc:32] Could not find cuda drivers on your machine, GPU will not be used.\n",
      "2024-03-15 07:07:03.076254: I tensorflow/core/platform/cpu_feature_guard.cc:210] This TensorFlow binary is optimized to use available CPU instructions in performance-critical operations.\n",
      "To enable the following instructions: AVX2 FMA, in other operations, rebuild TensorFlow with the appropriate compiler flags.\n",
      "2024-03-15 07:07:04.321073: W tensorflow/compiler/tf2tensorrt/utils/py_utils.cc:38] TF-TRT Warning: Could not find TensorRT\n"
     ]
    },
    {
     "name": "stdout",
     "output_type": "stream",
     "text": [
      "2.16.1\n",
      "3.0.5\n"
     ]
    }
   ],
   "source": [
    "import tensorflow as tf\n",
    "import keras\n",
    "from keras import layers\n",
    "\n",
    "print(tf.__version__)\n",
    "print(keras.__version__)"
   ]
  },
  {
   "cell_type": "code",
   "execution_count": 10,
   "id": "7e7ba6a4-da9c-4d7a-80fd-946c6e0b2bc2",
   "metadata": {},
   "outputs": [
    {
     "data": {
      "text/html": [
       "<div>\n",
       "<style scoped>\n",
       "    .dataframe tbody tr th:only-of-type {\n",
       "        vertical-align: middle;\n",
       "    }\n",
       "\n",
       "    .dataframe tbody tr th {\n",
       "        vertical-align: top;\n",
       "    }\n",
       "\n",
       "    .dataframe thead th {\n",
       "        text-align: right;\n",
       "    }\n",
       "</style>\n",
       "<table border=\"1\" class=\"dataframe\">\n",
       "  <thead>\n",
       "    <tr style=\"text-align: right;\">\n",
       "      <th></th>\n",
       "      <th>fixed acidity</th>\n",
       "      <th>volatile acidity</th>\n",
       "      <th>citric acid</th>\n",
       "      <th>residual sugar</th>\n",
       "      <th>chlorides</th>\n",
       "      <th>free sulfur dioxide</th>\n",
       "      <th>total sulfur dioxide</th>\n",
       "      <th>density</th>\n",
       "      <th>pH</th>\n",
       "      <th>sulphates</th>\n",
       "      <th>alcohol</th>\n",
       "      <th>quality</th>\n",
       "    </tr>\n",
       "  </thead>\n",
       "  <tbody>\n",
       "    <tr>\n",
       "      <th>0</th>\n",
       "      <td>7.4</td>\n",
       "      <td>0.70</td>\n",
       "      <td>0.00</td>\n",
       "      <td>1.9</td>\n",
       "      <td>0.076</td>\n",
       "      <td>11.0</td>\n",
       "      <td>34.0</td>\n",
       "      <td>0.9978</td>\n",
       "      <td>3.51</td>\n",
       "      <td>0.56</td>\n",
       "      <td>9.4</td>\n",
       "      <td>bad</td>\n",
       "    </tr>\n",
       "    <tr>\n",
       "      <th>1</th>\n",
       "      <td>7.8</td>\n",
       "      <td>0.88</td>\n",
       "      <td>0.00</td>\n",
       "      <td>2.6</td>\n",
       "      <td>0.098</td>\n",
       "      <td>25.0</td>\n",
       "      <td>67.0</td>\n",
       "      <td>0.9968</td>\n",
       "      <td>3.20</td>\n",
       "      <td>0.68</td>\n",
       "      <td>9.8</td>\n",
       "      <td>bad</td>\n",
       "    </tr>\n",
       "    <tr>\n",
       "      <th>2</th>\n",
       "      <td>7.8</td>\n",
       "      <td>0.76</td>\n",
       "      <td>0.04</td>\n",
       "      <td>2.3</td>\n",
       "      <td>0.092</td>\n",
       "      <td>15.0</td>\n",
       "      <td>54.0</td>\n",
       "      <td>0.9970</td>\n",
       "      <td>3.26</td>\n",
       "      <td>0.65</td>\n",
       "      <td>9.8</td>\n",
       "      <td>bad</td>\n",
       "    </tr>\n",
       "    <tr>\n",
       "      <th>3</th>\n",
       "      <td>11.2</td>\n",
       "      <td>0.28</td>\n",
       "      <td>0.56</td>\n",
       "      <td>1.9</td>\n",
       "      <td>0.075</td>\n",
       "      <td>17.0</td>\n",
       "      <td>60.0</td>\n",
       "      <td>0.9980</td>\n",
       "      <td>3.16</td>\n",
       "      <td>0.58</td>\n",
       "      <td>9.8</td>\n",
       "      <td>good</td>\n",
       "    </tr>\n",
       "    <tr>\n",
       "      <th>4</th>\n",
       "      <td>7.4</td>\n",
       "      <td>0.70</td>\n",
       "      <td>0.00</td>\n",
       "      <td>1.9</td>\n",
       "      <td>0.076</td>\n",
       "      <td>11.0</td>\n",
       "      <td>34.0</td>\n",
       "      <td>0.9978</td>\n",
       "      <td>3.51</td>\n",
       "      <td>0.56</td>\n",
       "      <td>9.4</td>\n",
       "      <td>bad</td>\n",
       "    </tr>\n",
       "  </tbody>\n",
       "</table>\n",
       "</div>"
      ],
      "text/plain": [
       "   fixed acidity  volatile acidity  citric acid  residual sugar  chlorides  \\\n",
       "0            7.4              0.70         0.00             1.9      0.076   \n",
       "1            7.8              0.88         0.00             2.6      0.098   \n",
       "2            7.8              0.76         0.04             2.3      0.092   \n",
       "3           11.2              0.28         0.56             1.9      0.075   \n",
       "4            7.4              0.70         0.00             1.9      0.076   \n",
       "\n",
       "   free sulfur dioxide  total sulfur dioxide  density    pH  sulphates  \\\n",
       "0                 11.0                  34.0   0.9978  3.51       0.56   \n",
       "1                 25.0                  67.0   0.9968  3.20       0.68   \n",
       "2                 15.0                  54.0   0.9970  3.26       0.65   \n",
       "3                 17.0                  60.0   0.9980  3.16       0.58   \n",
       "4                 11.0                  34.0   0.9978  3.51       0.56   \n",
       "\n",
       "   alcohol quality  \n",
       "0      9.4     bad  \n",
       "1      9.8     bad  \n",
       "2      9.8     bad  \n",
       "3      9.8    good  \n",
       "4      9.4     bad  "
      ]
     },
     "execution_count": 10,
     "metadata": {},
     "output_type": "execute_result"
    }
   ],
   "source": [
    "## Importing the dataset\n",
    "\n",
    "df = pd.read_csv(\"wine.csv\")\n",
    "df.head()"
   ]
  },
  {
   "cell_type": "markdown",
   "id": "774d29a1-8dd2-4505-9482-4f9b22e8627c",
   "metadata": {},
   "source": [
    "## EDA"
   ]
  },
  {
   "cell_type": "code",
   "execution_count": 11,
   "id": "34857947-63a9-4bda-aef8-66d1ae81a4b6",
   "metadata": {},
   "outputs": [
    {
     "data": {
      "text/plain": [
       "(1599, 12)"
      ]
     },
     "execution_count": 11,
     "metadata": {},
     "output_type": "execute_result"
    }
   ],
   "source": [
    "df.shape"
   ]
  },
  {
   "cell_type": "code",
   "execution_count": 12,
   "id": "7abc0773-b221-449c-bc0c-cc250214bdaa",
   "metadata": {},
   "outputs": [
    {
     "data": {
      "text/plain": [
       "fixed acidity           0\n",
       "volatile acidity        0\n",
       "citric acid             0\n",
       "residual sugar          0\n",
       "chlorides               0\n",
       "free sulfur dioxide     0\n",
       "total sulfur dioxide    0\n",
       "density                 0\n",
       "pH                      0\n",
       "sulphates               0\n",
       "alcohol                 0\n",
       "quality                 0\n",
       "dtype: int64"
      ]
     },
     "execution_count": 12,
     "metadata": {},
     "output_type": "execute_result"
    }
   ],
   "source": [
    "# Check null values\n",
    "\n",
    "df.isnull().sum()"
   ]
  },
  {
   "cell_type": "code",
   "execution_count": 13,
   "id": "8ce2e471-8506-4029-945d-eb0049e43030",
   "metadata": {},
   "outputs": [
    {
     "name": "stdout",
     "output_type": "stream",
     "text": [
      "<class 'pandas.core.frame.DataFrame'>\n",
      "RangeIndex: 1599 entries, 0 to 1598\n",
      "Data columns (total 12 columns):\n",
      " #   Column                Non-Null Count  Dtype  \n",
      "---  ------                --------------  -----  \n",
      " 0   fixed acidity         1599 non-null   float64\n",
      " 1   volatile acidity      1599 non-null   float64\n",
      " 2   citric acid           1599 non-null   float64\n",
      " 3   residual sugar        1599 non-null   float64\n",
      " 4   chlorides             1599 non-null   float64\n",
      " 5   free sulfur dioxide   1599 non-null   float64\n",
      " 6   total sulfur dioxide  1599 non-null   float64\n",
      " 7   density               1599 non-null   float64\n",
      " 8   pH                    1599 non-null   float64\n",
      " 9   sulphates             1599 non-null   float64\n",
      " 10  alcohol               1599 non-null   float64\n",
      " 11  quality               1599 non-null   object \n",
      "dtypes: float64(11), object(1)\n",
      "memory usage: 150.0+ KB\n"
     ]
    }
   ],
   "source": [
    "# Info about the dataset\n",
    "\n",
    "df.info()"
   ]
  },
  {
   "cell_type": "code",
   "execution_count": 14,
   "id": "f3075e07-b4e2-41ba-8d27-b2fbef453988",
   "metadata": {},
   "outputs": [
    {
     "data": {
      "text/html": [
       "<div>\n",
       "<style scoped>\n",
       "    .dataframe tbody tr th:only-of-type {\n",
       "        vertical-align: middle;\n",
       "    }\n",
       "\n",
       "    .dataframe tbody tr th {\n",
       "        vertical-align: top;\n",
       "    }\n",
       "\n",
       "    .dataframe thead th {\n",
       "        text-align: right;\n",
       "    }\n",
       "</style>\n",
       "<table border=\"1\" class=\"dataframe\">\n",
       "  <thead>\n",
       "    <tr style=\"text-align: right;\">\n",
       "      <th></th>\n",
       "      <th>count</th>\n",
       "      <th>mean</th>\n",
       "      <th>std</th>\n",
       "      <th>min</th>\n",
       "      <th>25%</th>\n",
       "      <th>50%</th>\n",
       "      <th>75%</th>\n",
       "      <th>max</th>\n",
       "    </tr>\n",
       "  </thead>\n",
       "  <tbody>\n",
       "    <tr>\n",
       "      <th>fixed acidity</th>\n",
       "      <td>1599.0</td>\n",
       "      <td>8.319637</td>\n",
       "      <td>1.741096</td>\n",
       "      <td>4.60000</td>\n",
       "      <td>7.1000</td>\n",
       "      <td>7.90000</td>\n",
       "      <td>9.200000</td>\n",
       "      <td>15.90000</td>\n",
       "    </tr>\n",
       "    <tr>\n",
       "      <th>volatile acidity</th>\n",
       "      <td>1599.0</td>\n",
       "      <td>0.527821</td>\n",
       "      <td>0.179060</td>\n",
       "      <td>0.12000</td>\n",
       "      <td>0.3900</td>\n",
       "      <td>0.52000</td>\n",
       "      <td>0.640000</td>\n",
       "      <td>1.58000</td>\n",
       "    </tr>\n",
       "    <tr>\n",
       "      <th>citric acid</th>\n",
       "      <td>1599.0</td>\n",
       "      <td>0.270976</td>\n",
       "      <td>0.194801</td>\n",
       "      <td>0.00000</td>\n",
       "      <td>0.0900</td>\n",
       "      <td>0.26000</td>\n",
       "      <td>0.420000</td>\n",
       "      <td>1.00000</td>\n",
       "    </tr>\n",
       "    <tr>\n",
       "      <th>residual sugar</th>\n",
       "      <td>1599.0</td>\n",
       "      <td>2.538806</td>\n",
       "      <td>1.409928</td>\n",
       "      <td>0.90000</td>\n",
       "      <td>1.9000</td>\n",
       "      <td>2.20000</td>\n",
       "      <td>2.600000</td>\n",
       "      <td>15.50000</td>\n",
       "    </tr>\n",
       "    <tr>\n",
       "      <th>chlorides</th>\n",
       "      <td>1599.0</td>\n",
       "      <td>0.087467</td>\n",
       "      <td>0.047065</td>\n",
       "      <td>0.01200</td>\n",
       "      <td>0.0700</td>\n",
       "      <td>0.07900</td>\n",
       "      <td>0.090000</td>\n",
       "      <td>0.61100</td>\n",
       "    </tr>\n",
       "    <tr>\n",
       "      <th>free sulfur dioxide</th>\n",
       "      <td>1599.0</td>\n",
       "      <td>15.874922</td>\n",
       "      <td>10.460157</td>\n",
       "      <td>1.00000</td>\n",
       "      <td>7.0000</td>\n",
       "      <td>14.00000</td>\n",
       "      <td>21.000000</td>\n",
       "      <td>72.00000</td>\n",
       "    </tr>\n",
       "    <tr>\n",
       "      <th>total sulfur dioxide</th>\n",
       "      <td>1599.0</td>\n",
       "      <td>46.467792</td>\n",
       "      <td>32.895324</td>\n",
       "      <td>6.00000</td>\n",
       "      <td>22.0000</td>\n",
       "      <td>38.00000</td>\n",
       "      <td>62.000000</td>\n",
       "      <td>289.00000</td>\n",
       "    </tr>\n",
       "    <tr>\n",
       "      <th>density</th>\n",
       "      <td>1599.0</td>\n",
       "      <td>0.996747</td>\n",
       "      <td>0.001887</td>\n",
       "      <td>0.99007</td>\n",
       "      <td>0.9956</td>\n",
       "      <td>0.99675</td>\n",
       "      <td>0.997835</td>\n",
       "      <td>1.00369</td>\n",
       "    </tr>\n",
       "    <tr>\n",
       "      <th>pH</th>\n",
       "      <td>1599.0</td>\n",
       "      <td>3.311113</td>\n",
       "      <td>0.154386</td>\n",
       "      <td>2.74000</td>\n",
       "      <td>3.2100</td>\n",
       "      <td>3.31000</td>\n",
       "      <td>3.400000</td>\n",
       "      <td>4.01000</td>\n",
       "    </tr>\n",
       "    <tr>\n",
       "      <th>sulphates</th>\n",
       "      <td>1599.0</td>\n",
       "      <td>0.658149</td>\n",
       "      <td>0.169507</td>\n",
       "      <td>0.33000</td>\n",
       "      <td>0.5500</td>\n",
       "      <td>0.62000</td>\n",
       "      <td>0.730000</td>\n",
       "      <td>2.00000</td>\n",
       "    </tr>\n",
       "    <tr>\n",
       "      <th>alcohol</th>\n",
       "      <td>1599.0</td>\n",
       "      <td>10.422983</td>\n",
       "      <td>1.065668</td>\n",
       "      <td>8.40000</td>\n",
       "      <td>9.5000</td>\n",
       "      <td>10.20000</td>\n",
       "      <td>11.100000</td>\n",
       "      <td>14.90000</td>\n",
       "    </tr>\n",
       "  </tbody>\n",
       "</table>\n",
       "</div>"
      ],
      "text/plain": [
       "                       count       mean        std      min      25%  \\\n",
       "fixed acidity         1599.0   8.319637   1.741096  4.60000   7.1000   \n",
       "volatile acidity      1599.0   0.527821   0.179060  0.12000   0.3900   \n",
       "citric acid           1599.0   0.270976   0.194801  0.00000   0.0900   \n",
       "residual sugar        1599.0   2.538806   1.409928  0.90000   1.9000   \n",
       "chlorides             1599.0   0.087467   0.047065  0.01200   0.0700   \n",
       "free sulfur dioxide   1599.0  15.874922  10.460157  1.00000   7.0000   \n",
       "total sulfur dioxide  1599.0  46.467792  32.895324  6.00000  22.0000   \n",
       "density               1599.0   0.996747   0.001887  0.99007   0.9956   \n",
       "pH                    1599.0   3.311113   0.154386  2.74000   3.2100   \n",
       "sulphates             1599.0   0.658149   0.169507  0.33000   0.5500   \n",
       "alcohol               1599.0  10.422983   1.065668  8.40000   9.5000   \n",
       "\n",
       "                           50%        75%        max  \n",
       "fixed acidity          7.90000   9.200000   15.90000  \n",
       "volatile acidity       0.52000   0.640000    1.58000  \n",
       "citric acid            0.26000   0.420000    1.00000  \n",
       "residual sugar         2.20000   2.600000   15.50000  \n",
       "chlorides              0.07900   0.090000    0.61100  \n",
       "free sulfur dioxide   14.00000  21.000000   72.00000  \n",
       "total sulfur dioxide  38.00000  62.000000  289.00000  \n",
       "density                0.99675   0.997835    1.00369  \n",
       "pH                     3.31000   3.400000    4.01000  \n",
       "sulphates              0.62000   0.730000    2.00000  \n",
       "alcohol               10.20000  11.100000   14.90000  "
      ]
     },
     "execution_count": 14,
     "metadata": {},
     "output_type": "execute_result"
    }
   ],
   "source": [
    "# Description\n",
    "\n",
    "df.describe().T"
   ]
  },
  {
   "cell_type": "code",
   "execution_count": 15,
   "id": "c0441dba-a3c3-496a-8286-36e406738c5e",
   "metadata": {},
   "outputs": [
    {
     "name": "stdout",
     "output_type": "stream",
     "text": [
      "quality "
     ]
    }
   ],
   "source": [
    "# Categorical variables identification\n",
    "\n",
    "for col in df.columns:\n",
    "    if df[col].nunique() < 15 and df[col].dtypes == 'object':\n",
    "        print(col, end = \" \")"
   ]
  },
  {
   "cell_type": "code",
   "execution_count": 16,
   "id": "9b19412a-7652-4667-b3f8-1e32b4e78d3f",
   "metadata": {},
   "outputs": [],
   "source": [
    "## Encoding the variables\n",
    "\n",
    "mapping = {\"good\" : 1, \"bad\" : 0}\n",
    "\n",
    "df[\"quality\"] = df.quality.map(mapping)"
   ]
  },
  {
   "cell_type": "code",
   "execution_count": 17,
   "id": "47b5313d-db22-4bca-a6be-30a0373dbc32",
   "metadata": {},
   "outputs": [
    {
     "data": {
      "text/plain": [
       "1    855\n",
       "0    744\n",
       "Name: quality, dtype: int64"
      ]
     },
     "execution_count": 17,
     "metadata": {},
     "output_type": "execute_result"
    }
   ],
   "source": [
    "df.quality.value_counts() # almost equal proportions no class imbalance"
   ]
  },
  {
   "cell_type": "code",
   "execution_count": 18,
   "id": "d6bcc973-5289-41c7-9f5d-e95cbecab890",
   "metadata": {},
   "outputs": [],
   "source": [
    "X = df.drop(\"quality\", axis = 1)\n",
    "y = df.quality.values"
   ]
  },
  {
   "cell_type": "code",
   "execution_count": 19,
   "id": "b1c884ee-9f5e-4689-b284-db36c80eda19",
   "metadata": {},
   "outputs": [
    {
     "name": "stdout",
     "output_type": "stream",
     "text": [
      "X_train : (1279, 11), y_train : (1279,)\n",
      "X_val : (160, 11),    y_val : (160,)\n",
      "X_test : (160, 11),   y_test : (160,)\n"
     ]
    }
   ],
   "source": [
    "## train test split\n",
    "import sklearn\n",
    "from sklearn.model_selection import train_test_split\n",
    "\n",
    "X_train, X_temp, y_train, y_temp = train_test_split(X, y, shuffle=True, random_state=42, test_size=0.2)\n",
    "\n",
    "X_val, X_test, y_val, y_test = train_test_split(X_temp, y_temp, shuffle=True, random_state=0, test_size=0.5)\n",
    "\n",
    "print(f\"X_train : {X_train.shape}, y_train : {y_train.shape}\")\n",
    "print(f\"X_val : {X_val.shape},    y_val : {y_val.shape}\")\n",
    "print(f\"X_test : {X_test.shape},   y_test : {y_test.shape}\")"
   ]
  },
  {
   "cell_type": "code",
   "execution_count": 20,
   "id": "dcc2fbac-d319-49be-b897-e2de7c233024",
   "metadata": {},
   "outputs": [],
   "source": [
    "## Feature scaling\n",
    "from sklearn.preprocessing import PowerTransformer\n",
    "\n",
    "scaler = PowerTransformer()\n",
    "\n",
    "X_train_scaled = scaler.fit_transform(X_train)\n",
    "X_val_scaled = scaler.transform(X_val)\n",
    "X_test_scaled = scaler.transform(X_test)"
   ]
  },
  {
   "cell_type": "code",
   "execution_count": 24,
   "id": "bbd1c109-87ac-4123-ad1e-749d7e65c444",
   "metadata": {},
   "outputs": [],
   "source": [
    "## Creating the model\n",
    "\n",
    "model = keras.Sequential([\n",
    "            layers.Dense(128, activation=\"relu\", name = \"input_layer\"),\n",
    "            layers.Dense(64, activation=\"relu\", name = \"hidden_layer_1\"),\n",
    "            layers.BatchNormalization(),\n",
    "            layers.Dense(32, activation=\"relu\", name = \"hidden_layer_2\"),\n",
    "            layers.Dense(1, activation=\"sigmoid\", name = \"output_layer\")\n",
    "])\n",
    "\n",
    "OPTIMIZER = \"Adam\"\n",
    "LOSS = \"binary_crossentropy\"\n",
    "METRICS = [\"accuracy\"]\n",
    "\n",
    "checkpoint_filepath = \"./model/checkpoint.model.keras\"\n",
    "log_dirs = \"./logs\"\n",
    "\n",
    "os.makedirs(log_dirs, exist_ok=True)\n",
    "\n",
    "my_callbacks = [\n",
    "    keras.callbacks.EarlyStopping(patience=10),\n",
    "    keras.callbacks.ModelCheckpoint(checkpoint_filepath),\n",
    "    keras.callbacks.TensorBoard(log_dir=log_dirs, histogram_freq=1),\n",
    "]\n",
    "\n",
    "model.compile(optimizer = OPTIMIZER, loss = LOSS, metrics = METRICS)"
   ]
  },
  {
   "cell_type": "code",
   "execution_count": 25,
   "id": "a7671582-dfa3-4fe6-a216-6affeafc6854",
   "metadata": {},
   "outputs": [
    {
     "name": "stdout",
     "output_type": "stream",
     "text": [
      "Epoch 1/30\n",
      "\u001b[1m20/20\u001b[0m \u001b[32m━━━━━━━━━━━━━━━━━━━━\u001b[0m\u001b[37m\u001b[0m \u001b[1m3s\u001b[0m 25ms/step - accuracy: 0.6245 - loss: 0.6419 - val_accuracy: 0.5125 - val_loss: 1.4751\n",
      "Epoch 2/30\n",
      "\u001b[1m20/20\u001b[0m \u001b[32m━━━━━━━━━━━━━━━━━━━━\u001b[0m\u001b[37m\u001b[0m \u001b[1m0s\u001b[0m 12ms/step - accuracy: 0.7986 - loss: 0.4589 - val_accuracy: 0.4875 - val_loss: 3.1608\n",
      "Epoch 3/30\n",
      "\u001b[1m20/20\u001b[0m \u001b[32m━━━━━━━━━━━━━━━━━━━━\u001b[0m\u001b[37m\u001b[0m \u001b[1m0s\u001b[0m 11ms/step - accuracy: 0.8082 - loss: 0.4436 - val_accuracy: 0.4938 - val_loss: 4.6270\n",
      "Epoch 4/30\n",
      "\u001b[1m20/20\u001b[0m \u001b[32m━━━━━━━━━━━━━━━━━━━━\u001b[0m\u001b[37m\u001b[0m \u001b[1m0s\u001b[0m 11ms/step - accuracy: 0.7974 - loss: 0.4263 - val_accuracy: 0.4938 - val_loss: 5.1642\n",
      "Epoch 5/30\n",
      "\u001b[1m20/20\u001b[0m \u001b[32m━━━━━━━━━━━━━━━━━━━━\u001b[0m\u001b[37m\u001b[0m \u001b[1m0s\u001b[0m 11ms/step - accuracy: 0.8179 - loss: 0.4121 - val_accuracy: 0.4750 - val_loss: 6.8368\n",
      "Epoch 6/30\n",
      "\u001b[1m20/20\u001b[0m \u001b[32m━━━━━━━━━━━━━━━━━━━━\u001b[0m\u001b[37m\u001b[0m \u001b[1m0s\u001b[0m 11ms/step - accuracy: 0.8294 - loss: 0.3884 - val_accuracy: 0.4750 - val_loss: 7.4506\n",
      "Epoch 7/30\n",
      "\u001b[1m20/20\u001b[0m \u001b[32m━━━━━━━━━━━━━━━━━━━━\u001b[0m\u001b[37m\u001b[0m \u001b[1m0s\u001b[0m 11ms/step - accuracy: 0.8357 - loss: 0.3842 - val_accuracy: 0.4750 - val_loss: 9.4233\n",
      "Epoch 8/30\n",
      "\u001b[1m20/20\u001b[0m \u001b[32m━━━━━━━━━━━━━━━━━━━━\u001b[0m\u001b[37m\u001b[0m \u001b[1m0s\u001b[0m 11ms/step - accuracy: 0.8535 - loss: 0.3428 - val_accuracy: 0.4750 - val_loss: 9.8937\n",
      "Epoch 9/30\n",
      "\u001b[1m20/20\u001b[0m \u001b[32m━━━━━━━━━━━━━━━━━━━━\u001b[0m\u001b[37m\u001b[0m \u001b[1m0s\u001b[0m 11ms/step - accuracy: 0.8566 - loss: 0.3483 - val_accuracy: 0.4750 - val_loss: 10.9532\n",
      "Epoch 10/30\n",
      "\u001b[1m20/20\u001b[0m \u001b[32m━━━━━━━━━━━━━━━━━━━━\u001b[0m\u001b[37m\u001b[0m \u001b[1m0s\u001b[0m 11ms/step - accuracy: 0.8744 - loss: 0.3205 - val_accuracy: 0.4812 - val_loss: 14.4132\n",
      "Epoch 11/30\n",
      "\u001b[1m20/20\u001b[0m \u001b[32m━━━━━━━━━━━━━━━━━━━━\u001b[0m\u001b[37m\u001b[0m \u001b[1m0s\u001b[0m 11ms/step - accuracy: 0.8936 - loss: 0.3102 - val_accuracy: 0.4750 - val_loss: 12.7367\n"
     ]
    }
   ],
   "source": [
    "history = model.fit(X_train_scaled, y_train, \n",
    "                    batch_size = 64, \n",
    "                    epochs = 30, \n",
    "                    callbacks = my_callbacks, \n",
    "                    validation_data= (X_val, y_val), \n",
    "                    verbose = 1)"
   ]
  },
  {
   "cell_type": "code",
   "execution_count": 26,
   "id": "eb66f9a5-4bf8-4da3-a385-be29f25cf2e5",
   "metadata": {},
   "outputs": [
    {
     "data": {
      "text/html": [
       "<pre style=\"white-space:pre;overflow-x:auto;line-height:normal;font-family:Menlo,'DejaVu Sans Mono',consolas,'Courier New',monospace\"><span style=\"font-weight: bold\">Model: \"sequential_1\"</span>\n",
       "</pre>\n"
      ],
      "text/plain": [
       "\u001b[1mModel: \"sequential_1\"\u001b[0m\n"
      ]
     },
     "metadata": {},
     "output_type": "display_data"
    },
    {
     "data": {
      "text/html": [
       "<pre style=\"white-space:pre;overflow-x:auto;line-height:normal;font-family:Menlo,'DejaVu Sans Mono',consolas,'Courier New',monospace\">┏━━━━━━━━━━━━━━━━━━━━━━━━━━━━━━━━━┳━━━━━━━━━━━━━━━━━━━━━━━━┳━━━━━━━━━━━━━━━┓\n",
       "┃<span style=\"font-weight: bold\"> Layer (type)                    </span>┃<span style=\"font-weight: bold\"> Output Shape           </span>┃<span style=\"font-weight: bold\">       Param # </span>┃\n",
       "┡━━━━━━━━━━━━━━━━━━━━━━━━━━━━━━━━━╇━━━━━━━━━━━━━━━━━━━━━━━━╇━━━━━━━━━━━━━━━┩\n",
       "│ input_layer (<span style=\"color: #0087ff; text-decoration-color: #0087ff\">Dense</span>)             │ (<span style=\"color: #00d7ff; text-decoration-color: #00d7ff\">None</span>, <span style=\"color: #00af00; text-decoration-color: #00af00\">128</span>)            │         <span style=\"color: #00af00; text-decoration-color: #00af00\">1,536</span> │\n",
       "├─────────────────────────────────┼────────────────────────┼───────────────┤\n",
       "│ hidden_layer_1 (<span style=\"color: #0087ff; text-decoration-color: #0087ff\">Dense</span>)          │ (<span style=\"color: #00d7ff; text-decoration-color: #00d7ff\">None</span>, <span style=\"color: #00af00; text-decoration-color: #00af00\">64</span>)             │         <span style=\"color: #00af00; text-decoration-color: #00af00\">8,256</span> │\n",
       "├─────────────────────────────────┼────────────────────────┼───────────────┤\n",
       "│ batch_normalization_1           │ (<span style=\"color: #00d7ff; text-decoration-color: #00d7ff\">None</span>, <span style=\"color: #00af00; text-decoration-color: #00af00\">64</span>)             │           <span style=\"color: #00af00; text-decoration-color: #00af00\">256</span> │\n",
       "│ (<span style=\"color: #0087ff; text-decoration-color: #0087ff\">BatchNormalization</span>)            │                        │               │\n",
       "├─────────────────────────────────┼────────────────────────┼───────────────┤\n",
       "│ hidden_layer_2 (<span style=\"color: #0087ff; text-decoration-color: #0087ff\">Dense</span>)          │ (<span style=\"color: #00d7ff; text-decoration-color: #00d7ff\">None</span>, <span style=\"color: #00af00; text-decoration-color: #00af00\">32</span>)             │         <span style=\"color: #00af00; text-decoration-color: #00af00\">2,080</span> │\n",
       "├─────────────────────────────────┼────────────────────────┼───────────────┤\n",
       "│ output_layer (<span style=\"color: #0087ff; text-decoration-color: #0087ff\">Dense</span>)            │ (<span style=\"color: #00d7ff; text-decoration-color: #00d7ff\">None</span>, <span style=\"color: #00af00; text-decoration-color: #00af00\">1</span>)              │            <span style=\"color: #00af00; text-decoration-color: #00af00\">33</span> │\n",
       "└─────────────────────────────────┴────────────────────────┴───────────────┘\n",
       "</pre>\n"
      ],
      "text/plain": [
       "┏━━━━━━━━━━━━━━━━━━━━━━━━━━━━━━━━━┳━━━━━━━━━━━━━━━━━━━━━━━━┳━━━━━━━━━━━━━━━┓\n",
       "┃\u001b[1m \u001b[0m\u001b[1mLayer (type)                   \u001b[0m\u001b[1m \u001b[0m┃\u001b[1m \u001b[0m\u001b[1mOutput Shape          \u001b[0m\u001b[1m \u001b[0m┃\u001b[1m \u001b[0m\u001b[1m      Param #\u001b[0m\u001b[1m \u001b[0m┃\n",
       "┡━━━━━━━━━━━━━━━━━━━━━━━━━━━━━━━━━╇━━━━━━━━━━━━━━━━━━━━━━━━╇━━━━━━━━━━━━━━━┩\n",
       "│ input_layer (\u001b[38;5;33mDense\u001b[0m)             │ (\u001b[38;5;45mNone\u001b[0m, \u001b[38;5;34m128\u001b[0m)            │         \u001b[38;5;34m1,536\u001b[0m │\n",
       "├─────────────────────────────────┼────────────────────────┼───────────────┤\n",
       "│ hidden_layer_1 (\u001b[38;5;33mDense\u001b[0m)          │ (\u001b[38;5;45mNone\u001b[0m, \u001b[38;5;34m64\u001b[0m)             │         \u001b[38;5;34m8,256\u001b[0m │\n",
       "├─────────────────────────────────┼────────────────────────┼───────────────┤\n",
       "│ batch_normalization_1           │ (\u001b[38;5;45mNone\u001b[0m, \u001b[38;5;34m64\u001b[0m)             │           \u001b[38;5;34m256\u001b[0m │\n",
       "│ (\u001b[38;5;33mBatchNormalization\u001b[0m)            │                        │               │\n",
       "├─────────────────────────────────┼────────────────────────┼───────────────┤\n",
       "│ hidden_layer_2 (\u001b[38;5;33mDense\u001b[0m)          │ (\u001b[38;5;45mNone\u001b[0m, \u001b[38;5;34m32\u001b[0m)             │         \u001b[38;5;34m2,080\u001b[0m │\n",
       "├─────────────────────────────────┼────────────────────────┼───────────────┤\n",
       "│ output_layer (\u001b[38;5;33mDense\u001b[0m)            │ (\u001b[38;5;45mNone\u001b[0m, \u001b[38;5;34m1\u001b[0m)              │            \u001b[38;5;34m33\u001b[0m │\n",
       "└─────────────────────────────────┴────────────────────────┴───────────────┘\n"
      ]
     },
     "metadata": {},
     "output_type": "display_data"
    },
    {
     "data": {
      "text/html": [
       "<pre style=\"white-space:pre;overflow-x:auto;line-height:normal;font-family:Menlo,'DejaVu Sans Mono',consolas,'Courier New',monospace\"><span style=\"font-weight: bold\"> Total params: </span><span style=\"color: #00af00; text-decoration-color: #00af00\">36,229</span> (141.52 KB)\n",
       "</pre>\n"
      ],
      "text/plain": [
       "\u001b[1m Total params: \u001b[0m\u001b[38;5;34m36,229\u001b[0m (141.52 KB)\n"
      ]
     },
     "metadata": {},
     "output_type": "display_data"
    },
    {
     "data": {
      "text/html": [
       "<pre style=\"white-space:pre;overflow-x:auto;line-height:normal;font-family:Menlo,'DejaVu Sans Mono',consolas,'Courier New',monospace\"><span style=\"font-weight: bold\"> Trainable params: </span><span style=\"color: #00af00; text-decoration-color: #00af00\">12,033</span> (47.00 KB)\n",
       "</pre>\n"
      ],
      "text/plain": [
       "\u001b[1m Trainable params: \u001b[0m\u001b[38;5;34m12,033\u001b[0m (47.00 KB)\n"
      ]
     },
     "metadata": {},
     "output_type": "display_data"
    },
    {
     "data": {
      "text/html": [
       "<pre style=\"white-space:pre;overflow-x:auto;line-height:normal;font-family:Menlo,'DejaVu Sans Mono',consolas,'Courier New',monospace\"><span style=\"font-weight: bold\"> Non-trainable params: </span><span style=\"color: #00af00; text-decoration-color: #00af00\">128</span> (512.00 B)\n",
       "</pre>\n"
      ],
      "text/plain": [
       "\u001b[1m Non-trainable params: \u001b[0m\u001b[38;5;34m128\u001b[0m (512.00 B)\n"
      ]
     },
     "metadata": {},
     "output_type": "display_data"
    },
    {
     "data": {
      "text/html": [
       "<pre style=\"white-space:pre;overflow-x:auto;line-height:normal;font-family:Menlo,'DejaVu Sans Mono',consolas,'Courier New',monospace\"><span style=\"font-weight: bold\"> Optimizer params: </span><span style=\"color: #00af00; text-decoration-color: #00af00\">24,068</span> (94.02 KB)\n",
       "</pre>\n"
      ],
      "text/plain": [
       "\u001b[1m Optimizer params: \u001b[0m\u001b[38;5;34m24,068\u001b[0m (94.02 KB)\n"
      ]
     },
     "metadata": {},
     "output_type": "display_data"
    },
    {
     "name": "stdout",
     "output_type": "stream",
     "text": [
      "None\n"
     ]
    }
   ],
   "source": [
    "print(model.summary())"
   ]
  },
  {
   "cell_type": "code",
   "execution_count": 27,
   "id": "efbbc2c6-ade3-45f0-8670-e5e502e4327a",
   "metadata": {
    "tags": []
   },
   "outputs": [
    {
     "name": "stdout",
     "output_type": "stream",
     "text": [
      "Params : [array([[-0.01065898,  0.22596638, -0.04328841, ...,  0.06703929,\n",
      "         0.2022897 ,  0.05881835],\n",
      "       [ 0.12986283,  0.1542811 ,  0.11271688, ...,  0.0651516 ,\n",
      "         0.04079777,  0.05135823],\n",
      "       [-0.00945504,  0.04174123, -0.079173  , ..., -0.1590851 ,\n",
      "        -0.18795899,  0.10115994],\n",
      "       ...,\n",
      "       [ 0.12181287, -0.19877385, -0.03065808, ...,  0.11011295,\n",
      "        -0.22072433,  0.01776065],\n",
      "       [-0.06472871, -0.00632626, -0.09012218, ..., -0.16857274,\n",
      "        -0.0624286 , -0.08830173],\n",
      "       [ 0.09936115, -0.07415241,  0.08467939, ...,  0.11867953,\n",
      "         0.12628905,  0.04947606]], dtype=float32), array([-0.02396321,  0.00214891, -0.01296287,  0.01993941, -0.01958255,\n",
      "        0.00128772,  0.00768061,  0.0217655 ,  0.01214214, -0.02305565,\n",
      "       -0.02394567,  0.00328961,  0.02198179,  0.02088718,  0.0141189 ,\n",
      "       -0.01088506,  0.04191541, -0.01076715, -0.02137228,  0.01856514,\n",
      "       -0.02006529,  0.01905001, -0.02549089, -0.01161786,  0.00501957,\n",
      "        0.00500488, -0.00405585, -0.01156025, -0.01281049,  0.00787091,\n",
      "        0.0191514 , -0.02305834,  0.02079627, -0.02502482, -0.03139764,\n",
      "        0.00913366, -0.01497973,  0.01296389,  0.01875991, -0.03870131,\n",
      "        0.00788072,  0.03161028,  0.01284761,  0.01861894, -0.00760747,\n",
      "       -0.03163778,  0.02798015, -0.01600699, -0.0203894 ,  0.00696188,\n",
      "       -0.01029547,  0.01199523, -0.01909424, -0.02521245,  0.00134914,\n",
      "        0.01271194, -0.03107356, -0.01589365, -0.0108817 , -0.03290426,\n",
      "       -0.02137615,  0.02967967,  0.04020057, -0.01364032,  0.02304114,\n",
      "        0.02148368,  0.01026067, -0.00553433,  0.00074676, -0.00450703,\n",
      "       -0.0148929 ,  0.00313528, -0.00238506,  0.01157774, -0.02542476,\n",
      "        0.00812664,  0.01768235, -0.03421779,  0.00516089,  0.02273891,\n",
      "       -0.00624208,  0.01391524,  0.02796147,  0.01623226, -0.00049238,\n",
      "        0.05295425, -0.05829848,  0.03208357,  0.03071438, -0.03755461,\n",
      "        0.00574082, -0.00329344, -0.03103985,  0.00376842,  0.00643431,\n",
      "        0.00714388, -0.01440183, -0.0172957 ,  0.0338852 ,  0.01567198,\n",
      "       -0.01141493,  0.00206639,  0.03764438, -0.00310301,  0.01356852,\n",
      "        0.00068631, -0.02735004,  0.01689387,  0.01055288, -0.01662681,\n",
      "       -0.00131485, -0.00924103, -0.00086417,  0.00143288,  0.00464688,\n",
      "       -0.0280534 , -0.00149505,  0.0031898 ,  0.00515125, -0.03035264,\n",
      "        0.00742757, -0.01615698, -0.01652406,  0.01747808,  0.02627105,\n",
      "        0.01588458,  0.00469957,  0.0021153 ], dtype=float32), array([[-0.0080844 , -0.10580654,  0.0180465 , ...,  0.04645497,\n",
      "         0.01093681,  0.11584841],\n",
      "       [-0.1034096 ,  0.04382395, -0.11806201, ..., -0.1871299 ,\n",
      "         0.01519771,  0.09765746],\n",
      "       [-0.03891763,  0.11327768,  0.06074155, ..., -0.11301327,\n",
      "        -0.11877857, -0.02707961],\n",
      "       ...,\n",
      "       [-0.17681901,  0.02360685,  0.01144751, ..., -0.09304932,\n",
      "         0.01592266, -0.11583568],\n",
      "       [-0.102151  ,  0.19767168,  0.07524178, ...,  0.00821717,\n",
      "         0.05006851, -0.07291676],\n",
      "       [ 0.01765484, -0.00709264, -0.13864133, ...,  0.06951763,\n",
      "        -0.0700197 ,  0.08005951]], dtype=float32), array([-0.01120257,  0.00287173, -0.01317401, -0.02091588, -0.01459981,\n",
      "       -0.00411827, -0.00731942, -0.01028109, -0.01026113,  0.00088734,\n",
      "        0.03372218, -0.00239491,  0.01381953, -0.00645127, -0.00583886,\n",
      "        0.01039313, -0.00986548,  0.03360985,  0.02787839,  0.0119126 ,\n",
      "       -0.02611125, -0.01807267, -0.00560808, -0.01070148, -0.00183354,\n",
      "        0.03404061,  0.03251399, -0.02431587,  0.03589882,  0.03946335,\n",
      "       -0.00392017,  0.00391494,  0.00789984, -0.01266142, -0.00959955,\n",
      "       -0.01466492, -0.01228304, -0.01266616, -0.02184871,  0.00256801,\n",
      "       -0.00050356, -0.01335128,  0.00421789,  0.00079193,  0.03193885,\n",
      "       -0.02915361, -0.02081913, -0.0026091 , -0.02423306,  0.01091122,\n",
      "       -0.01787839,  0.01140001,  0.01416851,  0.03360547, -0.02588293,\n",
      "        0.01466699, -0.00235383,  0.00254724,  0.02593906, -0.00277366,\n",
      "        0.01564339, -0.01425098, -0.00119412,  0.04519561], dtype=float32), array([1.0429511 , 0.9940545 , 1.0555902 , 1.0099502 , 0.99164   ,\n",
      "       1.040086  , 1.0470155 , 1.0360255 , 0.9939937 , 1.0400447 ,\n",
      "       1.0377598 , 1.0351686 , 0.9807353 , 1.0490832 , 1.019069  ,\n",
      "       1.0338923 , 1.0609175 , 1.0208105 , 1.0432957 , 1.0509536 ,\n",
      "       1.0022526 , 1.0197661 , 1.0553281 , 1.0330664 , 1.0105602 ,\n",
      "       1.0000452 , 1.0541115 , 1.0123883 , 1.0566293 , 1.035463  ,\n",
      "       1.0373235 , 1.0243144 , 1.0255208 , 1.0281491 , 1.0218471 ,\n",
      "       1.00625   , 1.0407141 , 1.0305046 , 1.0974786 , 1.0312985 ,\n",
      "       1.0244554 , 1.0527048 , 1.0345823 , 1.0147187 , 1.0139263 ,\n",
      "       1.0538038 , 1.0560752 , 1.0537264 , 1.0073713 , 0.99373317,\n",
      "       1.0207886 , 1.0046772 , 1.073966  , 0.9914107 , 1.059617  ,\n",
      "       1.0357796 , 1.0152042 , 1.0295553 , 0.9990595 , 1.0070968 ,\n",
      "       1.0013174 , 1.0500641 , 1.0516163 , 0.9961411 ], dtype=float32), array([-0.02055583, -0.00012246, -0.019103  , -0.00525181,  0.03238019,\n",
      "       -0.02115846, -0.02057692, -0.02610089,  0.02564984, -0.02785763,\n",
      "        0.01278932, -0.01181959, -0.00073344, -0.00804503,  0.01022432,\n",
      "        0.00934573, -0.02553393,  0.03565387,  0.0266689 , -0.00847605,\n",
      "        0.01594589, -0.01405342, -0.01874953, -0.00154983,  0.01447811,\n",
      "        0.0056758 ,  0.02906907,  0.00950648, -0.0374229 ,  0.00818381,\n",
      "       -0.00561383, -0.01355285,  0.03588697,  0.00118846, -0.00614915,\n",
      "        0.0110965 ,  0.01863045, -0.02149462,  0.01550701, -0.02866428,\n",
      "        0.024137  , -0.01730834,  0.00129493,  0.02359949, -0.0181599 ,\n",
      "       -0.00646105,  0.00541134,  0.00714855,  0.01085883,  0.00746129,\n",
      "       -0.00620034,  0.00212882, -0.05111849,  0.00507456,  0.00713288,\n",
      "       -0.02085161, -0.01170348, -0.02435387,  0.02504485, -0.02163628,\n",
      "       -0.01830447, -0.00856488,  0.00362785,  0.02298834], dtype=float32), array([1.99214965e-02, 2.71478206e-01, 1.69978980e-02, 2.85358615e-02,\n",
      "       2.74370098e-03, 1.75512247e-02, 6.84074592e-03, 3.96733843e-02,\n",
      "       2.88683827e-06, 4.69827056e-02, 3.35078627e-01, 2.03093156e-01,\n",
      "       1.51958019e-01, 1.38924822e-01, 1.36549965e-01, 6.36455119e-02,\n",
      "       3.79394025e-01, 3.49351853e-01, 9.94645804e-02, 1.34339370e-02,\n",
      "       9.34320614e-02, 3.45539413e-02, 5.81527315e-02, 7.36731365e-02,\n",
      "       1.06500044e-01, 2.77418494e-01, 2.69697398e-01, 1.24418207e-01,\n",
      "       1.91683192e-02, 9.77921262e-02, 2.41620000e-02, 1.82969123e-02,\n",
      "       1.10375285e-01, 5.82231320e-02, 2.22026616e-01, 8.21505189e-02,\n",
      "       1.37537897e-01, 1.39865473e-01, 3.48927490e-02, 2.51388550e-01,\n",
      "       6.75264001e-02, 3.54670845e-02, 3.65148872e-01, 2.40508452e-01,\n",
      "       4.47579712e-01, 1.06314749e-01, 5.79775758e-02, 9.27888975e-02,\n",
      "       7.61234760e-02, 2.13866219e-01, 1.02533363e-01, 1.81933835e-01,\n",
      "       6.72450289e-02, 1.05527997e-01, 8.76616165e-02, 6.12668181e-03,\n",
      "       1.74549446e-01, 5.06679602e-02, 2.23675877e-01, 8.15175101e-03,\n",
      "       1.26329944e-01, 8.85925815e-02, 7.35509172e-02, 3.77328306e-01],\n",
      "      dtype=float32), array([0.11406802, 0.1642149 , 0.11233421, 0.11531214, 0.1099994 ,\n",
      "       0.11238185, 0.11073142, 0.11773381, 0.10958353, 0.11694916,\n",
      "       0.14766046, 0.1699327 , 0.16893472, 0.13325806, 0.13534696,\n",
      "       0.12167069, 0.16704708, 0.16565159, 0.13203382, 0.11122803,\n",
      "       0.13050753, 0.11581676, 0.11847083, 0.13102645, 0.14895813,\n",
      "       0.1590747 , 0.13969412, 0.13641891, 0.11325934, 0.13082103,\n",
      "       0.11466561, 0.11340683, 0.13301702, 0.12760925, 0.15660226,\n",
      "       0.13736944, 0.13595666, 0.13996728, 0.1149614 , 0.15231642,\n",
      "       0.12094044, 0.1152854 , 0.16998507, 0.15885912, 0.15111603,\n",
      "       0.13197926, 0.12607335, 0.12090378, 0.13160816, 0.1554491 ,\n",
      "       0.13147311, 0.15751006, 0.1190701 , 0.13728628, 0.1248069 ,\n",
      "       0.11058383, 0.1610199 , 0.11997469, 0.14320871, 0.11103606,\n",
      "       0.13267776, 0.12651075, 0.12384393, 0.18540408], dtype=float32), array([[-0.14665966, -0.25421804, -0.13112903, ...,  0.19512627,\n",
      "        -0.1516536 , -0.23875186],\n",
      "       [-0.02787865,  0.20394449, -0.18496409, ...,  0.0099905 ,\n",
      "         0.16602446, -0.12031189],\n",
      "       [ 0.12362528,  0.03222475, -0.01442138, ...,  0.18527047,\n",
      "         0.20646468,  0.08671863],\n",
      "       ...,\n",
      "       [-0.04400871,  0.05046364,  0.03957831, ...,  0.14661185,\n",
      "        -0.06647799, -0.11120696],\n",
      "       [-0.03068085,  0.2022032 , -0.15885088, ...,  0.11850569,\n",
      "        -0.03988351,  0.251102  ],\n",
      "       [ 0.10230242, -0.05283004, -0.1325761 , ...,  0.23977675,\n",
      "         0.13284379,  0.08699617]], dtype=float32), array([-0.03309466,  0.00524533,  0.05104922,  0.01500524,  0.01392027,\n",
      "        0.01138098,  0.0081628 , -0.03220707, -0.01720764,  0.03127087,\n",
      "       -0.00759121,  0.01069617,  0.05283165,  0.02942432,  0.02471131,\n",
      "       -0.00124398,  0.00184158, -0.01891517,  0.01031989,  0.00399746,\n",
      "        0.01667553,  0.01917818, -0.00933317, -0.02309682, -0.01154704,\n",
      "        0.00733534,  0.01151587, -0.02241268,  0.0340952 , -0.01028705,\n",
      "        0.01137034,  0.04669571], dtype=float32), array([[-0.01131966],\n",
      "       [ 0.32689938],\n",
      "       [ 0.09441979],\n",
      "       [-0.37824693],\n",
      "       [ 0.2168657 ],\n",
      "       [ 0.36206108],\n",
      "       [ 0.35677826],\n",
      "       [-0.0540685 ],\n",
      "       [-0.4459854 ],\n",
      "       [ 0.26957107],\n",
      "       [-0.29918262],\n",
      "       [-0.36409637],\n",
      "       [ 0.20394555],\n",
      "       [ 0.35176182],\n",
      "       [ 0.06282748],\n",
      "       [ 0.25969592],\n",
      "       [-0.45532006],\n",
      "       [ 0.07403898],\n",
      "       [-0.4588536 ],\n",
      "       [-0.17608732],\n",
      "       [ 0.4296785 ],\n",
      "       [ 0.28447545],\n",
      "       [-0.37548107],\n",
      "       [-0.21856268],\n",
      "       [-0.12898438],\n",
      "       [ 0.23267324],\n",
      "       [-0.02618389],\n",
      "       [-0.0292253 ],\n",
      "       [ 0.24025342],\n",
      "       [-0.10613702],\n",
      "       [-0.24779259],\n",
      "       [ 0.15896098]], dtype=float32), array([0.02076866], dtype=float32)]\n"
     ]
    }
   ],
   "source": [
    "print(f\"Params : {model.get_weights()}\")"
   ]
  },
  {
   "cell_type": "code",
   "execution_count": 28,
   "id": "84494c74-d7d5-468d-931e-4ddcc158f1c2",
   "metadata": {},
   "outputs": [
    {
     "data": {
      "text/html": [
       "<div>\n",
       "<style scoped>\n",
       "    .dataframe tbody tr th:only-of-type {\n",
       "        vertical-align: middle;\n",
       "    }\n",
       "\n",
       "    .dataframe tbody tr th {\n",
       "        vertical-align: top;\n",
       "    }\n",
       "\n",
       "    .dataframe thead th {\n",
       "        text-align: right;\n",
       "    }\n",
       "</style>\n",
       "<table border=\"1\" class=\"dataframe\">\n",
       "  <thead>\n",
       "    <tr style=\"text-align: right;\">\n",
       "      <th></th>\n",
       "      <th>accuracy</th>\n",
       "      <th>loss</th>\n",
       "      <th>val_accuracy</th>\n",
       "      <th>val_loss</th>\n",
       "    </tr>\n",
       "  </thead>\n",
       "  <tbody>\n",
       "    <tr>\n",
       "      <th>0</th>\n",
       "      <td>0.695074</td>\n",
       "      <td>0.580840</td>\n",
       "      <td>0.51250</td>\n",
       "      <td>1.475075</td>\n",
       "    </tr>\n",
       "    <tr>\n",
       "      <th>1</th>\n",
       "      <td>0.781861</td>\n",
       "      <td>0.475080</td>\n",
       "      <td>0.48750</td>\n",
       "      <td>3.160833</td>\n",
       "    </tr>\n",
       "    <tr>\n",
       "      <th>2</th>\n",
       "      <td>0.802971</td>\n",
       "      <td>0.446070</td>\n",
       "      <td>0.49375</td>\n",
       "      <td>4.626954</td>\n",
       "    </tr>\n",
       "    <tr>\n",
       "      <th>3</th>\n",
       "      <td>0.807662</td>\n",
       "      <td>0.423788</td>\n",
       "      <td>0.49375</td>\n",
       "      <td>5.164228</td>\n",
       "    </tr>\n",
       "    <tr>\n",
       "      <th>4</th>\n",
       "      <td>0.825645</td>\n",
       "      <td>0.408139</td>\n",
       "      <td>0.47500</td>\n",
       "      <td>6.836756</td>\n",
       "    </tr>\n",
       "    <tr>\n",
       "      <th>5</th>\n",
       "      <td>0.839719</td>\n",
       "      <td>0.390206</td>\n",
       "      <td>0.47500</td>\n",
       "      <td>7.450636</td>\n",
       "    </tr>\n",
       "    <tr>\n",
       "      <th>6</th>\n",
       "      <td>0.844410</td>\n",
       "      <td>0.376079</td>\n",
       "      <td>0.47500</td>\n",
       "      <td>9.423305</td>\n",
       "    </tr>\n",
       "    <tr>\n",
       "      <th>7</th>\n",
       "      <td>0.844410</td>\n",
       "      <td>0.364260</td>\n",
       "      <td>0.47500</td>\n",
       "      <td>9.893706</td>\n",
       "    </tr>\n",
       "    <tr>\n",
       "      <th>8</th>\n",
       "      <td>0.853792</td>\n",
       "      <td>0.349834</td>\n",
       "      <td>0.47500</td>\n",
       "      <td>10.953220</td>\n",
       "    </tr>\n",
       "    <tr>\n",
       "      <th>9</th>\n",
       "      <td>0.865520</td>\n",
       "      <td>0.336411</td>\n",
       "      <td>0.48125</td>\n",
       "      <td>14.413196</td>\n",
       "    </tr>\n",
       "    <tr>\n",
       "      <th>10</th>\n",
       "      <td>0.880375</td>\n",
       "      <td>0.318933</td>\n",
       "      <td>0.47500</td>\n",
       "      <td>12.736748</td>\n",
       "    </tr>\n",
       "  </tbody>\n",
       "</table>\n",
       "</div>"
      ],
      "text/plain": [
       "    accuracy      loss  val_accuracy   val_loss\n",
       "0   0.695074  0.580840       0.51250   1.475075\n",
       "1   0.781861  0.475080       0.48750   3.160833\n",
       "2   0.802971  0.446070       0.49375   4.626954\n",
       "3   0.807662  0.423788       0.49375   5.164228\n",
       "4   0.825645  0.408139       0.47500   6.836756\n",
       "5   0.839719  0.390206       0.47500   7.450636\n",
       "6   0.844410  0.376079       0.47500   9.423305\n",
       "7   0.844410  0.364260       0.47500   9.893706\n",
       "8   0.853792  0.349834       0.47500  10.953220\n",
       "9   0.865520  0.336411       0.48125  14.413196\n",
       "10  0.880375  0.318933       0.47500  12.736748"
      ]
     },
     "execution_count": 28,
     "metadata": {},
     "output_type": "execute_result"
    }
   ],
   "source": [
    "history = pd.DataFrame(history.history)\n",
    "history"
   ]
  },
  {
   "cell_type": "code",
   "execution_count": 29,
   "id": "0be9f663-9e02-475c-84ea-79a4d3625897",
   "metadata": {},
   "outputs": [
    {
     "name": "stdout",
     "output_type": "stream",
     "text": [
      "\u001b[1m5/5\u001b[0m \u001b[32m━━━━━━━━━━━━━━━━━━━━\u001b[0m\u001b[37m\u001b[0m \u001b[1m0s\u001b[0m 2ms/step - accuracy: 0.7265 - loss: 0.5165 \n",
      "Test loss - 0.4991900324821472\n",
      "Test Accuracy - 0.7562500238418579\n"
     ]
    }
   ],
   "source": [
    "## Evaluation\n",
    "test_loss, test_accuracy = model.evaluate(X_test_scaled, y_test)\n",
    "\n",
    "print(f\"Test loss - {test_loss}\")\n",
    "print(f\"Test Accuracy - {test_accuracy}\")"
   ]
  },
  {
   "cell_type": "code",
   "execution_count": null,
   "id": "cfeb3f36-4f00-4d18-9f33-f053ba991c45",
   "metadata": {},
   "outputs": [],
   "source": []
  },
  {
   "cell_type": "code",
   "execution_count": null,
   "id": "fdaad810-6405-49bb-8f2a-5af3b590801b",
   "metadata": {},
   "outputs": [],
   "source": []
  }
 ],
 "metadata": {
  "kernelspec": {
   "display_name": "Python 3 (ipykernel)",
   "language": "python",
   "name": "python3"
  },
  "language_info": {
   "codemirror_mode": {
    "name": "ipython",
    "version": 3
   },
   "file_extension": ".py",
   "mimetype": "text/x-python",
   "name": "python",
   "nbconvert_exporter": "python",
   "pygments_lexer": "ipython3",
   "version": "3.10.8"
  }
 },
 "nbformat": 4,
 "nbformat_minor": 5
}
