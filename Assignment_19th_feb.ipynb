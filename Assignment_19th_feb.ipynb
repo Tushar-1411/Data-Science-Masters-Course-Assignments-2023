{
 "cells": [
  {
   "cell_type": "markdown",
   "id": "9e8f6321-ffe8-49f0-9648-0c6a8a2dade0",
   "metadata": {},
   "source": [
    "### Question 1\n",
    "\n",
    "Flask is a micro web framework written in Python. It is designed to be simple, lightweight, and extensible, which makes it a popular choice for building web applications and APIs.\n",
    "\n",
    "Advantages of Flask Framework include:\n",
    "\n",
    "1. Lightweight: Flask is a lightweight framework, making it easy to learn, use and deploy.\n",
    "\n",
    "2. Flexibility: Flask is a flexible framework that allows developers to use the tools and libraries of their choice to build their applications.\n",
    "\n",
    "3. Scalability: Flask is a scalable framework that can handle a large number of requests, making it suitable for building large-scale applications."
   ]
  },
  {
   "cell_type": "markdown",
   "id": "4f448b5c-d9d0-413a-8b5b-d21a1a039287",
   "metadata": {},
   "source": [
    "### Question 2\n",
    "\n",
    "from flask import Flask\n",
    "\n",
    "app = Flask(__name__)\n",
    "\n",
    "@app.route('/')\n",
    "def hello_world():\n",
    "    return 'Hello World!'\n",
    "\n",
    "if __name__ == '__main__':\n",
    "    app.run()\n"
   ]
  },
  {
   "cell_type": "markdown",
   "id": "cf19a3f8-bfd0-4cac-92da-501207c2dc8d",
   "metadata": {},
   "source": [
    "### Question 3\n",
    "\n",
    "In Flask, app routing refers to the process of mapping URLs to the functions that will handle those URLs. In other words, it's the process of defining the routes that will be available in your web application and what should happen when the user visits each of these routes."
   ]
  },
  {
   "cell_type": "markdown",
   "id": "452ec05c-4bc0-4d41-92be-ec61f80b5ef0",
   "metadata": {},
   "source": [
    "### Question 4\n",
    "\n",
    "from flask import Flask\n",
    "\n",
    "app = Flask(__name__)\n",
    "\n",
    "@app.route('/welcome')\n",
    "def welcome():\n",
    "    return 'Welcome to ABC Corporation'\n",
    "\n",
    "@app.route('/')\n",
    "def company_details():\n",
    "    return 'Company Name: ABC Corporation<br>Location: India<br>Contact Detail: 999-999-9999'\n",
    "\n",
    "if __name__ == '__main__':\n",
    "    app.run()\n"
   ]
  },
  {
   "cell_type": "markdown",
   "id": "7816faa4-3283-4df1-8642-d01cf3b6c4be",
   "metadata": {},
   "source": [
    "### Question 5\n",
    "\n",
    "from flask import Flask, url_for\n",
    "\n",
    "app = Flask(__name__)\n",
    "\n",
    "@app.route('/')\n",
    "def home():\n",
    "    return 'Hello, World!'\n",
    "\n",
    "@app.route('/user/<username>')\n",
    "def profile(username):\n",
    "    return f'Hello, {username}!'\n",
    "\n",
    "@app.route('/search')\n",
    "def search():\n",
    "    return 'Search Page'\n",
    "\n",
    "with app.test_request_context():\n",
    "    print(url_for('home'))\n",
    "    print(url_for('profile', username='John'))\n",
    "    print(url_for('search', q='Flask'))\n",
    "\n",
    "if __name__ == '__main__':\n",
    "    app.run()\n"
   ]
  },
  {
   "cell_type": "code",
   "execution_count": null,
   "id": "d35558be-ffa0-40cf-8dbd-19bac71d0df4",
   "metadata": {},
   "outputs": [],
   "source": []
  }
 ],
 "metadata": {
  "kernelspec": {
   "display_name": "Python 3 (ipykernel)",
   "language": "python",
   "name": "python3"
  },
  "language_info": {
   "codemirror_mode": {
    "name": "ipython",
    "version": 3
   },
   "file_extension": ".py",
   "mimetype": "text/x-python",
   "name": "python",
   "nbconvert_exporter": "python",
   "pygments_lexer": "ipython3",
   "version": "3.10.8"
  }
 },
 "nbformat": 4,
 "nbformat_minor": 5
}
