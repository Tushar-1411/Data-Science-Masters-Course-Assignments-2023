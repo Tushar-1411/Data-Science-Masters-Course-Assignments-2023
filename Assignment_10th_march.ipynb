{
 "cells": [
  {
   "cell_type": "markdown",
   "id": "7a86e8c0-ce36-4d23-8d77-6216fe10316d",
   "metadata": {},
   "source": [
    "### Question 1\n",
    "\n",
    "It is a specified observed numerical value used to estimate an unknown population parameter.\n",
    "\n",
    "1. Point Estimate : Single numerical value used to estimate an unknown population parameter.\n",
    "\n",
    "2. Interval Estimate : Range of values used to estimate an unknown population parameter."
   ]
  },
  {
   "cell_type": "code",
   "execution_count": 1,
   "id": "83684fcc-1626-4f88-8c5d-5892486c64f6",
   "metadata": {},
   "outputs": [
    {
     "name": "stdout",
     "output_type": "stream",
     "text": [
      "Population mean estimate: 50 (with a 95% confidence interval between 48.02 and 51.98)\n"
     ]
    }
   ],
   "source": [
    "# Question 2\n",
    "\n",
    "import scipy.stats as stats\n",
    "\n",
    "def estimate_population_mean(sample_mean, sample_std_dev, sample_size):\n",
    "    # Degrees of freedom for t-distribution (n-1)\n",
    "    degrees_of_freedom = sample_size - 1\n",
    "    \n",
    "    # Calculate the critical value for the desired confidence level (e.g., 95% confidence level)\n",
    "    confidence_level = 0.95\n",
    "    critical_value = stats.t.ppf((1 + confidence_level) / 2, degrees_of_freedom)\n",
    "    \n",
    "    # Calculate the margin of error\n",
    "    margin_of_error = critical_value * (sample_std_dev / (sample_size ** 0.5))\n",
    "    \n",
    "    # Calculate the lower and upper bounds of the confidence interval\n",
    "    lower_bound = sample_mean - margin_of_error\n",
    "    upper_bound = sample_mean + margin_of_error\n",
    "    \n",
    "    return lower_bound, upper_bound\n",
    "\n",
    "# Example usage:\n",
    "sample_mean = 50\n",
    "sample_std_dev = 10\n",
    "sample_size = 100\n",
    "\n",
    "lower_bound, upper_bound = estimate_population_mean(sample_mean, sample_std_dev, sample_size)\n",
    "print(f\"Population mean estimate: {sample_mean} (with a 95% confidence interval between {lower_bound:.2f} and {upper_bound:.2f})\")\n"
   ]
  },
  {
   "cell_type": "markdown",
   "id": "1c0ee064-27a7-4571-b5b6-03113db179b1",
   "metadata": {},
   "source": [
    "### Question 3\n",
    "\n",
    "Hypothesis testing is a formal procedure for investigating our ideas about the world using statistics¹. It is most often used by scientists to test specific predictions, called hypotheses, that arise from theories¹. There are 5 main steps in hypothesis testing: State your research hypothesis as a null (H0) and alternate hypothesis (Ha or H1), collect data in a way designed to test the hypothesis, perform an appropriate statistical test, decide whether to reject or fail to reject your null hypothesis, and present the findings in your results and discussion section¹.\n",
    "\n",
    "Hypothesis testing is important because it allows us to make probabilistic statements about population parameters based on sample data³. It provides a structured and rigorous way to test our ideas and predictions about the world, and helps us to draw conclusions that are supported by evidence. By following the steps of hypothesis testing, we can ensure that our conclusions are based on sound statistical reasoning and are not influenced by bias or other factors.\n"
   ]
  },
  {
   "cell_type": "markdown",
   "id": "1f9fde45-824e-494a-a24d-257a285b8afc",
   "metadata": {},
   "source": [
    "### Question 4\n",
    "\n",
    "Null Hypothesis (H0): The average weight of male college students is equal to or less than the average weight of female college students.\n",
    "Alternative Hypothesis (Ha): The average weight of male college students is greater than the average weight of female college students."
   ]
  },
  {
   "cell_type": "code",
   "execution_count": 2,
   "id": "d438b6eb-008b-418c-8190-bc6cb7765d15",
   "metadata": {},
   "outputs": [
    {
     "name": "stdout",
     "output_type": "stream",
     "text": [
      "Reject the null hypothesis. There is enough evidence to support the alternative hypothesis.\n"
     ]
    }
   ],
   "source": [
    "# Question 5\n",
    "\n",
    "import numpy as np\n",
    "import scipy.stats as stats\n",
    "\n",
    "def hypothesis_test(sample1, sample2, alpha=0.05):\n",
    "    # Calculate sample means and standard deviations\n",
    "    mean1 = np.mean(sample1)\n",
    "    mean2 = np.mean(sample2)\n",
    "    std_dev1 = np.std(sample1, ddof=1)  # Use ddof=1 for sample standard deviation\n",
    "    std_dev2 = np.std(sample2, ddof=1)\n",
    "    n1 = len(sample1)\n",
    "    n2 = len(sample2)\n",
    "\n",
    "    # Calculate the test statistic (t-value) for independent two-sample t-test\n",
    "    pooled_std_dev = np.sqrt(((n1 - 1) * std_dev1 ** 2 + (n2 - 1) * std_dev2 ** 2) / (n1 + n2 - 2))\n",
    "    t_value = (mean1 - mean2) / (pooled_std_dev * np.sqrt(1/n1 + 1/n2))\n",
    "\n",
    "    # Calculate degrees of freedom\n",
    "    degrees_of_freedom = n1 + n2 - 2\n",
    "\n",
    "    # Calculate the critical t-value for the desired alpha level and degrees of freedom\n",
    "    critical_t = stats.t.ppf(1 - alpha, degrees_of_freedom)\n",
    "\n",
    "    # Compare the t-value with the critical t-value to determine if the result is significant\n",
    "    if t_value > critical_t:\n",
    "        print(\"Reject the null hypothesis. There is enough evidence to support the alternative hypothesis.\")\n",
    "    else:\n",
    "        print(\"Fail to reject the null hypothesis. The data does not provide enough evidence to support the alternative hypothesis.\")\n",
    "\n",
    "# Example usage:\n",
    "sample_male = [70, 72, 68, 75, 74, 69, 71, 73]\n",
    "sample_female = [65, 68, 62, 67, 70, 64, 66, 69]\n",
    "\n",
    "hypothesis_test(sample_male, sample_female)\n"
   ]
  },
  {
   "cell_type": "markdown",
   "id": "32e6f155-b64f-4557-8067-81115b3f5554",
   "metadata": {},
   "source": [
    "### Question 6\n",
    "\n",
    "In statistical hypothesis testing, the null hypothesis (H0) is a statement of no effect or no difference, while the alternative hypothesis (Ha) is a statement that contradicts the null hypothesis and represents the effect or difference we want to investigate. The goal of hypothesis testing is to determine whether there is enough evidence in the sample data to support rejecting the null hypothesis in favor of the alternative hypothesis."
   ]
  },
  {
   "cell_type": "markdown",
   "id": "5fbdf66f-a19a-43a8-8c61-dbf1d67337ef",
   "metadata": {},
   "source": [
    "### Question 7\n",
    "Formulate the Hypotheses: State the null hypothesis (H0) and the alternative hypothesis (Ha) based on the research question or problem.\n",
    "\n",
    "1. Choose the Significance Level (α): Determine the level of significance (α), which represents the probability of making a Type I error (rejecting H0 when it is true). Common significance levels are 0.05 (5%) and 0.01 (1%).\n",
    "\n",
    "2. Select the Test Statistic: Choose an appropriate test statistic based on the type of data and the hypothesis being tested. The choice of test statistic depends on factors such as sample size, type of data, and assumptions.\n",
    "\n",
    "3. Compute the Test Statistic: Calculate the test statistic value using the sample data and the chosen test statistic formula.\n",
    "\n",
    "4. Determine the Critical Region: Identify the critical region or rejection region based on the significance level and the null hypothesis. The critical region is the range of values that leads to rejecting the null hypothesis.\n",
    "\n",
    "5. Calculate the p-value: Find the probability of observing the test statistic value or a more extreme value, assuming that the null hypothesis is true. The p-value represents the evidence against the null hypothesis.\n",
    "\n",
    "6. Make a Decision: Compare the p-value with the significance level (α). If the p-value is less than or equal to α, reject the null hypothesis in favor of the alternative hypothesis. If the p-value is greater than α, fail to reject the null hypothesis.\n",
    "\n",
    "7. Interpret the Results: Interpret the statistical results in the context of the problem and draw conclusions based on the hypothesis test."
   ]
  },
  {
   "cell_type": "markdown",
   "id": "e16624f0-8546-4f69-885a-2758005d5763",
   "metadata": {},
   "source": [
    "### Question 8\n",
    "\n",
    "The p-value (probability value) is a measure of the strength of evidence against the null hypothesis. It represents the probability of obtaining the observed results or more extreme results if the null hypothesis is true. In hypothesis testing, the p-value helps determine whether the data provides sufficient evidence to reject the null hypothesis in favor of the alternative hypothesis."
   ]
  },
  {
   "cell_type": "code",
   "execution_count": 3,
   "id": "672164a6-f78b-4b79-be67-de9b6ec763ee",
   "metadata": {},
   "outputs": [
    {
     "data": {
      "image/png": "[encoded data removed]",
      "text/plain": [
       "<Figure size 640x480 with 1 Axes>"
      ]
     },
     "metadata": {},
     "output_type": "display_data"
    }
   ],
   "source": [
    "# Question 9\n",
    "\n",
    "import numpy as np\n",
    "import matplotlib.pyplot as plt\n",
    "import scipy.stats as stats\n",
    "\n",
    "# Define the degrees of freedom\n",
    "degrees_of_freedom = 10\n",
    "\n",
    "# Generate a range of values for the t-distribution\n",
    "x = np.linspace(-4, 4, 1000)\n",
    "\n",
    "# Calculate the probability density function (PDF) for the t-distribution\n",
    "pdf = stats.t.pdf(x, df=degrees_of_freedom)\n",
    "\n",
    "# Plot the t-distribution\n",
    "plt.plot(x, pdf, label=f\"Degrees of Freedom: {degrees_of_freedom}\")\n",
    "plt.title(\"Student's t-distribution\")\n",
    "plt.xlabel(\"x\")\n",
    "plt.ylabel(\"Probability Density\")\n",
    "plt.legend()\n",
    "plt.grid(True)\n",
    "plt.show()"
   ]
  },
  {
   "cell_type": "code",
   "execution_count": 4,
   "id": "29ac3071-8667-4c37-ae6b-e14adfc9ad67",
   "metadata": {},
   "outputs": [
    {
     "name": "stdout",
     "output_type": "stream",
     "text": [
      "Two-sample t-test results:\n",
      "t-value: 0.7184212081070993\n",
      "p-value: 0.49294291575412963\n"
     ]
    }
   ],
   "source": [
    "# Question 10\n",
    "\n",
    "import numpy as np\n",
    "import scipy.stats as stats\n",
    "\n",
    "def two_sample_ttest(sample1, sample2):\n",
    "    # Calculate sample means and standard deviations\n",
    "    mean1 = np.mean(sample1)\n",
    "    mean2 = np.mean(sample2)\n",
    "    std_dev1 = np.std(sample1, ddof=1)  # Use ddof=1 for sample standard deviation\n",
    "    std_dev2 = np.std(sample2, ddof=1)\n",
    "    n1 = len(sample1)\n",
    "    n2 = len(sample2)\n",
    "\n",
    "    # Calculate the pooled standard deviation\n",
    "    pooled_std_dev = np.sqrt(((n1 - 1) * std_dev1 ** 2 + (n2 - 1) * std_dev2 ** 2) / (n1 + n2 - 2))\n",
    "\n",
    "    # Calculate the t-value\n",
    "    t_value = (mean1 - mean2) / (pooled_std_dev * np.sqrt(1/n1 + 1/n2))\n",
    "\n",
    "    # Calculate degrees of freedom\n",
    "    degrees_of_freedom = n1 + n2 - 2\n",
    "\n",
    "    # Calculate the p-value (two-tailed test)\n",
    "    p_value = 2 * (1 - stats.t.cdf(abs(t_value), degrees_of_freedom))\n",
    "\n",
    "    return t_value, p_value\n",
    "\n",
    "# Example usage:\n",
    "sample1 = [5, 7, 9, 8, 6]\n",
    "sample2 = [4, 6, 7, 5, 9]\n",
    "\n",
    "t_value, p_value = two_sample_ttest(sample1, sample2)\n",
    "print(\"Two-sample t-test results:\")\n",
    "print(f\"t-value: {t_value}\")\n",
    "print(f\"p-value: {p_value}\")\n"
   ]
  },
  {
   "cell_type": "markdown",
   "id": "38949482-27a3-477e-89bd-7ee27e49db1c",
   "metadata": {},
   "source": [
    "### Question 11\n",
    "\n",
    "Student's t-distribution is a probability distribution that arises in statistical inference when the sample size is small and the population standard deviation is unknown. It is a family of distributions, and the shape of the distribution depends on the degrees of freedom. The t-distribution is similar in shape to the standard normal distribution (z-distribution) but has heavier tails."
   ]
  },
  {
   "cell_type": "markdown",
   "id": "debebfcf-7513-47e5-ac0b-a5fa114a22dc",
   "metadata": {},
   "source": [
    "### Question 12\n",
    "\n",
    "The t-statistic (also known as the t-value) is a measure that quantifies the difference between a sample statistic and the corresponding population parameter, given the variability of the sample data. It is commonly used in hypothesis testing to assess the evidence against the null hypothesis."
   ]
  },
  {
   "cell_type": "code",
   "execution_count": 10,
   "id": "ab2d9f1d-4daf-455d-ba9a-5b9e8e84b62b",
   "metadata": {},
   "outputs": [
    {
     "name": "stdout",
     "output_type": "stream",
     "text": [
      "Population mean revenue estimate: $500.00 (with a 95% confidence interval between $485.79 and $514.21)\n"
     ]
    }
   ],
   "source": [
    "# Question 13\n",
    "\n",
    "import scipy.stats as stats\n",
    "\n",
    "# Given data\n",
    "sample_mean = 500\n",
    "sample_std_dev = 50\n",
    "sample_size = 50\n",
    "confidence_level = 0.95\n",
    "\n",
    "# Calculate standard error of the mean\n",
    "SE = sample_std_dev / (sample_size ** 0.5)\n",
    "\n",
    "# Calculate critical value for 95% confidence level and 49 degrees of freedom\n",
    "critical_value = stats.t.ppf((1 + confidence_level) / 2, df=sample_size - 1)\n",
    "\n",
    "# Calculate margin of error\n",
    "ME = critical_value * SE\n",
    "\n",
    "# Calculate the confidence interval\n",
    "lower_bound = sample_mean - ME\n",
    "upper_bound = sample_mean + ME\n",
    "\n",
    "print(f\"Population mean revenue estimate: ${sample_mean:.2f} (with a 95% confidence interval between ${lower_bound:.2f} and ${upper_bound:.2f})\")\n"
   ]
  },
  {
   "cell_type": "code",
   "execution_count": 11,
   "id": "e323acf0-c6ad-4bde-a6c0-3d50c69272e0",
   "metadata": {},
   "outputs": [
    {
     "name": "stdout",
     "output_type": "stream",
     "text": [
      "Reject the null hypothesis. There is enough evidence to support the alternative hypothesis.\n"
     ]
    }
   ],
   "source": [
    "# Question 14\n",
    "\n",
    "import scipy.stats as stats\n",
    "\n",
    "# Given data\n",
    "sample_mean = 8\n",
    "sample_std_dev = 3\n",
    "sample_size = 100\n",
    "hypothesized_mean = 10\n",
    "significance_level = 0.05\n",
    "\n",
    "# Calculate standard error of the mean\n",
    "SE = sample_std_dev / (sample_size ** 0.5)\n",
    "\n",
    "# Calculate t-statistic\n",
    "t_statistic = (sample_mean - hypothesized_mean) / SE\n",
    "\n",
    "# Calculate degrees of freedom\n",
    "degrees_of_freedom = sample_size - 1\n",
    "\n",
    "# Calculate the critical t-value for a two-tailed test with alpha = 0.05 and 99 degrees of freedom\n",
    "critical_t = stats.t.ppf(1 - significance_level / 2, df=degrees_of_freedom)\n",
    "\n",
    "# Compare t-statistic with critical t-value\n",
    "if abs(t_statistic) > critical_t:\n",
    "    print(\"Reject the null hypothesis. There is enough evidence to support the alternative hypothesis.\")\n",
    "else:\n",
    "    print(\"Fail to reject the null hypothesis. The data does not provide enough evidence to support the alternative hypothesis.\")\n"
   ]
  },
  {
   "cell_type": "code",
   "execution_count": 12,
   "id": "8e6f995e-a087-4768-9a7f-df854e17e336",
   "metadata": {},
   "outputs": [
    {
     "name": "stdout",
     "output_type": "stream",
     "text": [
      "Fail to reject the null hypothesis. The data does not provide enough evidence to support the alternative hypothesis.\n"
     ]
    }
   ],
   "source": [
    "# Question 15\n",
    "\n",
    "import scipy.stats as stats\n",
    "\n",
    "# Given data\n",
    "sample_mean = 4.8\n",
    "sample_std_dev = 0.5\n",
    "sample_size = 25\n",
    "hypothesized_mean = 5\n",
    "significance_level = 0.01\n",
    "\n",
    "# Calculate standard error of the mean\n",
    "SE = sample_std_dev / (sample_size ** 0.5)\n",
    "\n",
    "# Calculate t-statistic\n",
    "t_statistic = (sample_mean - hypothesized_mean) / SE\n",
    "\n",
    "# Calculate degrees of freedom\n",
    "degrees_of_freedom = sample_size - 1\n",
    "\n",
    "# Calculate the critical t-value for a one-tailed test with alpha = 0.01 and 24 degrees of freedom\n",
    "critical_t = stats.t.ppf(significance_level, df=degrees_of_freedom)\n",
    "\n",
    "# Compare t-statistic with critical t-value\n",
    "if t_statistic < critical_t:\n",
    "    print(\"Reject the null hypothesis. There is enough evidence to support the alternative hypothesis.\")\n",
    "else:\n",
    "    print(\"Fail to reject the null hypothesis. The data does not provide enough evidence to support the alternative hypothesis.\")\n"
   ]
  },
  {
   "cell_type": "code",
   "execution_count": 13,
   "id": "74c5b0b5-b694-4652-a909-9f3ec84ea70b",
   "metadata": {},
   "outputs": [
    {
     "name": "stdout",
     "output_type": "stream",
     "text": [
      "Fail to reject the null hypothesis. The data does not provide enough evidence to support the alternative hypothesis.\n"
     ]
    }
   ],
   "source": [
    "# Question 16\n",
    "\n",
    "import scipy.stats as stats\n",
    "\n",
    "# Given data for Group 1\n",
    "mean1 = 80\n",
    "std_dev1 = 10\n",
    "sample_size1 = 30\n",
    "\n",
    "# Given data for Group 2\n",
    "mean2 = 75\n",
    "std_dev2 = 8\n",
    "sample_size2 = 40\n",
    "\n",
    "# Calculate pooled standard deviation\n",
    "pooled_std_dev = ((std_dev1 ** 2 * (sample_size1 - 1) + std_dev2 ** 2 * (sample_size2 - 1)) / (sample_size1 + sample_size2 - 2)) ** 0.5\n",
    "\n",
    "# Calculate t-statistic\n",
    "t_statistic = (mean1 - mean2) / (pooled_std_dev * ((1 / sample_size1) + (1 / sample_size2)) ** 0.5)\n",
    "\n",
    "# Calculate degrees of freedom\n",
    "degrees_of_freedom = sample_size1 + sample_size2 - 2\n",
    "\n",
    "# Calculate the critical t-value for a two-tailed test with alpha = 0.01 and degrees of freedom\n",
    "critical_t = stats.t.ppf(1 - 0.01 / 2, df=degrees_of_freedom)\n",
    "\n",
    "# Compare t-statistic with critical t-value\n",
    "if abs(t_statistic) > critical_t:\n",
    "    print(\"Reject the null hypothesis. There is enough evidence to support the alternative hypothesis.\")\n",
    "else:\n",
    "    print(\"Fail to reject the null hypothesis. The data does not provide enough evidence to support the alternative hypothesis.\")\n"
   ]
  },
  {
   "cell_type": "code",
   "execution_count": 14,
   "id": "8b019a91-797a-4011-bc72-d83f21c36fbd",
   "metadata": {},
   "outputs": [
    {
     "name": "stdout",
     "output_type": "stream",
     "text": [
      "Population mean estimate: 4.00 (with a 99% confidence interval between 3.43 and 4.57)\n"
     ]
    }
   ],
   "source": [
    "# Question 17\n",
    "\n",
    "import scipy.stats as stats\n",
    "\n",
    "# Given data\n",
    "sample_mean = 4\n",
    "sample_std_dev = 1.5\n",
    "sample_size = 50\n",
    "confidence_level = 0.99\n",
    "\n",
    "# Calculate standard error of the mean\n",
    "SE = sample_std_dev / (sample_size ** 0.5)\n",
    "\n",
    "# Calculate critical value for 99% confidence level and 49 degrees of freedom\n",
    "critical_value = stats.t.ppf((1 + confidence_level) / 2, df=sample_size - 1)\n",
    "\n",
    "# Calculate margin of error\n",
    "ME = critical_value * SE\n",
    "\n",
    "# Calculate the confidence interval\n",
    "lower_bound = sample_mean - ME\n",
    "upper_bound = sample_mean + ME\n",
    "\n",
    "print(f\"Population mean estimate: {sample_mean:.2f} (with a 99% confidence interval between {lower_bound:.2f} and {upper_bound:.2f})\")\n"
   ]
  }
 ],
 "metadata": {
  "kernelspec": {
   "display_name": "Python 3 (ipykernel)",
   "language": "python",
   "name": "python3"
  },
  "language_info": {
   "codemirror_mode": {
    "name": "ipython",
    "version": 3
   },
   "file_extension": ".py",
   "mimetype": "text/x-python",
   "name": "python",
   "nbconvert_exporter": "python",
   "pygments_lexer": "ipython3",
   "version": "3.10.8"
  }
 },
 "nbformat": 4,
 "nbformat_minor": 5
}
