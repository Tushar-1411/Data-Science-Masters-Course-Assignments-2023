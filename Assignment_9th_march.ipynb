{
 "cells": [
  {
   "cell_type": "markdown",
   "id": "ef46902b-ded7-40cb-8a7a-73a4f3ddc5fc",
   "metadata": {},
   "source": [
    "### Question 1\n",
    "\n",
    "1. Probability Mass Function (PMF) is used to describe the probability distribution of a discrete random variable. It gives the probability of each possible outcome of the random variable. PMF is typically used for discrete random variables, such as the outcome of a coin toss or the number of occurrences of an event.\n",
    "For example, consider a fair six-sided die.\n",
    "\n",
    "2. Probability Density Function (PDF) is used to describe the probability distribution of a continuous random variable. It gives the probability density at each possible value of the random variable. PDF is typically used for continuous random variables, such as height or weight measurements.\n",
    "For example, consider the height of adult males in a population."
   ]
  },
  {
   "cell_type": "markdown",
   "id": "5ad43513-1c4e-4d19-a1fd-af82a6321c28",
   "metadata": {},
   "source": [
    "### Question 2\n",
    "\n",
    "Cumulative Density Function (CDF) is a function used to describe the cumulative probability distribution of a random variable. It gives the probability that a random variable takes on a value less than or equal to a given value.\n",
    "\n",
    "For example, consider a CDF for the outcome of rolling a fair six-sided die:\n",
    "cdf (X = 4) = pdf(X = 1) + pdf(X = 2) + pdf(X = 3) + pdf(X = 4)\n",
    "\n",
    "CDF is useful in determining the probability of a random variable taking on a value less than or equal to a specific value. It is commonly used in probability and statistics to calculate percentiles, determine confidence intervals, and make probability-based decisions."
   ]
  },
  {
   "cell_type": "markdown",
   "id": "1d3e66b6-dbeb-499a-a236-67a2cd4ba94f",
   "metadata": {},
   "source": [
    "### Question 3\n",
    "\n",
    "The normal distribution is commonly used as a model in situations where data is approximately symmetric and bell-shaped. Some examples of situations where the normal distribution might be used as a model include:\n",
    "1. Height or weight of a population\n",
    "2. Test scores\n",
    "\n",
    "The parameters of the normal distribution are the mean (μ) and the standard deviation (σ). The mean determines the location of the center of the distribution, while the standard deviation determines the spread or variability of the distribution. A larger standard deviation would result in a wider distribution, and a smaller standard deviation would result in a narrower distribution."
   ]
  },
  {
   "cell_type": "markdown",
   "id": "8ddfdf83-9526-490e-be3a-c2fcd8807e74",
   "metadata": {},
   "source": [
    "### Question 4\n",
    "\n",
    "The normal distribution is important in statistics and probability theory due to several reasons:\n",
    "\n",
    "1. It is a widely used model: The normal distribution is one of the most commonly used probability distributions in statistics and probability theory. Many real-world phenomena can be approximated by a normal distribution, making it a useful tool for modeling and analyzing data.\n",
    "\n",
    "2. Central Limit Theorem"
   ]
  },
  {
   "cell_type": "markdown",
   "id": "57b10cb8-03b2-4f4f-942c-d1334c903d95",
   "metadata": {},
   "source": [
    "### Question 5\n",
    "\n",
    "Bernoulli Distribution is a discrete probability distribution that models a random experiment with only two possible outcomes: success (1) or failure (0). It is used to represent a single trial of a binary event, where the probability of success (p) remains constant for each trial.\n",
    "\n",
    "For example, consider a coin toss, where the outcome can be either heads (success) or tails (failure). The Bernoulli Distribution can be used to model the probability of getting heads (1) or tails (0) in a single toss of the coin.\n",
    "\n",
    "The difference between Bernoulli Distribution and Binomial Distribution is that Bernoulli Distribution represents a single trial of a binary event, whereas Binomial Distribution represents the number of successes (1s) in a fixed number of independent and identically distributed Bernoulli trials. In other words, Bernoulli Distribution is a special case of Binomial Distribution where the number of trials (n) is 1."
   ]
  },
  {
   "cell_type": "markdown",
   "id": "54eb0b91-3de8-4c0e-8228-4f4d4073e3f0",
   "metadata": {},
   "source": [
    "### Question 6\n",
    "\n",
    "X = 60, mean = 50, std_dev = 10\n",
    "\n",
    "Z(X = 60) = (X - mean)/ std_dev\n",
    "\n",
    "          = (60 - 50) / 10\n",
    "          \n",
    "          = 1\n",
    "          \n",
    " From the Z-table, we find that the probability corresponding to a Z-score of 1 is approximately 0.8413.\n",
    " \n",
    " So, the probability that a randomly selected observation from the dataset will be greater than 60 is approximately (1 - 0.8413) which is equal to 0.1587 or 15.87%"
   ]
  },
  {
   "cell_type": "markdown",
   "id": "be147742-79bf-49eb-85f9-72e873c855ea",
   "metadata": {},
   "source": [
    "### Question 7\n",
    "\n",
    "Uniform Distribution (or Rectangular Distribution) is a continuous probability distribution where all outcomes have an equal probability of occurring within a specified range. In other words, the probability density is constant over a defined interval.\n",
    "\n",
    "Uniform Distribution is commonly used in situations where all outcomes are equally likely, such as in random number generation, simulations, and certain types of sampling.\n"
   ]
  },
  {
   "cell_type": "markdown",
   "id": "59e0db87-7c20-406e-b049-47b6cd6496d1",
   "metadata": {},
   "source": [
    "### Question 8 \n",
    "\n",
    "The Z-score, also known as the standard score, is a measure that quantifies the relative position of a data point within a distribution in terms of standard deviations from the mean. It is calculated as:\n",
    "\n",
    "Z = (X - μ) / σ\n",
    "\n",
    "where X is the observed value, μ is the mean of the distribution, and σ is the standard deviation of the distribution.\n",
    "\n",
    "The importance of the Z-score is that it allows us to compare data points from different distributions on a common scale. By converting data points to Z-scores, we can standardize them and compare their relative positions within their respective distributions. Z-scores are widely used in statistical analysis for hypothesis testing, confidence intervals, and identifying outliers."
   ]
  },
  {
   "cell_type": "markdown",
   "id": "adee8109-0431-49eb-887f-71c0546e25ab",
   "metadata": {},
   "source": [
    "### Question 9 \n",
    "\n",
    "The Central Limit Theorem (CLT) is a fundamental concept in statistics that states that the sampling distribution of the mean of a sufficiently large sample from any population with any shape of distribution will approximate a normal distribution, regardless of the shape of the population distribution.\n",
    "\n",
    "The significance of the Central Limit Theorem is that it allows us to make inferences about the population mean based on a sample mean, even when the population distribution is not normal.."
   ]
  },
  {
   "cell_type": "markdown",
   "id": "06654646-8aec-411a-901a-98e105717b79",
   "metadata": {
    "tags": []
   },
   "source": [
    "### Question 10\n",
    "\n",
    "The Central Limit Theorem assumes the following:\n",
    "\n",
    "1. Random Sampling: The sample is drawn randomly from the population, meaning that each member of the population has an equal chance of being selected.\n",
    "\n",
    "2. Sample Size: The sample size is sufficiently large, typically n ≥ 30, although some sources may suggest n ≥ 20 as a rule of thumb. For populations that are known to be highly skewed or have heavy tails, larger sample sizes may be required.\n",
    "\n",
    "3. Independence: The sampled observations are independent of each other, meaning that the value of one observation does not influence the value of another observation in the sample."
   ]
  }
 ],
 "metadata": {
  "kernelspec": {
   "display_name": "Python 3 (ipykernel)",
   "language": "python",
   "name": "python3"
  },
  "language_info": {
   "codemirror_mode": {
    "name": "ipython",
    "version": 3
   },
   "file_extension": ".py",
   "mimetype": "text/x-python",
   "name": "python",
   "nbconvert_exporter": "python",
   "pygments_lexer": "ipython3",
   "version": "3.10.8"
  }
 },
 "nbformat": 4,
 "nbformat_minor": 5
}
