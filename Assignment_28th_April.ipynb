{
 "cells": [
  {
   "cell_type": "markdown",
   "id": "38cb66d1-1c1a-4d59-8f0c-1122d2859181",
   "metadata": {},
   "source": [
    "Q1. **Hierarchical Clustering:**\n",
    "   - **Definition:** Hierarchical clustering is an algorithm that builds a hierarchy of clusters. It creates a tree of clusters, known as a dendrogram, to represent relationships between data points.\n",
    "   - **Difference:** Unlike K-Means, which assigns each data point to a single cluster, hierarchical clustering provides a more nuanced view by showcasing nested relationships.\n",
    "\n",
    "Q2. **Types of Hierarchical Clustering:**\n",
    "   - **Agglomerative:** Starts with individual data points as clusters and merges them based on similarity.\n",
    "   - **Divisive:** Starts with one cluster containing all data points and recursively splits them into smaller clusters.\n",
    "\n",
    "Q3. **Distance Between Clusters:**\n",
    "   - **Linkage Methods:** Common methods include:\n",
    "     - **Single Linkage:** Minimum distance between any two points in the clusters.\n",
    "     - **Complete Linkage:** Maximum distance between any two points in the clusters.\n",
    "     - **Average Linkage:** Average distance between all pairs of points in the clusters.\n",
    "\n",
    "Q4. **Determining Optimal Number of Clusters:**\n",
    "   - **Dendrogram Inspection:** Look for a point where the dendrogram shows a significant increase in distance.\n",
    "   - **Cophenetic Correlation Coefficient:** Measure of how faithfully a dendrogram preserves the pairwise distances between the original unmodeled data points.\n",
    "\n",
    "Q5. **Dendrograms:**\n",
    "   - **Definition:** Dendrograms are tree diagrams that illustrate the arrangement of clusters.\n",
    "   - **Usefulness:** Provide a visual representation of the hierarchical relationships, aiding in the identification of optimal clusters.\n",
    "\n",
    "Q6. **Hierarchical Clustering for Different Data Types:**\n",
    "   - **Numerical Data:** Typically uses methods like Euclidean distance.\n",
    "   - **Categorical Data:** Requires specialized metrics like the Gower distance, which accounts for mixed data types.\n",
    "\n",
    "Q7. **Identifying Outliers:**\n",
    "   - Outliers may appear as individual branches or distinct clusters with low similarity to others.\n",
    "   - Distance from the main tree structure in the dendrogram can indicate isolation."
   ]
  },
  {
   "cell_type": "code",
   "execution_count": null,
   "id": "87a37360-5859-4572-9c18-5c5f48a4667e",
   "metadata": {},
   "outputs": [],
   "source": []
  }
 ],
 "metadata": {
  "kernelspec": {
   "display_name": "Python 3 (ipykernel)",
   "language": "python",
   "name": "python3"
  },
  "language_info": {
   "codemirror_mode": {
    "name": "ipython",
    "version": 3
   },
   "file_extension": ".py",
   "mimetype": "text/x-python",
   "name": "python",
   "nbconvert_exporter": "python",
   "pygments_lexer": "ipython3",
   "version": "3.10.8"
  }
 },
 "nbformat": 4,
 "nbformat_minor": 5
}
