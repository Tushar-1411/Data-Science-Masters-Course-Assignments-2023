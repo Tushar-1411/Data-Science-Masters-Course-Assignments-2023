{
 "cells": [
  {
   "cell_type": "markdown",
   "id": "aec548e2-5971-4c35-9419-aa8e7150670d",
   "metadata": {},
   "source": [
    "### Question 1\n",
    "\n",
    "Bagging (Bootstrap Aggregating) reduces overfitting in decision trees by training multiple decision trees on bootstrapped subsets of the data and combining their predictions. It helps by reducing the variance in predictions, which is a common source of overfitting in individual decision trees. Bagging introduces diversity among the trees, making the model more robust and less prone to overfitting."
   ]
  },
  {
   "cell_type": "markdown",
   "id": "eb70269a-8831-469d-ac66-b58a5e59026c",
   "metadata": {},
   "source": [
    "### Question 2\n",
    "\n",
    "- Advantages: Using diverse base learners can increase the diversity in the ensemble, potentially improving overall performance. Different learners may capture different patterns in the data.\n",
    "\n",
    "- Disadvantages: If base learners are too complex or highly correlated, the benefits of diversity can be diminished. It's essential to strike a balance between diversity and performance."
   ]
  },
  {
   "cell_type": "markdown",
   "id": "1ec2aea7-4493-4637-a874-df8ff704dcbd",
   "metadata": {},
   "source": [
    "### Question 3\n",
    "\n",
    "The choice of base learner can influence the bias-variance tradeoff. Complex base learners may lead to lower bias but higher variance, while simple base learners may have higher bias but lower variance. Bagging helps reduce the variance, but the bias is affected by the base learner. A balanced choice of base learner is important for achieving an optimal bias-variance tradeoff."
   ]
  },
  {
   "cell_type": "markdown",
   "id": "dbe04e22-1f54-450f-88d1-9aefb7d8a334",
   "metadata": {},
   "source": [
    "### Question 4\n",
    "\n",
    "Yes, bagging can be used for both classification and regression tasks. In classification, bagging typically involves aggregating the class predictions from individual base learners (e.g., voting). In regression, bagging aggregates the numeric predictions. The difference lies in how the final prediction is made, but the fundamental concept of using an ensemble of base learners remains the same."
   ]
  },
  {
   "cell_type": "markdown",
   "id": "0b0dd0da-4bb9-4fc0-90c6-aa3781afa1ba",
   "metadata": {},
   "source": [
    "### Question 5\n",
    "\n",
    "The ensemble size in bagging is a hyperparameter. Increasing the ensemble size generally improves performance until a point of diminishing returns. There is no fixed number, but it's common to experiment with different sizes and monitor the model's performance using cross-validation. The optimal ensemble size can vary depending on the dataset and problem."
   ]
  },
  {
   "cell_type": "markdown",
   "id": "b4ffd2af-0662-4577-81ad-54c1a53a649e",
   "metadata": {},
   "source": [
    "### Question 6\n",
    "\n",
    "Bagging is widely used in various applications, such as:\n",
    "\n",
    "- Random Forest: Bagging is used to create an ensemble of decision trees, which is highly effective in classification and regression tasks.\n",
    "\n",
    "- Medical Diagnostics: Bagging can be used to combine predictions from multiple medical diagnostic tests for more accurate disease diagnosis.\n",
    "\n",
    "- Stock Market Prediction: Bagging is applied to create an ensemble of stock price prediction models to reduce prediction errors.\n",
    "\n",
    "- Customer Churn Prediction: Bagging can combine the predictions of multiple classifiers to identify potential customer churn in subscription-based services."
   ]
  },
  {
   "cell_type": "code",
   "execution_count": null,
   "id": "0209de00-0ea5-4fd5-b897-37d3e136fbd3",
   "metadata": {},
   "outputs": [],
   "source": []
  }
 ],
 "metadata": {
  "kernelspec": {
   "display_name": "Python 3 (ipykernel)",
   "language": "python",
   "name": "python3"
  },
  "language_info": {
   "codemirror_mode": {
    "name": "ipython",
    "version": 3
   },
   "file_extension": ".py",
   "mimetype": "text/x-python",
   "name": "python",
   "nbconvert_exporter": "python",
   "pygments_lexer": "ipython3",
   "version": "3.10.8"
  }
 },
 "nbformat": 4,
 "nbformat_minor": 5
}
