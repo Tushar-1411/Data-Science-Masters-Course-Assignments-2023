{
 "cells": [
  {
   "cell_type": "markdown",
   "id": "c29caf99-5991-4ca3-92b3-12af9b0a8a7a",
   "metadata": {},
   "source": [
    "### Question 1\n",
    "\n",
    "MongoDB is a popular open-source NoSQL document database that uses a flexible JSON-like data model to store and retrieve data. It is designed for high availability, scalability, and performance, and is commonly used in modern web applications, data analytics, and IoT applications.\n",
    "\n",
    "Non-relational databases, also known as NoSQL databases, are databases that do not use the traditional relational model of organizing data into tables with fixed schemas. Instead, NoSQL databases use a variety of data models, including document-oriented, key-value, graph, and column-family\n",
    "\n",
    "In scenarios where data is unstructured or semi-structured, and where high scalability and availability are important, MongoDB is often preferred over traditional SQL databases."
   ]
  },
  {
   "cell_type": "markdown",
   "id": "f7dc9490-2db7-4a46-8a60-734eca93d1aa",
   "metadata": {},
   "source": [
    "### Question 2\n",
    "\n",
    "MongoDB is a popular NoSQL document-oriented database that offers several features and benefits to its users. Some of the key features of MongoDB are:\n",
    "\n",
    "1. Flexible data model: MongoDB uses a document-based data model that allows users to store data in a flexible schema. This means that users can easily add or modify fields in the document without affecting the entire database.\n",
    "\n",
    "2. Scalability: MongoDB is designed to scale horizontally across multiple servers, allowing users to handle large amounts of data and high traffic loads with ease. It uses sharding to distribute data across multiple servers and replica sets to ensure data availability and durability.\n",
    "\n",
    "3. High performance: MongoDB uses an in-memory caching system and indexes to provide high performance for read and write operations. It also supports ad hoc queries, aggregation, and MapReduce for advanced data processing."
   ]
  },
  {
   "cell_type": "code",
   "execution_count": 1,
   "id": "24941fb6-1520-4f39-9585-67a22469d1a7",
   "metadata": {},
   "outputs": [
    {
     "ename": "ModuleNotFoundError",
     "evalue": "No module named 'pymongo'",
     "output_type": "error",
     "traceback": [
      "\u001b[0;31m---------------------------------------------------------------------------\u001b[0m",
      "\u001b[0;31mModuleNotFoundError\u001b[0m                       Traceback (most recent call last)",
      "Cell \u001b[0;32mIn[1], line 3\u001b[0m\n\u001b[1;32m      1\u001b[0m \u001b[38;5;66;03m### Question 3\u001b[39;00m\n\u001b[0;32m----> 3\u001b[0m \u001b[38;5;28;01mimport\u001b[39;00m \u001b[38;5;21;01mpymongo\u001b[39;00m\n\u001b[1;32m      5\u001b[0m \u001b[38;5;66;03m# connect to MongoDB\u001b[39;00m\n\u001b[1;32m      6\u001b[0m client \u001b[38;5;241m=\u001b[39m pymongo\u001b[38;5;241m.\u001b[39mMongoClient(\u001b[38;5;124m\"\u001b[39m\u001b[38;5;124mmongodb://localhost:27017/\u001b[39m\u001b[38;5;124m\"\u001b[39m)\n",
      "\u001b[0;31mModuleNotFoundError\u001b[0m: No module named 'pymongo'"
     ]
    }
   ],
   "source": [
    "### Question 3\n",
    "\n",
    "import pymongo\n",
    "\n",
    "# connect to MongoDB\n",
    "client = pymongo.MongoClient(\"mongodb://localhost:27017/\")\n",
    "print(client.list_database_names())\n",
    "\n",
    "# create a database\n",
    "db = client[\"mydatabase\"]\n",
    "print(client.list_database_names())\n",
    "\n",
    "# create a collection\n",
    "collection = db[\"mycollection\"]\n",
    "print(db.list_collection_names())\n"
   ]
  },
  {
   "cell_type": "code",
   "execution_count": null,
   "id": "9c9b94c8-dd45-49d3-9c4d-740fecccde74",
   "metadata": {},
   "outputs": [],
   "source": [
    "### Question 4\n",
    "\n",
    "import pymongo\n",
    "\n",
    "# connect to MongoDB\n",
    "client = pymongo.MongoClient(\"mongodb://localhost:27017/\")\n",
    "db = client[\"mydatabase\"]\n",
    "collection = db[\"mycollection\"]\n",
    "\n",
    "# insert one record\n",
    "record1 = {\"name\": \"John Doe\", \"age\": 30, \"city\": \"New York\"}\n",
    "result = collection.insert_one(record1)\n",
    "print(\"Inserted record ID:\", result.inserted_id)\n",
    "\n",
    "# insert many records\n",
    "records2 = [\n",
    "    {\"name\": \"Jane Doe\", \"age\": 25, \"city\": \"San Francisco\"},\n",
    "    {\"name\": \"Bob Smith\", \"age\": 40, \"city\": \"Los Angeles\"},\n",
    "    {\"name\": \"Alice Brown\", \"age\": 35, \"city\": \"Chicago\"}\n",
    "]\n",
    "result = collection.insert_many(records2)\n",
    "print(\"Inserted records IDs:\", result.inserted_ids)\n",
    "\n",
    "# find one record\n",
    "record = collection.find_one({\"name\": \"John Doe\"})\n",
    "print(\"Found record:\", record)\n",
    "\n",
    "# find all records\n",
    "records = collection.find()\n",
    "for record in records:\n",
    "    print(record)\n"
   ]
  },
  {
   "cell_type": "code",
   "execution_count": null,
   "id": "f603ef8c-cea2-4766-8cab-4b556931682b",
   "metadata": {},
   "outputs": [],
   "source": [
    "### Question 5\n",
    "\n",
    "import pymongo\n",
    "\n",
    "# connect to MongoDB\n",
    "client = pymongo.MongoClient(\"mongodb://localhost:27017/\")\n",
    "db = client[\"mydatabase\"]\n",
    "collection = db[\"mycollection\"]\n",
    "\n",
    "# find all documents in the collection\n",
    "documents = collection.find()\n",
    "\n",
    "# print the documents\n",
    "for document in documents:\n",
    "    print(document)\n"
   ]
  },
  {
   "cell_type": "code",
   "execution_count": 2,
   "id": "6122d626-2e48-4bfa-9381-824666ef3341",
   "metadata": {},
   "outputs": [
    {
     "data": {
      "text/plain": [
       "'The sort() method in MongoDB is used to sort the documents in a collection based on one or more fields. \\nThe method takes one or more arguments that specify the sorting criteria. '"
      ]
     },
     "execution_count": 2,
     "metadata": {},
     "output_type": "execute_result"
    }
   ],
   "source": [
    "### Question 6 \n",
    "\n",
    "\"\"\"The sort() method in MongoDB is used to sort the documents in a collection based on one or more fields. \n",
    "The method takes one or more arguments that specify the sorting criteria. \"\"\" \n",
    "\n",
    "# Syntax :  collection.find().sort(sort_key_or_list, direction)\n"
   ]
  },
  {
   "cell_type": "markdown",
   "id": "a27a23a4-1bfc-4476-88dd-3a5f3aed7aa8",
   "metadata": {},
   "source": [
    "### Question 7\n",
    "\n",
    "1. delete_one(), delete_many(), and drop() are methods in MongoDB that are used to delete documents or collections from a database. Here's a brief explanation of each method:\n",
    "\n",
    "2. delete_one(filter): This method is used to delete a single document that matches the specified filter. If multiple documents match the filter, only the first document will be deleted.\n",
    "\n",
    "3. delete_many(filter): This method is used to delete all documents that match the specified filter.\n",
    "\n",
    "4. drop(): This method is used to delete an entire collection from a database."
   ]
  },
  {
   "cell_type": "code",
   "execution_count": null,
   "id": "0fdf81b2-cfff-4606-bf45-14d2dd94fa95",
   "metadata": {},
   "outputs": [],
   "source": []
  }
 ],
 "metadata": {
  "kernelspec": {
   "display_name": "Python 3 (ipykernel)",
   "language": "python",
   "name": "python3"
  },
  "language_info": {
   "codemirror_mode": {
    "name": "ipython",
    "version": 3
   },
   "file_extension": ".py",
   "mimetype": "text/x-python",
   "name": "python",
   "nbconvert_exporter": "python",
   "pygments_lexer": "ipython3",
   "version": "3.10.8"
  }
 },
 "nbformat": 4,
 "nbformat_minor": 5
}
