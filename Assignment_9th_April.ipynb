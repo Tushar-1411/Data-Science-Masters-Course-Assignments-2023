{
 "cells": [
  {
   "cell_type": "markdown",
   "id": "87d62119-0c5f-4db6-9ac1-8b4c48a7c157",
   "metadata": {},
   "source": [
    "## Question 1\n",
    "\n",
    "#### Bayes Theorem :\n",
    "\n",
    "Bayes' Theorem states that the conditional probability of an event, based on the occurrence of another event, is equal to the likelihood of the second event given the first event multiplied by the probability of the first event."
   ]
  },
  {
   "cell_type": "markdown",
   "id": "ec95d751-3713-4c7d-9cb1-1b469ce3b1bb",
   "metadata": {},
   "source": [
    "### Question 2\n",
    "\n",
    "P(A/B) = [ P(B/A) * P(A) ] / P(B)\n",
    "\n",
    "P(A) , P(B) : Independent Probabilites of event A and B\n",
    "P(A/B) : Probability of event A given B\n",
    "P(B/A) : Probability of event B given A"
   ]
  },
  {
   "cell_type": "markdown",
   "id": "48355c00-5375-4d1e-902e-6cd4ddad10f8",
   "metadata": {},
   "source": [
    "### Question 3\n",
    "\n",
    "Bayes' Theorem thus gives the probability of an event based on new information that is or may be related to that event. The formula also can be used to determine how the probability of an event occurring may be affected by hypothetical new information, supposing the new information will turn out to be true"
   ]
  },
  {
   "cell_type": "markdown",
   "id": "0a73ad1b-9eb0-4dc0-86dc-953916a153a0",
   "metadata": {},
   "source": [
    "### Question 4\n",
    "\n",
    "Bayes' theorem is a formula that describes how to update the probabilities of hypotheses when given evidence. It follows simply from the axioms of conditional probability, but can be used to powerfully reason about a wide range of problems involving belief updates."
   ]
  },
  {
   "cell_type": "markdown",
   "id": "e8528cbe-a10f-46c3-a95f-5b9b172ae4e6",
   "metadata": {},
   "source": [
    "### Question 5\n",
    "\n",
    "Types of Naive bayes can be determined by looking at the feature space and their distributions. Such as :\n",
    "\n",
    "- Bernoulli NB can be used if features follow bernoulli distribution "
   ]
  },
  {
   "cell_type": "markdown",
   "id": "21f47db6-83a6-448b-a333-f310262987a2",
   "metadata": {},
   "source": [
    "### Question 6\n",
    "\n",
    "**Prior Probabilities:**\n",
    "\n",
    "- P(A) = Number of instances of class A / Total number of instances = (23) / (23 + 14) = 23/37\n",
    "- P(B) = Number of instances of class B / Total number of instances = (14) / (23 + 14) = 14/37\n",
    "\n",
    "\n",
    "**Likelihoods:**\n",
    "\n",
    "- P(X1 = 3 | A) = Number of instances with X1 = 3 and class A / Total number of instances of class A = (4) / (23) = 4/23\n",
    "- P(X1 = 3 | B) = Number of instances with X1 = 3 and class B / Total number of instances of class B = (1) / (14) = 1/14\n",
    "- P(X2 = 4 | A) = Number of instances with X2 = 4 and class A / Total number of instances of class A = (3) / (23) = 3/23\n",
    "- P(X2 = 4 | B) = Number of instances with X2 = 4 and class B / Total number of instances of class B = (3) / (14) = 3/14\n",
    "\n",
    "\n",
    "**Apply the Naive Bayes formula for each class:**\n",
    "\n",
    "**For Class A:**\n",
    "P(A | X1 = 3, X2 = 4) = P(X1 = 3 | A) * P(X2 = 4 | A) * P(A) = (4/23) * (3/23) * (23/37) = 12/851\n",
    "\n",
    "**For Class B:**\n",
    "P(B | X1 = 3, X2 = 4) = P(X1 = 3 | B) * P(X2 = 4 | B) * P(B) = (1/14) * (3/14) * (14/37) = 3/518\n",
    "\n",
    "\n",
    "**Now, we compare the probabilities for each class:**\n",
    "\n",
    "P(A | X1 = 3, X2 = 4) = 12/851 ≈ 0.01410\n",
    "\n",
    "P(B | X1 = 3, X2 = 4) = 3/518 ≈ 0.00579\n",
    "\n",
    "***Since P(A | X1 = 3, X2 = 4) is greater than P(B | X1 = 3, X2 = 4), Naive Bayes would predict that the new instance belongs to Class A.***"
   ]
  },
  {
   "cell_type": "code",
   "execution_count": null,
   "id": "7f774250-30cb-4197-bc62-50bf363798b5",
   "metadata": {},
   "outputs": [],
   "source": []
  }
 ],
 "metadata": {
  "kernelspec": {
   "display_name": "Python 3 (ipykernel)",
   "language": "python",
   "name": "python3"
  },
  "language_info": {
   "codemirror_mode": {
    "name": "ipython",
    "version": 3
   },
   "file_extension": ".py",
   "mimetype": "text/x-python",
   "name": "python",
   "nbconvert_exporter": "python",
   "pygments_lexer": "ipython3",
   "version": "3.10.8"
  }
 },
 "nbformat": 4,
 "nbformat_minor": 5
}
