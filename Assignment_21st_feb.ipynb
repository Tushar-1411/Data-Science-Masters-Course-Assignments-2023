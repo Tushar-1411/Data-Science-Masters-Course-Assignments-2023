{
 "cells": [
  {
   "cell_type": "markdown",
   "id": "cddafde6-2d11-4451-a1cc-8dc19ef524fc",
   "metadata": {},
   "source": [
    "### Question 1\n",
    "\n",
    "Web scraping is the process of extracting data from websites. It involves automated collection of data from web pages and transforming it into a structured format such as a spreadsheet or database.\n",
    "\n",
    "Web scraping is used to extract data from websites when the data is not available through an API or other means of access.\n",
    "\n",
    "Here are three areas where web scraping is commonly used to get data:\n",
    "1. E-commerce\n",
    "2. Reasearch\n",
    "3. Finance"
   ]
  },
  {
   "cell_type": "markdown",
   "id": "de3c6a5c-bc55-414e-9a40-1bff27af93d5",
   "metadata": {},
   "source": [
    "### Question 2\n",
    "There are several methods that can be used for web scraping. Some of the commonly used methods are:\n",
    "\n",
    "1. Parsing HTML using Regular Expressions\n",
    "2. Using HTML parsers\n",
    "3. Web Scraping tools and libraries\n",
    "4. Using API\n",
    "5. Automated Data Extraction Services"
   ]
  },
  {
   "cell_type": "markdown",
   "id": "cd854e18-c55b-4b23-bf1e-d36e9ec8b03c",
   "metadata": {},
   "source": [
    "### Question 3\n",
    "\n",
    "Beautiful Soup is a Python library used for web scraping purposes to pull the data out of HTML and XML files. It creates a parse tree from page source code that can be used to extract data in a hierarchical and more readable manner."
   ]
  },
  {
   "cell_type": "markdown",
   "id": "17e23e9c-4728-404e-adeb-49fbd3cc2fe6",
   "metadata": {},
   "source": [
    "### Question 4\n",
    "\n",
    "Flask is a micro web framework in Python, and it can be used to create web applications. In this Web Scraping project, Flask is likely being used to create a web application that can display the data that has been scraped. Flask can be used to create simple web applications, and it can be integrated with other Python libraries, such as Beautiful Soup for Web Scraping, to create more complex applications. Flask can also be used to serve data to a front-end web application or to an API."
   ]
  },
  {
   "cell_type": "markdown",
   "id": "8665dc3b-5ddc-4eb4-b1ca-61c2b37f8db1",
   "metadata": {},
   "source": [
    "### Question 5\n",
    "\n",
    "The AWS services used in a project depend on the specific requirements and architecture of the project. Without knowing the details of the project you are referring to, it is difficult to provide a comprehensive list of services used. However, I can list some commonly used AWS services for web scraping and data processing:\n",
    "\n",
    "1. Amazon EC2 (Elastic Compute Cloud).\n",
    "\n",
    "2. Amazon S3 (Simple Storage Service)\n",
    "\n",
    "3. AWS Lambda\n",
    "\n",
    "4. Amazon RDS (Relational Database Service)\n",
    "\n",
    "6. Amazon EMR (Elastic MapReduce)"
   ]
  },
  {
   "cell_type": "code",
   "execution_count": null,
   "id": "d4e03a29-3f4c-4ae1-89b6-4c264b47b2bd",
   "metadata": {},
   "outputs": [],
   "source": []
  }
 ],
 "metadata": {
  "kernelspec": {
   "display_name": "Python 3 (ipykernel)",
   "language": "python",
   "name": "python3"
  },
  "language_info": {
   "codemirror_mode": {
    "name": "ipython",
    "version": 3
   },
   "file_extension": ".py",
   "mimetype": "text/x-python",
   "name": "python",
   "nbconvert_exporter": "python",
   "pygments_lexer": "ipython3",
   "version": "3.10.8"
  }
 },
 "nbformat": 4,
 "nbformat_minor": 5
}
