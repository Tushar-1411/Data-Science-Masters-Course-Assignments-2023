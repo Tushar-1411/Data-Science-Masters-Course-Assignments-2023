{
 "cells": [
  {
   "cell_type": "markdown",
   "id": "7d267cc3-af46-4906-99ba-f9c2722429a5",
   "metadata": {},
   "source": [
    "### Question 1\n",
    "\n",
    "Random Forest Regressor is an ensemble learning method in machine learning. It uses multiple decision trees to predict continuous (numeric) values. Each decision tree is constructed on a different subset of the training data using a technique called bagging (Bootstrap Aggregating), and the final prediction is made by aggregating the individual tree predictions."
   ]
  },
  {
   "cell_type": "markdown",
   "id": "7189332b-58e5-4e8e-be6b-28528ace760d",
   "metadata": {},
   "source": [
    "### Question 2\n",
    "\n",
    "Random Forest Regressor reduces overfitting by introducing diversity among the individual decision trees. It trains multiple trees on bootstrapped subsets of the data and features, and the final prediction is an average or weighted combination of these tree predictions. This ensemble approach helps smooth out the noise and reduce the variance that can lead to overfitting.\n"
   ]
  },
  {
   "cell_type": "markdown",
   "id": "cc82c9f6-4f2f-43ff-be43-2ef34a99e4ac",
   "metadata": {},
   "source": [
    "### Question 3\n",
    "\n",
    "Random Forest Regressor aggregates predictions through averaging in the case of regression tasks. Each tree in the ensemble produces a numeric prediction. These predictions are combined, usually by taking the mean or weighted mean of all the tree predictions, resulting in the final ensemble prediction."
   ]
  },
  {
   "cell_type": "markdown",
   "id": "d1aa8fd8-6f9e-4e04-9180-108ce9a7e76a",
   "metadata": {},
   "source": [
    "### Question 4\n",
    "\n",
    "Some common hyperparameters for Random Forest Regressor include the number of trees (n_estimators), the maximum depth of the trees (max_depth), the minimum number of samples required to split a node (min_samples_split), and the number of features to consider when looking for the best split (max_features), among others."
   ]
  },
  {
   "cell_type": "markdown",
   "id": "58c0a3e8-614f-42df-b636-9f00eafd6f5b",
   "metadata": {},
   "source": [
    "### Question 5\n",
    "\n",
    "\n",
    "- Random Forest Regressor is an ensemble of multiple decision trees, whereas Decision Tree Regressor is a single tree.\n",
    "\n",
    "- Random Forest Regressor reduces overfitting by combining predictions from multiple trees, while a single Decision Tree Regressor can be prone to overfitting.\n",
    "\n",
    "- Decision Tree Regressor can capture complex patterns but may not generalize well, while Random Forest Regressor offers better generalization and robustness."
   ]
  },
  {
   "cell_type": "markdown",
   "id": "593ce31b-66fc-4e05-8943-e50884d9518e",
   "metadata": {},
   "source": [
    "### Question 6\n",
    "\n",
    "- Advantages: Random Forest Regressor provides robust predictions, handles both categorical and numerical data, reduces overfitting, and is less sensitive to hyperparameters.\n",
    "\n",
    "- Disadvantages: It can be computationally expensive for a large number of trees, and it may not perform as well as other methods on certain datasets."
   ]
  },
  {
   "cell_type": "markdown",
   "id": "0edbcbf3-62ff-40c6-a24d-1452e0461d80",
   "metadata": {},
   "source": [
    "### Question 7\n",
    "\n",
    "The output of a Random Forest Regressor is a predicted continuous numeric value. It provides predictions for regression tasks."
   ]
  },
  {
   "cell_type": "markdown",
   "id": "99339346-5b95-473b-847c-e425fde215c0",
   "metadata": {},
   "source": [
    "### Question 8\n",
    "\n",
    "Yes, Random Forest can be used for classification tasks as well. In this case, it predicts class labels instead of continuous values. Random Forest for classification is known as Random Forest Classifier."
   ]
  },
  {
   "cell_type": "code",
   "execution_count": null,
   "id": "cc3fcdb6-75b9-440d-b001-5fca8e68cd9a",
   "metadata": {},
   "outputs": [],
   "source": []
  }
 ],
 "metadata": {
  "kernelspec": {
   "display_name": "Python 3 (ipykernel)",
   "language": "python",
   "name": "python3"
  },
  "language_info": {
   "codemirror_mode": {
    "name": "ipython",
    "version": 3
   },
   "file_extension": ".py",
   "mimetype": "text/x-python",
   "name": "python",
   "nbconvert_exporter": "python",
   "pygments_lexer": "ipython3",
   "version": "3.10.8"
  }
 },
 "nbformat": 4,
 "nbformat_minor": 5
}
