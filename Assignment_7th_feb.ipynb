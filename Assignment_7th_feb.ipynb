{
 "cells": [
  {
   "cell_type": "code",
   "execution_count": 1,
   "id": "ae80c292-4e08-4061-9f2b-07a27dedfab2",
   "metadata": {},
   "outputs": [
    {
     "name": "stdin",
     "output_type": "stream",
     "text": [
      "Enter the password:  TUsh12&$_x\n"
     ]
    },
    {
     "data": {
      "text/plain": [
       "'Valid Password'"
      ]
     },
     "execution_count": 1,
     "metadata": {},
     "output_type": "execute_result"
    }
   ],
   "source": [
    "# Question 1\n",
    "password = input(\"Enter the password: \")\n",
    "\n",
    "def validate(sample):\n",
    "    upper = 0; lower=0; special=0; num=0;\n",
    "    if (len(sample) != 10):\n",
    "        return \"Invalid Password\"\n",
    "    else:\n",
    "        for x in sample:\n",
    "            if x.isupper():\n",
    "                upper +=1\n",
    "            elif x.islower():\n",
    "                lower +=1\n",
    "            elif x.isdigit():\n",
    "                num += 1\n",
    "            elif x in (\"$\",\"_\",\"&\"):\n",
    "                special +=1\n",
    "        if (upper>1 and lower>1 and num>0 and special>2):\n",
    "            return \"Valid Password\"\n",
    "    return \"Invalid Password\"\n",
    "validate(password)"
   ]
  },
  {
   "cell_type": "markdown",
   "id": "fcf0ca5b-7f64-41e9-bcc6-31da12b54e6b",
   "metadata": {
    "tags": []
   },
   "source": [
    "## Question 2"
   ]
  },
  {
   "cell_type": "code",
   "execution_count": 8,
   "id": "4da6b8ac-4a4c-4815-9611-85cbba4597a8",
   "metadata": {},
   "outputs": [
    {
     "data": {
      "text/plain": [
       "[('orange', 80), ('mango', 99), ('grapes', 1000)]"
      ]
     },
     "execution_count": 8,
     "metadata": {},
     "output_type": "execute_result"
    }
   ],
   "source": [
    "# Sort a list of tuples having fruit names and their quantity. \n",
    "t = [(\"mango\",99),(\"orange\",80), (\"grapes\", 1000)]\n",
    "sorted_tuples = sorted(t, key=lambda x: x[1])\n",
    "sorted_tuples"
   ]
  },
  {
   "cell_type": "code",
   "execution_count": 10,
   "id": "07b7f3f9-90fb-4130-a5d0-eb31350acffa",
   "metadata": {},
   "outputs": [
    {
     "name": "stdout",
     "output_type": "stream",
     "text": [
      "Sqaures [1, 4, 9, 16, 25, 36, 49, 64, 81, 100] \n",
      "cube roots [1.0, 1.2599210498948732, 1.4422495703074083, 1.5874010519681994, 1.7099759466766968, 1.8171205928321397, 1.912931182772389, 2.0, 2.080083823051904, 2.154434690031884]\n"
     ]
    }
   ],
   "source": [
    "#Find the squares of numbers from 1 to 10\n",
    "#Find the cube root of numbers from 1 to 10\n",
    "\n",
    "sqaures = [x**2 for x in range(1,11)]\n",
    "cube_root = [x**(1/3) for x in range(1,11)]\n",
    "print(f'Sqaures {sqaures} \\ncube roots {cube_root}')"
   ]
  },
  {
   "cell_type": "code",
   "execution_count": 15,
   "id": "98e58328-c58b-432e-a214-670c0c40592f",
   "metadata": {},
   "outputs": [
    {
     "data": {
      "text/plain": [
       "[1, 3, 5, 7, 9]"
      ]
     },
     "execution_count": 15,
     "metadata": {},
     "output_type": "execute_result"
    }
   ],
   "source": [
    "# Filter odd numbers from the given list.\n",
    "mylist = [1,2,3,4,5,6,7,8,9,10]\n",
    "\n",
    "list(filter(lambda x: x if x%2 != 0 else None, mylist))"
   ]
  },
  {
   "cell_type": "code",
   "execution_count": 16,
   "id": "d7c9d8e8-eca5-45b4-9551-ccec0b0a75a5",
   "metadata": {},
   "outputs": [
    {
     "name": "stdout",
     "output_type": "stream",
     "text": [
      "Pos :[1, 2, 3, 4, 5, 6, 0] \n",
      "Neg: [-1, -2, -3, -4, -5]\n"
     ]
    }
   ],
   "source": [
    "# Sort a list of integers into positive and negative integers lists.\n",
    "\n",
    "list1 = [1,2,3,4,5,6,-1,-2,-3,-4,-5,0]\n",
    "\n",
    "pos = [x for x in list1 if x >= 0]\n",
    "neg = [x for x in list1 if x < 0]\n",
    "print(f\"Pos :{pos} \\nNeg: {neg}\")"
   ]
  },
  {
   "cell_type": "code",
   "execution_count": 17,
   "id": "c7f1dc67-e1b6-4ebf-9b3b-134ba7e141b5",
   "metadata": {},
   "outputs": [
    {
     "name": "stdout",
     "output_type": "stream",
     "text": [
      "['cherry']\n"
     ]
    }
   ],
   "source": [
    "# Check if the string starts with a particular letter\n",
    "string_list = [\"apple\", \"banana\", \"cherry\", \"date\", \"elderberry\"]\n",
    "letter = \"c\"\n",
    "\n",
    "result = filter(lambda x: x.startswith(letter), string_list)\n",
    "print(list(result))"
   ]
  },
  {
   "cell_type": "code",
   "execution_count": 18,
   "id": "28891d2a-63b6-4abf-b59d-ecf1aecfac79",
   "metadata": {},
   "outputs": [
    {
     "name": "stdout",
     "output_type": "stream",
     "text": [
      "['123', '456', '789']\n"
     ]
    }
   ],
   "source": [
    "# Check if the string is numeric\n",
    "\n",
    "string_list = [\"123\", \"456\", \"abc\", \"def\", \"789\"]\n",
    "\n",
    "result = filter(lambda x: x.isnumeric(), string_list)\n",
    "print(list(result))"
   ]
  },
  {
   "cell_type": "code",
   "execution_count": 19,
   "id": "cf4340b0-7ef2-4307-8db0-b4b096f5fde2",
   "metadata": {},
   "outputs": [
    {
     "name": "stdout",
     "output_type": "stream",
     "text": [
      "[2, 4, 6, 8, 10]\n"
     ]
    }
   ],
   "source": [
    "# Check if a given number is even\n",
    "\n",
    "number_list = [1, 2, 3, 4, 5, 6, 7, 8, 9, 10]\n",
    "\n",
    "result = [x for x in number_list if x % 2 == 0]\n",
    "print(result)"
   ]
  }
 ],
 "metadata": {
  "kernelspec": {
   "display_name": "Python 3 (ipykernel)",
   "language": "python",
   "name": "python3"
  },
  "language_info": {
   "codemirror_mode": {
    "name": "ipython",
    "version": 3
   },
   "file_extension": ".py",
   "mimetype": "text/x-python",
   "name": "python",
   "nbconvert_exporter": "python",
   "pygments_lexer": "ipython3",
   "version": "3.10.8"
  }
 },
 "nbformat": 4,
 "nbformat_minor": 5
}
