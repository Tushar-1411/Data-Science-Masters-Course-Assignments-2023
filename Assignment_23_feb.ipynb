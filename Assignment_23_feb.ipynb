{
 "cells": [
  {
   "cell_type": "code",
   "execution_count": 1,
   "id": "391f7317-dd97-4d83-ac07-4db9507f12b8",
   "metadata": {},
   "outputs": [],
   "source": [
    "import pandas as pd"
   ]
  },
  {
   "cell_type": "code",
   "execution_count": 5,
   "id": "48e61e31-b319-45ba-98de-eb56a1256720",
   "metadata": {},
   "outputs": [
    {
     "name": "stdout",
     "output_type": "stream",
     "text": [
      "<class 'pandas.core.series.Series'> 0     4\n",
      "1     8\n",
      "2    15\n",
      "3    16\n",
      "4    23\n",
      "5    42\n",
      "dtype: int64\n"
     ]
    }
   ],
   "source": [
    "# Question 1\n",
    "\n",
    "series = [4, 8, 15, 16, 23, 42]\n",
    "pd_series = pd.Series(series)\n",
    "\n",
    "print(type(pd_series), pd_series)"
   ]
  },
  {
   "cell_type": "code",
   "execution_count": 9,
   "id": "348d12d3-d6f4-447d-9461-43302c19f2e2",
   "metadata": {},
   "outputs": [
    {
     "data": {
      "text/plain": [
       "0    0\n",
       "1    1\n",
       "2    2\n",
       "3    3\n",
       "4    4\n",
       "5    5\n",
       "6    6\n",
       "7    7\n",
       "8    8\n",
       "9    9\n",
       "dtype: int64"
      ]
     },
     "execution_count": 9,
     "metadata": {},
     "output_type": "execute_result"
    }
   ],
   "source": [
    "# Question 2\n",
    "\n",
    "variable = list(range(10))\n",
    "pd.Series(variable)"
   ]
  },
  {
   "cell_type": "code",
   "execution_count": 14,
   "id": "47c9d045-c2ca-4ac8-a151-ef3acdd06559",
   "metadata": {},
   "outputs": [
    {
     "name": "stdout",
     "output_type": "stream",
     "text": [
      "     name  Age  Gender\n",
      "0   Alice   25  Female\n",
      "1     Bob   30    Male\n",
      "2  Claire   27  Female\n"
     ]
    }
   ],
   "source": [
    "# Question 3 \n",
    "\n",
    "data = {\"name\" : [\"Alice\", \"Bob\", \"Claire\"], \n",
    "       \"Age\" : [25, 30, 27],\n",
    "       \"Gender\" : [\"Female\", \"Male\", \"Female\"]}\n",
    "\n",
    "df = pd.DataFrame(data)\n",
    "print(df)"
   ]
  },
  {
   "cell_type": "code",
   "execution_count": 13,
   "id": "1d26103f-b035-470b-9a99-2c2d41258f15",
   "metadata": {},
   "outputs": [
    {
     "name": "stdout",
     "output_type": "stream",
     "text": [
      "0    0\n",
      "1    1\n",
      "2    2\n",
      "3    3\n",
      "4    4\n",
      "dtype: int64 <class 'pandas.core.series.Series'>\n"
     ]
    }
   ],
   "source": [
    "# Question 4 \n",
    "\n",
    "\"\"\" Pandas Data frame is a combination of rows and columns displayed as a 2-D matrix where each column is a pandas series.\n",
    "Pandas Series is a uni dimensional indexed object where as dataframe is 2 dimensional.\"\"\"\n",
    "\n",
    "# Example of Series \n",
    "\n",
    "series = pd.Series(list(range(5)))\n",
    "print(series, type(series))"
   ]
  },
  {
   "cell_type": "code",
   "execution_count": 16,
   "id": "923b7163-9953-432e-b5a1-32c742a19af5",
   "metadata": {},
   "outputs": [
    {
     "name": "stdout",
     "output_type": "stream",
     "text": [
      "<class 'pandas.core.frame.DataFrame'> \n",
      "      name  Age  Gender\n",
      "0   Alice   25  Female\n",
      "1     Bob   30    Male\n",
      "2  Claire   27  Female\n"
     ]
    }
   ],
   "source": [
    "# Example of dataframe \n",
    "\n",
    "print(type(df), '\\n', df)"
   ]
  },
  {
   "cell_type": "markdown",
   "id": "7f6d0849-8f61-49ef-a485-288bd20248ea",
   "metadata": {
    "tags": []
   },
   "source": [
    "### Question 5\n",
    "\n",
    " Here are some of the functions we can use in pandas to manipulate data. \n",
    "1. isna() : The isna() function is used to check the number of null values or missing data in a data frame.\n",
    "2. drop() : This function is used to drop rows or even columns with the help of index or some condition.\n",
    "3. value_counts() : It is used to get the number of counts for each value in a particular column or series.\n",
    "4. describe() : It is used to calculate the summary statistics for a dataframe mainly for the numeric columns but object dtypes can also be included.\n"
   ]
  },
  {
   "cell_type": "markdown",
   "id": "ae04f222-0f61-4fd1-b058-a8297301991b",
   "metadata": {},
   "source": [
    "### Question 6\n",
    "\n",
    "All the pandas objects \"DataFrame\", \"Series\", and \"Panel\" are mutable "
   ]
  },
  {
   "cell_type": "code",
   "execution_count": 18,
   "id": "c22048d1-5aff-4ae4-bc91-b4a4dca3721b",
   "metadata": {},
   "outputs": [],
   "source": [
    "# Question 7 \n",
    "\n",
    "series1 = pd.Series([1,2,3,4,5,6,7,8,9])\n",
    "series2 = pd.Series(['name','hello','hii','you','are','I','myself','yours','get'])\n",
    "series3 = pd.Series([23,45,67,54,32,1,2,32,100])"
   ]
  },
  {
   "cell_type": "code",
   "execution_count": 19,
   "id": "b4e8ddf2-0107-4f3c-83bc-241f7210ef40",
   "metadata": {},
   "outputs": [
    {
     "data": {
      "text/html": [
       "<div>\n",
       "<style scoped>\n",
       "    .dataframe tbody tr th:only-of-type {\n",
       "        vertical-align: middle;\n",
       "    }\n",
       "\n",
       "    .dataframe tbody tr th {\n",
       "        vertical-align: top;\n",
       "    }\n",
       "\n",
       "    .dataframe thead th {\n",
       "        text-align: right;\n",
       "    }\n",
       "</style>\n",
       "<table border=\"1\" class=\"dataframe\">\n",
       "  <thead>\n",
       "    <tr style=\"text-align: right;\">\n",
       "      <th></th>\n",
       "      <th>col1</th>\n",
       "      <th>col2</th>\n",
       "      <th>col3</th>\n",
       "    </tr>\n",
       "  </thead>\n",
       "  <tbody>\n",
       "    <tr>\n",
       "      <th>0</th>\n",
       "      <td>1</td>\n",
       "      <td>name</td>\n",
       "      <td>23</td>\n",
       "    </tr>\n",
       "    <tr>\n",
       "      <th>1</th>\n",
       "      <td>2</td>\n",
       "      <td>hello</td>\n",
       "      <td>45</td>\n",
       "    </tr>\n",
       "    <tr>\n",
       "      <th>2</th>\n",
       "      <td>3</td>\n",
       "      <td>hii</td>\n",
       "      <td>67</td>\n",
       "    </tr>\n",
       "    <tr>\n",
       "      <th>3</th>\n",
       "      <td>4</td>\n",
       "      <td>you</td>\n",
       "      <td>54</td>\n",
       "    </tr>\n",
       "    <tr>\n",
       "      <th>4</th>\n",
       "      <td>5</td>\n",
       "      <td>are</td>\n",
       "      <td>32</td>\n",
       "    </tr>\n",
       "    <tr>\n",
       "      <th>5</th>\n",
       "      <td>6</td>\n",
       "      <td>I</td>\n",
       "      <td>1</td>\n",
       "    </tr>\n",
       "    <tr>\n",
       "      <th>6</th>\n",
       "      <td>7</td>\n",
       "      <td>myself</td>\n",
       "      <td>2</td>\n",
       "    </tr>\n",
       "    <tr>\n",
       "      <th>7</th>\n",
       "      <td>8</td>\n",
       "      <td>yours</td>\n",
       "      <td>32</td>\n",
       "    </tr>\n",
       "    <tr>\n",
       "      <th>8</th>\n",
       "      <td>9</td>\n",
       "      <td>get</td>\n",
       "      <td>100</td>\n",
       "    </tr>\n",
       "  </tbody>\n",
       "</table>\n",
       "</div>"
      ],
      "text/plain": [
       "   col1    col2  col3\n",
       "0     1    name    23\n",
       "1     2   hello    45\n",
       "2     3     hii    67\n",
       "3     4     you    54\n",
       "4     5     are    32\n",
       "5     6       I     1\n",
       "6     7  myself     2\n",
       "7     8   yours    32\n",
       "8     9     get   100"
      ]
     },
     "execution_count": 19,
     "metadata": {},
     "output_type": "execute_result"
    }
   ],
   "source": [
    "pd.DataFrame({\"col1\":series1, \"col2\":series2, \"col3\":series3})"
   ]
  },
  {
   "cell_type": "code",
   "execution_count": null,
   "id": "147433f3-ab2d-4b4d-834d-627856b90ec8",
   "metadata": {},
   "outputs": [],
   "source": []
  }
 ],
 "metadata": {
  "kernelspec": {
   "display_name": "Python 3 (ipykernel)",
   "language": "python",
   "name": "python3"
  },
  "language_info": {
   "codemirror_mode": {
    "name": "ipython",
    "version": 3
   },
   "file_extension": ".py",
   "mimetype": "text/x-python",
   "name": "python",
   "nbconvert_exporter": "python",
   "pygments_lexer": "ipython3",
   "version": "3.10.8"
  }
 },
 "nbformat": 4,
 "nbformat_minor": 5
}
