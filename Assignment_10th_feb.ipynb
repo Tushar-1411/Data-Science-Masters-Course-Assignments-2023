{
 "cells": [
  {
   "cell_type": "markdown",
   "id": "09b8cd16-23a7-4118-b706-2740aac99ab4",
   "metadata": {},
   "source": [
    "Ans1: The built-in open() function is used to open a file. \n",
    "The open() function takes two arguments: the name of the file and the mode in which the file should be opened.\n",
    "\n",
    "Different modes for opening a file include 'r' for read-only, \n",
    "'w' for write-only, \n",
    "'a' for append-only, \n",
    "'x' for exclusive creation, \n",
    "'b' for binary mode, and 't' for text mode."
   ]
  },
  {
   "cell_type": "markdown",
   "id": "372a1988-9174-4fe4-b3ce-03ab2e9a1bd5",
   "metadata": {},
   "source": [
    "Ans2: The close function is used to close an open file in Python. It is important to close a file after you have finished reading from or writing to it because it frees up system resources that were being used by the file"
   ]
  },
  {
   "cell_type": "code",
   "execution_count": 4,
   "id": "4feecfbe-8aad-4bc4-86e1-00fdde2f8d4f",
   "metadata": {},
   "outputs": [],
   "source": [
    "# Question 3\n",
    "\n",
    "file = open(\"test.txt\",\"w\")\n",
    "sentence = 'I want to become a Data Scientist'\n",
    "file.write(sentence)\n",
    "file.close()"
   ]
  },
  {
   "cell_type": "code",
   "execution_count": 7,
   "id": "2402403a-aaf7-4833-9c01-fb0bb16fe758",
   "metadata": {},
   "outputs": [
    {
     "name": "stdout",
     "output_type": "stream",
     "text": [
      "I want to become a Data Scientist\n"
     ]
    }
   ],
   "source": [
    "with open(\"test.txt\", \"r\") as f:\n",
    "    print(f.read())"
   ]
  },
  {
   "cell_type": "code",
   "execution_count": 18,
   "id": "cfac02cb-1382-4160-8993-bf4c782f01f5",
   "metadata": {},
   "outputs": [
    {
     "name": "stdout",
     "output_type": "stream",
     "text": [
      "The sun wa\n",
      "\n",
      "The sun was shi\n",
      "\n",
      "['The sun was shining brightly on the crisp autumn day. Leaves of brilliant red, orange, and yellow littered the ground, crunching underfoot as people walked by. A cool breeze swept through the air, carrying with it the scent of woodsmoke from nearby chimneys. Birds chirped merrily as they flitted from tree to tree, their cheerful songs filling the air. The clear blue sky was dotted with fluffy white clouds, and the sun cast long shadows across the ground.']\n"
     ]
    }
   ],
   "source": [
    "# Question 4\n",
    "\n",
    "with open(\"sample.txt\") as file:\n",
    "    contents = file.read(10)\n",
    "    print(contents)\n",
    "print()\n",
    "with open(\"sample.txt\") as file:\n",
    "    line = file.readline(15)\n",
    "    print(line)\n",
    "print()\n",
    "with open(\"sample.txt\") as file:\n",
    "    lines = file.readlines()\n",
    "    print(lines)\n"
   ]
  },
  {
   "cell_type": "markdown",
   "id": "773314a4-865c-42c6-9141-e49b6a109622",
   "metadata": {},
   "source": [
    "Ans5: With statement is used with open function to add an alias and the advantage is we dont have to explicitly call the close() function. It implicitly closes the file at the end"
   ]
  },
  {
   "cell_type": "code",
   "execution_count": 19,
   "id": "4fe3d756-b93e-4386-99f9-5be32fa471ee",
   "metadata": {},
   "outputs": [],
   "source": [
    "# Question 6\n",
    "\n",
    "\"\"\"The write() function is used to write a string to a file. \n",
    "The string is passed as an argument to the write() function and it is written to the file at the current cursor position.\"\"\"\n",
    "\n",
    "with open(\"sample.txt\", \"w\") as file:\n",
    "    file.write(\"This is a sample text written to a file.\")"
   ]
  },
  {
   "cell_type": "code",
   "execution_count": 20,
   "id": "5e392e65-b4ec-4ef5-8c9e-78ac716857b8",
   "metadata": {},
   "outputs": [],
   "source": [
    "\"\"\"The writelines() function is used to write a list of strings to a file. \n",
    "The list of strings is passed as an argument to the writelines() function and each string in the list is written to the file, one after the other. \"\"\"\n",
    "\n",
    "with open(\"sample.txt\", \"w\") as file:\n",
    "    lines = [\"This is line 1.\", \"This is line 2.\", \"This is line 3.\"]\n",
    "    file.writelines(lines)"
   ]
  },
  {
   "cell_type": "code",
   "execution_count": null,
   "id": "1115e427-aa66-4036-9d34-81732e85e7c7",
   "metadata": {},
   "outputs": [],
   "source": []
  }
 ],
 "metadata": {
  "kernelspec": {
   "display_name": "Python 3 (ipykernel)",
   "language": "python",
   "name": "python3"
  },
  "language_info": {
   "codemirror_mode": {
    "name": "ipython",
    "version": 3
   },
   "file_extension": ".py",
   "mimetype": "text/x-python",
   "name": "python",
   "nbconvert_exporter": "python",
   "pygments_lexer": "ipython3",
   "version": "3.10.8"
  }
 },
 "nbformat": 4,
 "nbformat_minor": 5
}
