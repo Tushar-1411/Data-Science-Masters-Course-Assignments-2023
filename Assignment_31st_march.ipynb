{
 "cells": [
  {
   "cell_type": "markdown",
   "id": "db80bcc5-fab0-405b-9a7c-e6eb5ed40ef1",
   "metadata": {},
   "source": [
    "### Question 1\n",
    "\n",
    "For and end to end web application for our ml prediction models :\n",
    "\n",
    "1. Front End : We need a front end page through which the user can interact and feed data or see the services provided. This is our main interaction phase.\n",
    "\n",
    "2. Back End : This is used to process the data received through front end and provide it to the underlying main application for processing and again send the processed data back to front end.\n",
    "\n",
    "3. DataBase : This is used to store the predictions or other data received.\n",
    "\n",
    "4. Cloud : This is used to host our application as a webservice to be used by other clients."
   ]
  },
  {
   "cell_type": "markdown",
   "id": "6e61230c-7cf0-4393-83c9-3044e059adf4",
   "metadata": {},
   "source": [
    "### Question 2\n",
    "\n",
    "Traditional Web Hosting:\n",
    "\n",
    "- Hosted on dedicated physical servers.\n",
    "- Fixed resources that need to be pre-allocated.\n",
    "- Scaling requires manual intervention and downtime.\n",
    "- May be cost-effective for small-scale projects.\n",
    "\n",
    "Cloud Hosting:\n",
    "\n",
    "- Hosted on virtual servers in the cloud.\n",
    "- Resources can be dynamically scaled up or down based on demand.\n",
    "- Pay-as-you-go pricing model.\n",
    "- Offers higher flexibility and scalability compared to traditional hosting.- "
   ]
  },
  {
   "cell_type": "markdown",
   "id": "735f456f-ce87-43ab-905c-fb1737b042e0",
   "metadata": {},
   "source": [
    "### Question 3\n",
    "\n",
    "Consider the following factors when choosing a cloud provider:\n",
    "\n",
    "- Services Offered: Check if the provider offers the services you need, such as computing resources, databases, storage, and machine learning services.\n",
    "\n",
    "- Performance: Evaluate the provider's infrastructure and performance guarantees.\n",
    "\n",
    "- Scalability: Ensure the provider can accommodate your application's growth.\n",
    "\n",
    "- Cost: Compare pricing structures and find a provider that aligns with your budget.\n",
    "\n",
    "- Ease of Use: Look for user-friendly interfaces and good documentation.\n",
    "\n",
    "- Security: Assess the provider's security measures and compliance standards.\n",
    "\n",
    "- Location: Choose a provider with data centers in regions that align with your target audience.\n",
    "\n"
   ]
  },
  {
   "cell_type": "markdown",
   "id": "e3767929-e460-4e2f-9a80-e15466a3d59d",
   "metadata": {},
   "source": [
    "### Question 4\n",
    "\n",
    "Use a responsive design framework like Bootstrap to ensure your UI adapts to different screen sizes.\n",
    "\n",
    "- Prioritize mobile-first design, considering smaller screens first and then expanding to larger ones.\n",
    "\n",
    "- Optimize images and media for faster loading times.\n",
    "\n",
    "- Use CSS media queries to apply different styles based on screen size.\n",
    "\n",
    "- Test your design across various devices and browsers.\n",
    "\n",
    "- Implement intuitive navigation and user-friendly forms.\n",
    "\n",
    "- Consider accessibility guidelines to ensure your UI is usable by people with disabilities."
   ]
  },
  {
   "cell_type": "markdown",
   "id": "299fd40e-3e90-45c8-8796-6dd826d9f592",
   "metadata": {},
   "source": [
    "### Question 5\n",
    "\n",
    "For integating the model we pickled our model and then created a front end and back end for this. Afterwards we hosted the complete applicataion on the cloud.\n",
    "\n",
    "Libraries Used : \n",
    "\n",
    "1. Flask (Backend)\n",
    "2. Html CSS (Front end)\n",
    "3. Python [sklearn,pandas,numpy] (model development)\n",
    "4. AWS (Cloud hosting)"
   ]
  },
  {
   "cell_type": "code",
   "execution_count": null,
   "id": "b50cc2b7-5993-46e5-8312-4f544e50b18d",
   "metadata": {},
   "outputs": [],
   "source": []
  }
 ],
 "metadata": {
  "kernelspec": {
   "display_name": "Python 3 (ipykernel)",
   "language": "python",
   "name": "python3"
  },
  "language_info": {
   "codemirror_mode": {
    "name": "ipython",
    "version": 3
   },
   "file_extension": ".py",
   "mimetype": "text/x-python",
   "name": "python",
   "nbconvert_exporter": "python",
   "pygments_lexer": "ipython3",
   "version": "3.10.8"
  }
 },
 "nbformat": 4,
 "nbformat_minor": 5
}
