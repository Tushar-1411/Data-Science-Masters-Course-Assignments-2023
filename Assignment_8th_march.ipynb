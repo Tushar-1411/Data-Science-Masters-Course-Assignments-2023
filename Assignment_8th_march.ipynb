{
 "cells": [
  {
   "cell_type": "markdown",
   "id": "e9227f5a-fe84-46ab-b642-0ce1a7773c42",
   "metadata": {},
   "source": [
    "### Question 1\n",
    "\n",
    "Probability density function (PDF) is a statistical concept used in probability theory and statistics. It represents the probability distribution of a continuous random variable in terms of a function. "
   ]
  },
  {
   "cell_type": "markdown",
   "id": "57464512-4044-45a0-8cc3-ec23bb090f0c",
   "metadata": {},
   "source": [
    "### Question 2\n",
    "\n",
    "There are several types of probability distributions, including:\n",
    "\n",
    "1. Discrete probability distributions: These distributions are defined for discrete random variables, which take on distinct and separate values. Examples of discrete probability distributions include the Bernoulli distribution, binomial distribution, Poisson distribution, and geometric distribution.\n",
    "\n",
    "2. Continuous probability distributions: These distributions are defined for continuous random variables, which can take on any value within a certain range. Examples of continuous probability distributions include the uniform distribution, normal distribution (Gaussian distribution), exponential distribution, and gamma distribution."
   ]
  },
  {
   "cell_type": "code",
   "execution_count": 1,
   "id": "2aef2500-44ba-454e-bdeb-02c70a8bcb6e",
   "metadata": {},
   "outputs": [
    {
     "name": "stdout",
     "output_type": "stream",
     "text": [
      "PDF at x = 1: 1.0\n"
     ]
    }
   ],
   "source": [
    "# Question 3 \n",
    "\n",
    "def normal_pdf(x, mean, std_dev):\n",
    "    pdf = (x - mean) / std_dev\n",
    "    return pdf\n",
    "\n",
    "mean = 0\n",
    "std_dev = 1\n",
    "x = 1\n",
    "pdf = normal_pdf(x, mean, std_dev)\n",
    "print(\"PDF at x = {}: {}\".format(x, pdf))"
   ]
  },
  {
   "cell_type": "markdown",
   "id": "88a7d669-5605-4aa1-8798-fc9d373216ef",
   "metadata": {},
   "source": [
    "### Question 4 \n",
    "\n",
    "\n",
    "The properties of a binomial distribution are:\n",
    "\n",
    "1. Fixed number of trials: The binomial distribution is based on a fixed number of trials or experiments, denoted as \"n\".\n",
    "2. Two possible outcomes: Each trial has only two possible outcomes, typically referred to as \"success\" and \"failure\".\n",
    "3. Independent trials: Each trial is independent of the others, meaning that the outcome of one trial does not affect the outcome of any other trial.\n",
    "4. Constant probability: The probability of success (p) remains constant for each trial, while the probability of failure (q) is complementary to p and also remains constant.\n",
    "5. Discrete distribution: The binomial distribution is a discrete probability distribution, meaning that it is defined only for integer values of the random variable.\n",
    "\n",
    "Two examples of events where binomial distribution can be applied are:\n",
    "\n",
    "1. Tossing a fair coin: Consider a fair coin that is tossed multiple times. The outcome of each toss can be considered as a \"success\" (e.g., getting heads) or a \"failure\" (e.g., getting tails). The binomial distribution can be used to model the number of successes (heads) in a fixed number of coin tosses.\n",
    "\n",
    "2. Quality control in manufacturing: In a manufacturing process, items may be classified as defective or non-defective. The binomial distribution can be used to model the number of defective items in a fixed number of randomly selected items from the production line, assuming a constant probability of producing defective items in each trial."
   ]
  },
  {
   "cell_type": "code",
   "execution_count": 3,
   "id": "dd7d1bf1-7913-4542-955d-a29ec1ecb359",
   "metadata": {},
   "outputs": [
    {
     "data": {
      "image/png": "[encoded data removed]",
      "text/plain": [
       "<Figure size 640x480 with 1 Axes>"
      ]
     },
     "metadata": {},
     "output_type": "display_data"
    }
   ],
   "source": [
    "# question 5\n",
    "\n",
    "import numpy as np\n",
    "import matplotlib.pyplot as plt\n",
    "\n",
    "# Generate random sample from binomial distribution\n",
    "n = 1000  # Sample size\n",
    "p = 0.4  # Probability of success\n",
    "binomial_sample = np.random.binomial(1, p, n)\n",
    "\n",
    "# Plot histogram of results\n",
    "plt.hist(binomial_sample, bins=2, color='blue', alpha=0.7)\n",
    "plt.xlabel('Success/Failure')\n",
    "plt.ylabel('Frequency')\n",
    "plt.title('Binomial Distribution (n=1000, p=0.4)')\n",
    "plt.show()\n"
   ]
  },
  {
   "cell_type": "code",
   "execution_count": 5,
   "id": "cb3d7774-1361-44c6-991c-e00362f98ab6",
   "metadata": {},
   "outputs": [
    {
     "name": "stdout",
     "output_type": "stream",
     "text": [
      "CDF at k = 5 is 0.9837945849322451\n"
     ]
    }
   ],
   "source": [
    "# Question 6 \n",
    "\n",
    "import math\n",
    "\n",
    "def poisson_cdf(mean, k):\n",
    "    cdf = 0.0\n",
    "    for i in range(k + 1):\n",
    "        cdf += math.exp(-mean) * (mean ** i) / math.factorial(i)\n",
    "    return cdf\n",
    "\n",
    "mean = 1.99\n",
    "k = 5\n",
    "cdf = poisson_cdf(mean, k)\n",
    "print(\"CDF at k =\", k, \"is\", cdf)"
   ]
  },
  {
   "cell_type": "markdown",
   "id": "16e6f3bc-39bc-42cc-abac-6a19feb45c2c",
   "metadata": {},
   "source": [
    "### Question 7\n",
    "\n",
    "Binomial distribution is used for events with a fixed number of trials and two possible outcomes, while Poisson distribution is used for rare or infrequent events in continuous time or space."
   ]
  },
  {
   "cell_type": "code",
   "execution_count": 6,
   "id": "6b4c0308-0893-46d8-be23-f9a527998dcd",
   "metadata": {},
   "outputs": [
    {
     "name": "stdout",
     "output_type": "stream",
     "text": [
      "Sample Mean : 5.185 \n",
      "Sample Variance : 4.944775000000001\n"
     ]
    }
   ],
   "source": [
    "### Question 8 \n",
    "\n",
    "poisson = np.random.poisson(5, 1000)\n",
    "print(f\"Sample Mean : {np.mean(poisson)} \\nSample Variance : {np.var(poisson)}\")\n"
   ]
  },
  {
   "cell_type": "markdown",
   "id": "a641b98a-4b16-4785-bbb5-a68e7aba7b04",
   "metadata": {},
   "source": [
    "### Question 9\n",
    "\n",
    "In Binomial distribution, the mean (μ) is given by the formula: μ = n * p, where n is the number of trials and p is the probability of success in each trial. The varianceis given by the formula:  n * p * (1 - p). As we can see, both the mean and variance of Binomial distribution depend on the number of trials (n) and the probability of success (p).\n",
    "\n",
    "In Poisson distribution, the mean (μ) and variance are equal, and both are given by the formula: μ = λ, where λ is the average rate or intensity of events occurring in a given time or space interval. In other words, in Poisson distribution, the mean and variance are directly proportional to the average rate of events."
   ]
  },
  {
   "cell_type": "markdown",
   "id": "44d446c4-b044-4b0e-9cdc-66f79de36c90",
   "metadata": {},
   "source": [
    "### Question 10\n",
    "\n",
    "In a normal distribution, the least frequent data (i.e., the data that appears at the tails of the distribution) is located farthest from the mean position. Specifically, the least frequent data points would be found in the extreme ends of the distribution, in the tails that are farther away from the mean. In a standard normal distribution with a mean of 0 and a standard deviation of 1, the least frequent data points would be located in the tails with the smallest probabilities, i.e., the tails with the highest z-scores (i.e., z-scores that are farthest from 0)."
   ]
  },
  {
   "cell_type": "code",
   "execution_count": null,
   "id": "7a81e353-fd23-4c7a-9d63-5475e780534e",
   "metadata": {},
   "outputs": [],
   "source": []
  }
 ],
 "metadata": {
  "kernelspec": {
   "display_name": "Python 3 (ipykernel)",
   "language": "python",
   "name": "python3"
  },
  "language_info": {
   "codemirror_mode": {
    "name": "ipython",
    "version": 3
   },
   "file_extension": ".py",
   "mimetype": "text/x-python",
   "name": "python",
   "nbconvert_exporter": "python",
   "pygments_lexer": "ipython3",
   "version": "3.10.8"
  }
 },
 "nbformat": 4,
 "nbformat_minor": 5
}
