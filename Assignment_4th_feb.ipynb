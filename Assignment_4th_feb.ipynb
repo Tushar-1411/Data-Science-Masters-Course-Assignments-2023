{
 "cells": [
  {
   "cell_type": "code",
   "execution_count": 3,
   "id": "4986ba89-c4c0-4a49-8400-5b59512129a3",
   "metadata": {},
   "outputs": [
    {
     "name": "stdout",
     "output_type": "stream",
     "text": [
      "[('Virat Kohli', 24936), ('Jack Kallis', 25534), ('Ricky Ponting', 27483), ('Sachin Tendulkar', 34357)]\n"
     ]
    }
   ],
   "source": [
    "# Question 1\n",
    "lst = [('Sachin Tendulkar', 34357), ('Ricky Ponting', 27483), ('Jack Kallis', 25534), ('Virat Kohli', 24936)]\n",
    "\n",
    "s = sorted(lst, key=lambda x: x[1])\n",
    "print(s)"
   ]
  },
  {
   "cell_type": "code",
   "execution_count": 5,
   "id": "2e1a1ff8-6914-4486-8bcb-9e1827956b39",
   "metadata": {},
   "outputs": [
    {
     "data": {
      "text/plain": [
       "[1, 4, 9, 16, 25, 36, 49, 64, 81, 100]"
      ]
     },
     "execution_count": 5,
     "metadata": {},
     "output_type": "execute_result"
    }
   ],
   "source": [
    "# Question 2\n",
    "\n",
    "lst = [1, 2, 3, 4, 5, 6, 7, 8, 9, 10]\n",
    "\n",
    "list(map(lambda x : x**2, lst))"
   ]
  },
  {
   "cell_type": "code",
   "execution_count": 6,
   "id": "fa5375f3-7f5e-4a59-87b3-7f7c72e569bf",
   "metadata": {},
   "outputs": [
    {
     "data": {
      "text/plain": [
       "('1', '2', '3', '4', '5', '6', '7', '8', '9', '10')"
      ]
     },
     "execution_count": 6,
     "metadata": {},
     "output_type": "execute_result"
    }
   ],
   "source": [
    "# Question 3\n",
    "\n",
    "mylist = [1, 2, 3, 4, 5, 6, 7, 8, 9, 10]\n",
    "\n",
    "tuple(map(lambda x: str(x), mylist))"
   ]
  },
  {
   "cell_type": "code",
   "execution_count": 9,
   "id": "033ddabd-fbfe-49a0-aa6d-f8f3a9973608",
   "metadata": {},
   "outputs": [
    {
     "data": {
      "text/plain": [
       "15511210043330985984000000"
      ]
     },
     "execution_count": 9,
     "metadata": {},
     "output_type": "execute_result"
    }
   ],
   "source": [
    "# Question 4\n",
    "from functools import reduce\n",
    "\n",
    "mylist = list(range(1,26))\n",
    "reduce(lambda x,y : x*y, mylist)"
   ]
  },
  {
   "cell_type": "code",
   "execution_count": 13,
   "id": "a18fe688-2a02-4650-8ca4-031adb0add2e",
   "metadata": {},
   "outputs": [
    {
     "data": {
      "text/plain": [
       "[6, 60, 90, 120]"
      ]
     },
     "execution_count": 13,
     "metadata": {},
     "output_type": "execute_result"
    }
   ],
   "source": [
    "# Question 5\n",
    "\n",
    "mylist = [2, 3, 6, 9, 27, 60, 90, 120, 55, 46]\n",
    "list(filter(lambda x: x if x%2 == 0 and x%3==0 else None, mylist))"
   ]
  },
  {
   "cell_type": "code",
   "execution_count": 34,
   "id": "ee649abe-d3ef-4559-b2e2-3cfe22d97b5c",
   "metadata": {},
   "outputs": [
    {
     "data": {
      "text/plain": [
       "['php', 'aba', 'radar', 'level']"
      ]
     },
     "execution_count": 34,
     "metadata": {},
     "output_type": "execute_result"
    }
   ],
   "source": [
    "# Question 6\n",
    "\n",
    "mylst = ['python', 'php', 'aba', 'radar', 'level']\n",
    "\n",
    "list(filter(lambda x: x == x[::-1], mylst))"
   ]
  }
 ],
 "metadata": {
  "kernelspec": {
   "display_name": "Python 3 (ipykernel)",
   "language": "python",
   "name": "python3"
  },
  "language_info": {
   "codemirror_mode": {
    "name": "ipython",
    "version": 3
   },
   "file_extension": ".py",
   "mimetype": "text/x-python",
   "name": "python",
   "nbconvert_exporter": "python",
   "pygments_lexer": "ipython3",
   "version": "3.10.8"
  }
 },
 "nbformat": 4,
 "nbformat_minor": 5
}
