{
 "cells": [
  {
   "cell_type": "markdown",
   "id": "6b73bbf9-e2b9-48a0-b1f7-568505843231",
   "metadata": {},
   "source": [
    "Ans1: In Python, an Exception is a runtime error that occurs while the program is executing. It is an event that interrupts the normal flow of the program's instructions.\n",
    "\n",
    "Syntax errors, on the other hand, are errors that occur during the compilation of the code before it is executed. These errors are caused by incorrect syntax or code structure, such as misspelling a keyword, leaving out a required parameter, or using a wrong operator."
   ]
  },
  {
   "cell_type": "code",
   "execution_count": 1,
   "id": "3c41f551-a3ea-44cf-876a-6b540e7dfa4b",
   "metadata": {},
   "outputs": [
    {
     "ename": "ZeroDivisionError",
     "evalue": "division by zero",
     "output_type": "error",
     "traceback": [
      "\u001b[0;31m---------------------------------------------------------------------------\u001b[0m",
      "\u001b[0;31mZeroDivisionError\u001b[0m                         Traceback (most recent call last)",
      "Cell \u001b[0;32mIn[1], line 7\u001b[0m\n\u001b[1;32m      3\u001b[0m \u001b[38;5;124;03m\"\"\" When an exception is not handled it will interrupt the flow of program and terminate it throwing the exception.\u001b[39;00m\n\u001b[1;32m      4\u001b[0m \u001b[38;5;124;03mfor example when dividing by zero .\"\"\"\u001b[39;00m\n\u001b[1;32m      6\u001b[0m a \u001b[38;5;241m=\u001b[39m \u001b[38;5;241m20\u001b[39m\n\u001b[0;32m----> 7\u001b[0m \u001b[43ma\u001b[49m\u001b[38;5;241;43m/\u001b[39;49m\u001b[38;5;241;43m0\u001b[39;49m\n",
      "\u001b[0;31mZeroDivisionError\u001b[0m: division by zero"
     ]
    }
   ],
   "source": [
    "# Question2\n",
    "\n",
    "\"\"\" When an exception is not handled it will interrupt the flow of program and terminate it throwing the exception.\n",
    "for example when dividing by zero it throws divison by zero. \"\"\"\n",
    "\n",
    "a = 20\n",
    "a/0"
   ]
  },
  {
   "cell_type": "code",
   "execution_count": 2,
   "id": "b00a283f-dd2b-4ea1-bf5a-110f45c568c6",
   "metadata": {},
   "outputs": [
    {
     "name": "stdout",
     "output_type": "stream",
     "text": [
      "Caught : division by zero\n"
     ]
    }
   ],
   "source": [
    "# Question 3\n",
    "\n",
    "\"\"\" In python a try-except block is used to handle and catch exception . \"\"\"\n",
    "try:\n",
    "    20/0\n",
    "except Exception as e:\n",
    "    print(f\"Caught : {e}\")\n",
    "    "
   ]
  },
  {
   "cell_type": "code",
   "execution_count": 8,
   "id": "66252b62-4c6d-45ca-96d0-377804373a73",
   "metadata": {},
   "outputs": [
    {
     "name": "stdin",
     "output_type": "stream",
     "text": [
      "Enter a number:  20\n",
      "Enter another number:  10\n"
     ]
    },
    {
     "name": "stdout",
     "output_type": "stream",
     "text": [
      "The result is: 2.0\n"
     ]
    }
   ],
   "source": [
    "# Question3\n",
    "# The try block is used to enclose the code that might raise an exception. \n",
    "# If an exception is raised, the except block is executed. However, if there is no exception, the else block is executed.\n",
    "\n",
    "try:\n",
    "    num1 = int(input(\"Enter a number: \"))\n",
    "    num2 = int(input(\"Enter another number: \"))\n",
    "    result = num1 / num2\n",
    "except ZeroDivisionError:\n",
    "    print(\"Cannot divide by zero\")\n",
    "else:\n",
    "    print(\"The result is:\", result)"
   ]
  },
  {
   "cell_type": "code",
   "execution_count": 10,
   "id": "eeda5548-03e8-4810-bf23-df071a7d2bf7",
   "metadata": {},
   "outputs": [
    {
     "name": "stdout",
     "output_type": "stream",
     "text": [
      "An error occurred\n",
      "None\n"
     ]
    }
   ],
   "source": [
    "#The finally block is always executed, regardless of whether an exception was raised or not.\n",
    "\n",
    "try:\n",
    "    f = open(\"file.txt\", \"r\")\n",
    "    # some code that might raise an exception\n",
    "except:\n",
    "    print(\"An error occurred\")\n",
    "finally:\n",
    "    print(\"None\")\n"
   ]
  },
  {
   "cell_type": "code",
   "execution_count": 14,
   "id": "3d8fb2b9-6d9b-4f74-9d8b-e2b40f244090",
   "metadata": {},
   "outputs": [
    {
     "name": "stdin",
     "output_type": "stream",
     "text": [
      "Enter your age:  10\n"
     ]
    },
    {
     "name": "stdout",
     "output_type": "stream",
     "text": [
      "Error: Age must be at least 18\n"
     ]
    }
   ],
   "source": [
    "# raise: The raise keyword is used to manually raise an exception. You can use this keyword to raise either built-in or custom exceptions.\n",
    "\n",
    "def validate_age(age):\n",
    "    if age < 0:\n",
    "        raise ValueError(\"Age cannot be negative\")\n",
    "    elif age < 18:\n",
    "        raise ValueError(\"Age must be at least 18\")\n",
    "    else:\n",
    "        print(\"Age is valid\")\n",
    "\n",
    "try:\n",
    "    age = int(input(\"Enter your age: \"))\n",
    "    validate_age(age)\n",
    "except ValueError as e:\n",
    "    print(\"Error:\", e)\n"
   ]
  },
  {
   "cell_type": "code",
   "execution_count": 17,
   "id": "f560c526-c19b-4db3-92e0-556bd5ece5f7",
   "metadata": {},
   "outputs": [
    {
     "name": "stdin",
     "output_type": "stream",
     "text": [
      "Enter the length of the rectangle:  100\n",
      "Enter the width of the rectangle:  0\n"
     ]
    },
    {
     "name": "stdout",
     "output_type": "stream",
     "text": [
      "Error: Length and width must be positive numbers\n"
     ]
    }
   ],
   "source": [
    "# Question 4 and Question 5\n",
    "\n",
    "\"\"\" Custom exceptions in Python are user-defined exceptions that can be raised like any other built-in exceptions. \n",
    "We need them to handle specific errors or exceptional situations that cannot be handled using the built-in exceptions.\n",
    "For example, let's say we are writing a program that calculates the area of a rectangle, but we want to make sure that the length and width are both positive numbers. We can define a custom exception called InvalidDimensionException to handle this specific case.\"\"\"\n",
    "\n",
    "class InvalidDimensionException(Exception):\n",
    "    pass\n",
    "\n",
    "def calculate_area(length, width):\n",
    "    if length <= 0 or width <= 0:\n",
    "        raise InvalidDimensionException(\"Length and width must be positive numbers\")\n",
    "    return length * width\n",
    "\n",
    "try:\n",
    "    length = float(input(\"Enter the length of the rectangle: \"))\n",
    "    width = float(input(\"Enter the width of the rectangle: \"))\n",
    "    area = calculate_area(length, width)\n",
    "    print(\"The area of the rectangle is:\", area)\n",
    "except InvalidDimensionException as e:\n",
    "    print(\"Error:\", e)\n"
   ]
  },
  {
   "cell_type": "code",
   "execution_count": null,
   "id": "fe7e1ef3-65ed-4f6d-bad1-b63277440d27",
   "metadata": {},
   "outputs": [],
   "source": []
  }
 ],
 "metadata": {
  "kernelspec": {
   "display_name": "Python 3 (ipykernel)",
   "language": "python",
   "name": "python3"
  },
  "language_info": {
   "codemirror_mode": {
    "name": "ipython",
    "version": 3
   },
   "file_extension": ".py",
   "mimetype": "text/x-python",
   "name": "python",
   "nbconvert_exporter": "python",
   "pygments_lexer": "ipython3",
   "version": "3.10.8"
  }
 },
 "nbformat": 4,
 "nbformat_minor": 5
}
