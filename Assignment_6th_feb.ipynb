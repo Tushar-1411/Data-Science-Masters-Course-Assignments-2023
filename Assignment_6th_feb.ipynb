{
 "cells": [
  {
   "cell_type": "code",
   "execution_count": 32,
   "id": "84baf3f1-c0af-4304-9947-8126dc333c1e",
   "metadata": {},
   "outputs": [
    {
     "data": {
      "text/plain": [
       "4134711838987085478833841242112000"
      ]
     },
     "execution_count": 32,
     "metadata": {},
     "output_type": "execute_result"
    }
   ],
   "source": [
    "# Question 1\n",
    "\n",
    "list1 = [1,2,3,4, [44,55,66, True], False, (34,56,78,89,34), {1,2,3,3,2,1}, {1:34, \"key2\": [55, 67, 78, 89], 4: (45,22, 61, 34)}, [56, 'data science'], 'Machine Learning']\n",
    "\n",
    "def prod_of_numbers(lst):\n",
    "    flat_list = []\n",
    "    prod = 1\n",
    "    def flatten(lst):\n",
    "        for item in lst:\n",
    "            if type(item) in (list, tuple, set):\n",
    "                flatten(item)\n",
    "            elif type(item) == int:\n",
    "                flat_list.append(item)\n",
    "            elif type(item) == dict:\n",
    "                lst = list(item.keys()) + list(item.values())\n",
    "                flatten(lst)\n",
    "        return flat_list\n",
    "    for i in flatten(lst):\n",
    "        prod*=i\n",
    "    return prod\n",
    "\n",
    "prod_of_numbers(list1)"
   ]
  },
  {
   "cell_type": "code",
   "execution_count": 55,
   "id": "b3371638-052d-4a1d-82b2-31b6b438ab08",
   "metadata": {},
   "outputs": [
    {
     "data": {
      "text/plain": [
       "'r$dzmg$gl$yvxlnv$z$wzgz$hxrvmgrhg.'"
      ]
     },
     "execution_count": 55,
     "metadata": {},
     "output_type": "execute_result"
    }
   ],
   "source": [
    "# Question 2\n",
    "sentence = 'I want to become a Data Scientist.'\n",
    "\n",
    "def encrypt(sample):\n",
    "    line = sample.lower()\n",
    "    result = \"\"\n",
    "    for x in line:\n",
    "        if ( ord(x) in range(97,123) ):\n",
    "            result += chr(122 + 97 - ord(x))\n",
    "        else:\n",
    "            result += x\n",
    "    return result.replace(\" \",\"$\")\n",
    "encrypt(sentence)"
   ]
  },
  {
   "cell_type": "code",
   "execution_count": null,
   "id": "9ce48c6c-efb8-4a7e-9d31-1c17feb132e4",
   "metadata": {
    "tags": []
   },
   "outputs": [],
   "source": []
  },
  {
   "cell_type": "code",
   "execution_count": null,
   "id": "e7e2ff36-5e4d-4735-bc9c-6c6a8ba45524",
   "metadata": {},
   "outputs": [],
   "source": []
  }
 ],
 "metadata": {
  "kernelspec": {
   "display_name": "Python 3 (ipykernel)",
   "language": "python",
   "name": "python3"
  },
  "language_info": {
   "codemirror_mode": {
    "name": "ipython",
    "version": 3
   },
   "file_extension": ".py",
   "mimetype": "text/x-python",
   "name": "python",
   "nbconvert_exporter": "python",
   "pygments_lexer": "ipython3",
   "version": "3.10.8"
  }
 },
 "nbformat": 4,
 "nbformat_minor": 5
}
