{
 "cells": [
  {
   "cell_type": "markdown",
   "id": "a6983030-6e24-48e1-9c3b-ce3aa4eaade6",
   "metadata": {},
   "source": [
    "Ans1: Tuples are an ordered collection of elements. They are enclosed in parenthesis \"()\". Elements can be heterogenous. \n",
    "Yes Tuples are immutable hence the contents can't be altered. Ex- (1,2,3,{1,2,3},[\"name\"])"
   ]
  },
  {
   "cell_type": "code",
   "execution_count": 3,
   "id": "2bc12c9f-423b-405e-9dfa-0f1b722bd707",
   "metadata": {},
   "outputs": [
    {
     "name": "stdout",
     "output_type": "stream",
     "text": [
      "2\n",
      "1\n"
     ]
    }
   ],
   "source": [
    "# Question 2\n",
    "\"\"\" Two tuple methods are count and index methods\n",
    "Count : Counts the instances of an element inside the tuple \n",
    "Index : returns the index of the first occurence of the element\"\"\"\n",
    "\n",
    "t = (1,2,3,4,1,2,3,5,6,7)\n",
    "print(t.count(1))\n",
    "print(t.index(2))"
   ]
  },
  {
   "cell_type": "code",
   "execution_count": 1,
   "id": "274e6b03-940a-4763-a81b-f02d6dbbb002",
   "metadata": {},
   "outputs": [
    {
     "name": "stdout",
     "output_type": "stream",
     "text": [
      "{1, 2, 3, 4}\n"
     ]
    }
   ],
   "source": [
    "# Question 3\n",
    "\n",
    "\"\"\" Set is the collections data type which does not allow duplicate items.\"\"\"\n",
    "\n",
    "List = [1, 1, 1, 2, 1, 3, 1, 4, 2, 1, 2, 2, 2, 3, 2, 4, 3, 1, 3, 2, 3, 3, 3, 4, 4, 1, 4, 2, 4, 3, 4, 4]\n",
    "print(set(List))"
   ]
  },
  {
   "cell_type": "code",
   "execution_count": 7,
   "id": "002a43da-a739-4d0c-b945-f79b5b7925fc",
   "metadata": {},
   "outputs": [
    {
     "name": "stdout",
     "output_type": "stream",
     "text": [
      "Union:  {1, 2, 3, 4, 5, 6, 7, 8, 9}\n",
      "{1, 2, 3, 6, 8, 9}\n",
      "\n",
      "Update:  None\n",
      "{1, 2, 3, 4, 5, 6, 7, 8, 9}\n"
     ]
    }
   ],
   "source": [
    "# Question 4\n",
    "\"\"\" Union method creates a union of the two sets and return a copy of the union without updating the sets\n",
    "Update : updates the set with the union of itself and others\"\"\"\n",
    "\n",
    "set1 = {1,2,3,6,8,9}\n",
    "set2 = {3,4,6,5,7}\n",
    "\n",
    "print(\"Union: \",set1.union(set2))\n",
    "print(set1)\n",
    "print()\n",
    "print('Update: ',set1.update(set2))\n",
    "print(set1)\n"
   ]
  },
  {
   "cell_type": "markdown",
   "id": "2a387046-14be-4af5-a3b7-6ea1bb21fcc9",
   "metadata": {},
   "source": [
    "#### Question5"
   ]
  },
  {
   "cell_type": "markdown",
   "id": "9af614dc-68c6-4224-a7c1-227a03616fe1",
   "metadata": {},
   "source": [
    "Ans5: A dictionary is a collection of key-value pairs as elements enclosed within curly braces \"{}\".\n",
    "\n",
    "Example: {1:\"hey\", 2:\"there\", 3:\"hello\"}\n",
    "Also dictionaries are unordered collection of elements."
   ]
  },
  {
   "cell_type": "code",
   "execution_count": 8,
   "id": "14f82f38-c701-4f53-81df-55772d799e32",
   "metadata": {},
   "outputs": [
    {
     "name": "stdout",
     "output_type": "stream",
     "text": [
      "{1: {1: 3, 3: 4}, 2: {1: 'name', 2: 'fname'}}\n"
     ]
    }
   ],
   "source": [
    "# Question 6\n",
    "\n",
    "\"\"\" Yes it is possible to create a nested dictionary but dictionaries can only be values in the another dictionary \"\"\"\n",
    "\n",
    "Ex = {1:{1:3, 3:4}, 2:{1:\"name\", 2:\"fname\"}}\n",
    "print(Ex)"
   ]
  },
  {
   "cell_type": "code",
   "execution_count": 9,
   "id": "b5378b94-3f6c-453a-ab3e-39a41b84135c",
   "metadata": {},
   "outputs": [
    {
     "name": "stdout",
     "output_type": "stream",
     "text": [
      "{'language': 'Python', 'course': 'Data Science Masters'}\n",
      "['Python', 'Machine Learning', 'Deep Learning']\n",
      "{'language': 'Python', 'course': 'Data Science Masters', 'topics': ['Python', 'Machine Learning', 'Deep Learning']}\n"
     ]
    }
   ],
   "source": [
    "# Question 7\n",
    "\n",
    "dict1 = {'language' : 'Python', 'course': 'Data Science Masters'}\n",
    "print(dict1)\n",
    "print(dict1.setdefault('topics', ['Python', 'Machine Learning', 'Deep Learning']))\n",
    "print(dict1)"
   ]
  },
  {
   "cell_type": "code",
   "execution_count": 10,
   "id": "7f184780-52bb-4a0f-85c8-5b60c3d884ea",
   "metadata": {},
   "outputs": [
    {
     "name": "stdout",
     "output_type": "stream",
     "text": [
      "keys:  dict_keys(['Sport', 'Teams'])\n",
      "Values:  dict_values(['Cricket', ['India', 'Australia', 'England', 'South Africa', 'Sri Lanka', 'New Zealand']])\n",
      "Items:  dict_items([('Sport', 'Cricket'), ('Teams', ['India', 'Australia', 'England', 'South Africa', 'Sri Lanka', 'New Zealand'])])\n"
     ]
    }
   ],
   "source": [
    "# Question 8\n",
    "\n",
    "\"\"\" In Python, dictionaries have three view objects: keys(), values(), and items().\n",
    "keys() returns a view object that displays a list of all the keys in the dictionary.\n",
    "values() returns a view object that displays a list of all the values in the dictionary.\n",
    "items() returns a view object that displays a list of all the items (keys and values) in the dictionary, as a list of tuples.\"\"\"\n",
    "\n",
    "dict1 = {'Sport': 'Cricket' , 'Teams': ['India', 'Australia', 'England', 'South Africa', 'Sri Lanka', 'New Zealand']}\n",
    "\n",
    "print('keys: ',dict1.keys())\n",
    "print(\"Values: \",dict1.values())\n",
    "print('Items: ',dict1.items())"
   ]
  }
 ],
 "metadata": {
  "kernelspec": {
   "display_name": "Python 3 (ipykernel)",
   "language": "python",
   "name": "python3"
  },
  "language_info": {
   "codemirror_mode": {
    "name": "ipython",
    "version": 3
   },
   "file_extension": ".py",
   "mimetype": "text/x-python",
   "name": "python",
   "nbconvert_exporter": "python",
   "pygments_lexer": "ipython3",
   "version": "3.10.8"
  }
 },
 "nbformat": 4,
 "nbformat_minor": 5
}
