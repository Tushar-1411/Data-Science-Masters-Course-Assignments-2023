{
 "cells": [
  {
   "cell_type": "code",
   "execution_count": 1,
   "id": "605f789f-d39b-4531-968e-bd1ce1d7f3f7",
   "metadata": {},
   "outputs": [],
   "source": [
    "# question 1\n",
    "\n",
    "class vehicle:\n",
    "    def __init__(self, name, speed, avg):\n",
    "        self.name_of_vehicle = name\n",
    "        self.max_speed = speed\n",
    "        self.average_of_vehicle = avg"
   ]
  },
  {
   "cell_type": "code",
   "execution_count": 4,
   "id": "67bbd807-2835-4b55-80f2-6759930dccc6",
   "metadata": {},
   "outputs": [
    {
     "data": {
      "text/plain": [
       "('Audi', 4)"
      ]
     },
     "execution_count": 4,
     "metadata": {},
     "output_type": "execute_result"
    }
   ],
   "source": [
    "# question 2\n",
    "\n",
    "class child(vehicle):\n",
    "    def seating_capacity(self, capacity):\n",
    "        return self.name_of_vehicle, capacity\n",
    "child_obj = child('Audi', \"250\", \"36\")\n",
    "child_obj.seating_capacity(4)"
   ]
  },
  {
   "cell_type": "code",
   "execution_count": 5,
   "id": "043e1592-90c4-47a8-8e79-acc0574fc994",
   "metadata": {},
   "outputs": [
    {
     "name": "stdout",
     "output_type": "stream",
     "text": [
      "Parent1 method1\n",
      "Parent2 method2\n",
      "Child method3\n"
     ]
    }
   ],
   "source": [
    "# Question 3\n",
    "\n",
    "\"\"\" Multiple Inheritance refers to when a class inherits from more than one class\"\"\"\n",
    "\n",
    "class Parent1:\n",
    "    def method1(self):\n",
    "        print(\"Parent1 method1\")\n",
    "\n",
    "class Parent2:\n",
    "    def method2(self):\n",
    "        print(\"Parent2 method2\")\n",
    "\n",
    "class Child(Parent1, Parent2):\n",
    "    def method3(self):\n",
    "        print(\"Child method3\")\n",
    "\n",
    "c = Child()\n",
    "c.method1()\n",
    "c.method2()\n",
    "c.method3()\n"
   ]
  },
  {
   "cell_type": "code",
   "execution_count": 3,
   "id": "bad0e9b8-503e-4c64-bf4e-7a77491cc7d3",
   "metadata": {},
   "outputs": [
    {
     "name": "stdout",
     "output_type": "stream",
     "text": [
      "Rohan\n",
      "sohan\n"
     ]
    }
   ],
   "source": [
    "# Question 4\n",
    "\"\"\" In Python, getter and setter methods are used to retrieve and set the values of the properties of an object.\"\"\"\n",
    "\n",
    "class Person:\n",
    "    def __init__(self, name):\n",
    "        self.__name = name\n",
    "        \n",
    "    @property\n",
    "    def name(self):\n",
    "        return self.__name\n",
    "    \n",
    "    @name.setter\n",
    "    def name(self, name):\n",
    "        self.__name = name\n",
    "\n",
    "person = Person(\"Rohan\")\n",
    "print(person.name) # Output: John\n",
    "person.name = \"sohan\"\n",
    "print(person.name) # Output: Jane"
   ]
  },
  {
   "cell_type": "code",
   "execution_count": 7,
   "id": "290111c4-4393-4d1f-958f-e401dfeb15ba",
   "metadata": {},
   "outputs": [
    {
     "name": "stdout",
     "output_type": "stream",
     "text": [
      "200\n",
      "314.0\n"
     ]
    }
   ],
   "source": [
    "# Question 5\n",
    "\n",
    "class Shape:\n",
    "    def area(self):\n",
    "        pass\n",
    "\n",
    "class Rectangle(Shape):\n",
    "    def __init__(self, width, height):\n",
    "        self.width = width\n",
    "        self.height = height\n",
    "\n",
    "    def area(self):\n",
    "        return self.width * self.height\n",
    "\n",
    "class Circle(Shape):\n",
    "    def __init__(self, radius):\n",
    "        self.radius = radius\n",
    "\n",
    "    def area(self):\n",
    "        return 3.14 * self.radius * self.radius\n",
    "\n",
    "rect = Rectangle(10, 20)\n",
    "print(rect.area())\n",
    "\n",
    "circ = Circle(10)\n",
    "print(circ.area())"
   ]
  }
 ],
 "metadata": {
  "kernelspec": {
   "display_name": "Python 3 (ipykernel)",
   "language": "python",
   "name": "python3"
  },
  "language_info": {
   "codemirror_mode": {
    "name": "ipython",
    "version": 3
   },
   "file_extension": ".py",
   "mimetype": "text/x-python",
   "name": "python",
   "nbconvert_exporter": "python",
   "pygments_lexer": "ipython3",
   "version": "3.10.8"
  }
 },
 "nbformat": 4,
 "nbformat_minor": 5
}
