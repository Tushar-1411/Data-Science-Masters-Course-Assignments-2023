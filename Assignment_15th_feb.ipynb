{
 "cells": [
  {
   "cell_type": "markdown",
   "id": "cc64e11b-5dfa-4b45-9a4e-0ff952361320",
   "metadata": {},
   "source": [
    "### Question 1\n",
    "\n",
    "Multiprocessing in Python is the technique of using multiple processors or cores to execute a program concurrently, allowing for parallel processing of tasks. This can be useful for computationally intensive tasks or for tasks that can be easily parallelized, such as data processing or scientific simulations."
   ]
  },
  {
   "cell_type": "markdown",
   "id": "16f783bc-1d08-434f-b5c1-178f0482e8c9",
   "metadata": {},
   "source": [
    "### Question 2\n",
    "\n",
    "Multiprocessing involves running multiple processes, each with its own memory space and interpreter, while multithreading involves running multiple threads within the same process and shared memory space. This means that multiprocessing can achieve true parallelism and avoid the limitations of the Global Interpreter Lock (GIL), while multithreading is limited by the GIL and can only achieve concurrent execution."
   ]
  },
  {
   "cell_type": "code",
   "execution_count": 1,
   "id": "54f0aa25-e7e6-4ecd-a2da-b59c6917169e",
   "metadata": {},
   "outputs": [
    {
     "name": "stdout",
     "output_type": "stream",
     "text": [
      "Worker process started.\n",
      "Worker process finished.\n",
      "Main process finished.\n"
     ]
    }
   ],
   "source": [
    "# Question 3\n",
    "\n",
    "import multiprocessing\n",
    "\n",
    "def worker():\n",
    "    \"\"\"Function to be run as a separate process.\"\"\"\n",
    "    print(\"Worker process started.\")\n",
    "    # Perform some task here...\n",
    "    print(\"Worker process finished.\")\n",
    "\n",
    "if __name__ == \"__main__\":\n",
    "    # Create a new process and start it\n",
    "    p = multiprocessing.Process(target=worker)\n",
    "    p.start()\n",
    "\n",
    "    # Wait for the process to finish before continuing\n",
    "    p.join()\n",
    "\n",
    "    print(\"Main process finished.\")\n"
   ]
  },
  {
   "cell_type": "markdown",
   "id": "74f031bc-a6bd-4035-bc40-b1c959fd2148",
   "metadata": {},
   "source": [
    "### Question 4 \n",
    "\n",
    "A multiprocessing pool in Python is a collection of worker processes that can be used to execute tasks in parallel. The multiprocessing.Pool class provides a convenient way to create a pool of worker processes, distribute tasks to them, and collect the results."
   ]
  },
  {
   "cell_type": "markdown",
   "id": "1f0712b8-dc5f-4fe0-9637-9454c2fdffb5",
   "metadata": {},
   "source": [
    "### Question 5\n",
    "\n",
    "To create a pool of worker processes in Python using the multiprocessing module, you can use the multiprocessing.Pool class. "
   ]
  },
  {
   "cell_type": "code",
   "execution_count": 2,
   "id": "211100b2-d61c-4631-910b-bd295e5fc2db",
   "metadata": {},
   "outputs": [
    {
     "name": "stdout",
     "output_type": "stream",
     "text": [
      "Process Process-2 prints number 0\n",
      "Process Process-3 prints number 1\n",
      "Process Process-4 prints number 2\n",
      "Process Process-5 prints number 3\n",
      "All processes finished.\n"
     ]
    }
   ],
   "source": [
    "### Question 6\n",
    "\n",
    "import multiprocessing\n",
    "\n",
    "def print_number(number):\n",
    "    \"\"\"Function to print a number.\"\"\"\n",
    "    print(\"Process {} prints number {}\".format(multiprocessing.current_process().name, number))\n",
    "\n",
    "if __name__ == \"__main__\":\n",
    "    # Create 4 processes and start them\n",
    "    processes = []\n",
    "    for i in range(4):\n",
    "        p = multiprocessing.Process(target=print_number, args=(i,))\n",
    "        p.start()\n",
    "        processes.append(p)\n",
    "\n",
    "    # Wait for the processes to finish\n",
    "    for p in processes:\n",
    "        p.join()\n",
    "\n",
    "    print(\"All processes finished.\")\n"
   ]
  },
  {
   "cell_type": "code",
   "execution_count": null,
   "id": "87534ab8-8b05-4d96-9df6-cb4fe0d4fe5b",
   "metadata": {},
   "outputs": [],
   "source": []
  }
 ],
 "metadata": {
  "kernelspec": {
   "display_name": "Python 3 (ipykernel)",
   "language": "python",
   "name": "python3"
  },
  "language_info": {
   "codemirror_mode": {
    "name": "ipython",
    "version": 3
   },
   "file_extension": ".py",
   "mimetype": "text/x-python",
   "name": "python",
   "nbconvert_exporter": "python",
   "pygments_lexer": "ipython3",
   "version": "3.10.8"
  }
 },
 "nbformat": 4,
 "nbformat_minor": 5
}
