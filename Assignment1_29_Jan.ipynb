{
 "cells": [
  {
   "cell_type": "markdown",
   "id": "03f78b15-0ecf-4f2c-9187-34d66d61eb9d",
   "metadata": {},
   "source": [
    "Ans1: Python was developed by Guido Van Rossum "
   ]
  },
  {
   "cell_type": "markdown",
   "id": "02065d2f-8e2a-418e-9310-4cbe54a3ec09",
   "metadata": {},
   "source": [
    "Ans2: Python support three programming paradigms: Imperative, Functional, and Object-Oriented "
   ]
  },
  {
   "cell_type": "markdown",
   "id": "39c52ab1-a450-4b57-a575-1d66111b8a9f",
   "metadata": {},
   "source": [
    "Ans3: Yes Python is a case sensitive language when deaking with identifiers"
   ]
  },
  {
   "cell_type": "markdown",
   "id": "4b469379-eb8d-4a1a-bf34-9cb53211342a",
   "metadata": {},
   "source": [
    "Ans4: Correct extension of a python file is \" .py \""
   ]
  },
  {
   "cell_type": "markdown",
   "id": "02e34283-7d76-4fa2-b67a-543447d03ecd",
   "metadata": {},
   "source": [
    "Ans5: Python is an interpreted language. Hence its code is interpreted"
   ]
  },
  {
   "cell_type": "markdown",
   "id": "fde6c9e1-e475-4595-a34f-b50bb745f982",
   "metadata": {},
   "source": [
    "Ans6: In python a block of code is defined by indentation"
   ]
  },
  {
   "cell_type": "markdown",
   "id": "5f78ddf8-dfe3-4fc4-ba8f-ce72856787e0",
   "metadata": {},
   "source": [
    "Ans7: The hash character \" # \" is used to give single line comments in python"
   ]
  },
  {
   "cell_type": "markdown",
   "id": "53700480-1f63-43c3-8eee-7dbc802c546b",
   "metadata": {},
   "source": [
    "Ans8: By importing the platform module and calling the python_version() method"
   ]
  },
  {
   "cell_type": "markdown",
   "id": "5bb8e7e4-ef75-48e2-9de9-e0b330198042",
   "metadata": {},
   "source": [
    "Ans9: By calling the \"lambda\" construct pythona allows anonymous functions creation at runtime"
   ]
  },
  {
   "cell_type": "markdown",
   "id": "e3de8a78-58ba-4b80-b5eb-3d7d73ba7e32",
   "metadata": {},
   "source": [
    "Ans10: pip stands for \"preferred installer program\""
   ]
  },
  {
   "cell_type": "markdown",
   "id": "4045b909-a73a-4e22-a8ac-373223d212ef",
   "metadata": {},
   "source": [
    "Ans11: few built-in functions in python are \"print\", \"input\", \"int\""
   ]
  },
  {
   "cell_type": "markdown",
   "id": "891607f8-26c6-4aa5-ad53-c9d2e35891fd",
   "metadata": {},
   "source": [
    "Ans12: Maximum possible length of an identifier can be 79 characters"
   ]
  },
  {
   "cell_type": "markdown",
   "id": "48cda538-69a8-4d6b-9879-1abd7650ec5f",
   "metadata": {},
   "source": [
    "Ans13: Benefits of python -\n",
    "1. High level programming language so it has English-like syntax.\n",
    "2. Easy to learn syntax\n",
    "3. Open-source language, dynamically typed."
   ]
  },
  {
   "cell_type": "markdown",
   "id": "c657c3e8-c88b-43b4-b4b6-ca0e42239fe9",
   "metadata": {},
   "source": [
    "Ans14: Memory management in Python involves a private heap containing all Python objects and data structures. The management of this private heap is ensured internally by the Python memory manager."
   ]
  },
  {
   "cell_type": "markdown",
   "id": "4dda1722-1f73-4e1b-9e35-030708c24376",
   "metadata": {},
   "source": [
    "Ans15: Install python from the web on the official site. During the installation wizard tick the option of Add to Path"
   ]
  },
  {
   "cell_type": "markdown",
   "id": "3d126fa8-dfd8-4008-9d3e-eab02a6a0ea9",
   "metadata": {},
   "source": [
    "Ans16: When defining a block of code indentations are necessary"
   ]
  }
 ],
 "metadata": {
  "kernelspec": {
   "display_name": "Python 3 (ipykernel)",
   "language": "python",
   "name": "python3"
  },
  "language_info": {
   "codemirror_mode": {
    "name": "ipython",
    "version": 3
   },
   "file_extension": ".py",
   "mimetype": "text/x-python",
   "name": "python",
   "nbconvert_exporter": "python",
   "pygments_lexer": "ipython3",
   "version": "3.10.8"
  }
 },
 "nbformat": 4,
 "nbformat_minor": 5
}
