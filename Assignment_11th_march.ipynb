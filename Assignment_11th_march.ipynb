{
 "cells": [
  {
   "cell_type": "markdown",
   "id": "b461a843-71ec-4aa6-baec-7de4b4ccd41d",
   "metadata": {},
   "source": [
    "### Question 1\n",
    "\n",
    "T-test and z-test are both statistical tests used for hypothesis testing, but they are applied under different conditions:\n",
    "\n",
    "T-test:\n",
    "1. A t-test is used when the sample size is small (typically less than 30) and the population standard deviation is unknown.\n",
    "2. The t-test assumes that the population follows a normal distribution, but it is more robust to violations of this assumption compared to the z-test.\n",
    "\n",
    "Example Scenario: If you want to compare the average test scores of two groups of students (where the sample sizes are small), you would use a t-test.\n",
    "\n",
    "Z-test:\n",
    "1. A z-test is used when the sample size is large (typically greater than 30) or when the population standard deviation is known.\n",
    "2. The z-test assumes that the population follows a normal distribution and is more sensitive to violations of this assumption compared to the t-test.\n",
    "\n",
    "Example Scenario: If you want to compare the average height of a sample of 100 adults to the known average height of the general population, you would use a z-test."
   ]
  },
  {
   "cell_type": "markdown",
   "id": "7a059666-9ed6-41f0-abd9-ce4c6cdb044f",
   "metadata": {},
   "source": [
    "### Question 2\n",
    "\n",
    "One-tailed test:\n",
    "1. In a one-tailed test, the hypothesis is directional, and we are only interested in whether the sample mean is significantly greater than or less than the hypothesized value (one direction).\n",
    "2. The critical region is only on one side of the distribution (either the left or right tail).\n",
    "\n",
    "Example Scenario: Testing whether a new drug significantly increases the average response time (one-tailed in the positive direction).\n",
    "\n",
    "\n",
    "Two-tailed test:\n",
    "1. In a two-tailed test, the hypothesis is non-directional, and we are interested in whether the sample mean is significantly different from the hypothesized value (both directions).\n",
    "2. The critical region is divided between the two tails of the distribution.\n",
    "\n",
    "Example Scenario: Testing whether a new treatment significantly affects the average weight (two-tailed, as we want to see if it increases or decreases weight)."
   ]
  },
  {
   "cell_type": "markdown",
   "id": "fc224ddd-8285-4089-ac76-b8d20deda5ed",
   "metadata": {},
   "source": [
    "### Question 3\n",
    "\n",
    "Type 1 Error (False Positive):\n",
    "1. Type 1 error occurs when we reject the null hypothesis when it is actually true.\n",
    "2. It is the probability of claiming an effect or relationship exists when it doesn't.\n",
    "\n",
    "Example Scenario: A medical test incorrectly diagnoses a healthy person as having a disease (false positive).\n",
    "\n",
    "Type 2 Error (False Negative):\n",
    "1. Type 2 error occurs when we fail to reject the null hypothesis when it is actually false.\n",
    "2. It is the probability of not detecting an effect or relationship that does exist.\n",
    "\n",
    "Example Scenario: A medical test fails to diagnose a person with a disease when they actually have it (false negative)."
   ]
  },
  {
   "cell_type": "markdown",
   "id": "5e3602f1-da54-4ecb-964a-7e3908cd0954",
   "metadata": {},
   "source": [
    "### Question 4\n",
    "\n",
    "Bayes's Theorem is a mathematical formula that allows us to update the probability of an event based on new evidence. It involves conditional probabilities and can be represented as:\n",
    "\n",
    "P(A|B) = (P(B|A) * P(A)) / P(B)\n",
    "\n",
    "Where:\n",
    "P(A|B) is the probability of event A occurring given that event B has occurred.\n",
    "P(B|A) is the probability of event B occurring given that event A has occurred.\n",
    "P(A) and P(B) are the probabilities of events A and B occurring independently.\n",
    "\n",
    "Example:\n",
    "Suppose there is a medical test for a disease that is 95% accurate (P(Positive Test|Disease) = 0.95) and has a 2% false positive rate (P(Positive Test|No Disease) = 0.02). The prevalence of the disease in the population is 0.01% (P(Disease) = 0.0001)."
   ]
  },
  {
   "cell_type": "markdown",
   "id": "d13fcad2-8974-4dda-9a30-289126dce25c",
   "metadata": {},
   "source": [
    "### Question 5\n",
    "\n",
    "A confidence interval is a range of values that provides an estimated range of a population parameter with a certain level of confidence. It is used in inferential statistics to quantify the uncertainty in a sample estimate.\n",
    "\n",
    "Example:\n",
    "Suppose you want to estimate the average height of students in a school. You take a random sample of 100 students and measure their heights. The sample mean height is 165 cm, and the sample standard deviation is 5 cm.\n",
    "\n",
    "To calculate a 95% confidence interval for the population mean height, you can use the t-distribution (since the population standard deviation is unknown and the sample size is relatively small)."
   ]
  },
  {
   "cell_type": "markdown",
   "id": "ff0f67e1-2efe-4d79-a3ec-7408bcdb8bb4",
   "metadata": {},
   "source": [
    "### Question 6\n",
    "\n",
    "Bayes' Theorem is used to update the probability of an event based on new evidence. Let's consider a simple example:\n",
    "\n",
    "Suppose there is a disease that affects 1% of the population (P(Disease) = 0.01). There is a medical test to detect the disease, and the test is 95% accurate (P(Positive Test|Disease) = 0.95) and has a 2% false positive rate (P(Positive Test|No Disease) = 0.02).\n",
    "\n",
    "Now, let's calculate the probability of having the disease given a positive test result (P(Disease|Positive Test)) using Bayes' Theorem:\n",
    "\n",
    "P(Disease|Positive Test) = (P(Positive Test|Disease) * P(Disease)) / P(Positive Test)\n",
    "\n",
    "P(Disease|Positive Test) = (0.95 * 0.01) / ((0.95 * 0.01) + (0.02 * (1 - 0.01)))\n",
    "\n",
    "P(Disease|Positive Test) = 0.32\n",
    "\n",
    "Interpretation: The probability of having the disease given a positive test result is 32%. This means that if a person receives a positive test result, there is a 32% chance they actually have the disease."
   ]
  },
  {
   "cell_type": "code",
   "execution_count": 4,
   "id": "2049a683-e1bb-4dc0-840a-8c3a6b19715f",
   "metadata": {},
   "outputs": [
    {
     "name": "stdout",
     "output_type": "stream",
     "text": [
      "95% Confidence Interval: (48.13, 51.87)\n"
     ]
    }
   ],
   "source": [
    "# Question 7\n",
    "\n",
    "import scipy.stats as stats\n",
    "\n",
    "sample_mean = 50\n",
    "sample_std_dev = 5\n",
    "sample_size = 30\n",
    "confidence_level = 0.95\n",
    "\n",
    "# Calculate standard error of the mean\n",
    "SE = sample_std_dev / (sample_size ** 0.5)\n",
    "\n",
    "# Calculate critical value for 95% confidence level and 29 degrees of freedom\n",
    "critical_value = stats.t.ppf((1 + confidence_level) / 2, df=sample_size - 1)\n",
    "\n",
    "# Calculate margin of error\n",
    "ME = critical_value * SE\n",
    "\n",
    "# Calculate the confidence interval\n",
    "lower_bound = sample_mean - ME\n",
    "upper_bound = sample_mean + ME\n",
    "\n",
    "print(f\"95% Confidence Interval: ({lower_bound:.2f}, {upper_bound:.2f})\")\n"
   ]
  },
  {
   "cell_type": "code",
   "execution_count": 6,
   "id": "e4dc35df-d445-43de-857c-c62d1e7bb02a",
   "metadata": {},
   "outputs": [
    {
     "name": "stdout",
     "output_type": "stream",
     "text": [
      "Margin of Error for Sample 1: 0.0218\n",
      "Margin of Error for Sample 2: 0.0436\n"
     ]
    }
   ],
   "source": [
    "# Question 8\n",
    "\"\"\"\n",
    " The margin of error (ME) in a confidence interval is the range within which the true population parameter is estimated to lie with a certain level of confidence. \n",
    " It is a measure of the uncertainty in the estimate based on the sample data. \n",
    " The margin of error is affected by the sample size.\n",
    "\"\"\"\n",
    "\n",
    "import scipy.stats as stats\n",
    "\n",
    "sample_proportion_1 = 0.55\n",
    "sample_size_1 = 2000\n",
    "confidence_level = 0.95\n",
    "\n",
    "# Calculate standard error of the proportion for sample 1\n",
    "SE_1 = (sample_proportion_1 * (1 - sample_proportion_1) / sample_size_1) ** 0.5\n",
    "\n",
    "# Calculate critical value for 95% confidence level\n",
    "critical_value = stats.norm.ppf((1 + confidence_level) / 2)\n",
    "\n",
    "# Calculate margin of error for sample 1\n",
    "ME_1 = critical_value * SE_1\n",
    "\n",
    "sample_proportion_2 = 0.55\n",
    "sample_size_2 = 500\n",
    "\n",
    "# Calculate standard error of the proportion for sample 2\n",
    "SE_2 = (sample_proportion_2 * (1 - sample_proportion_2) / sample_size_2) ** 0.5\n",
    "\n",
    "# Calculate margin of error for sample 2\n",
    "ME_2 = critical_value * SE_2\n",
    "\n",
    "print(f\"Margin of Error for Sample 1: {ME_1:.4f}\")\n",
    "print(f\"Margin of Error for Sample 2: {ME_2:.4f}\")\n"
   ]
  },
  {
   "cell_type": "code",
   "execution_count": 7,
   "id": "b97a1056-5d86-49a5-857b-d8b0705ca1fb",
   "metadata": {},
   "outputs": [
    {
     "name": "stdout",
     "output_type": "stream",
     "text": [
      "The z-score for the data point is: 1.00\n"
     ]
    }
   ],
   "source": [
    "# Question 9\n",
    "\n",
    "x = 75\n",
    "population_mean = 70\n",
    "population_std_dev = 5\n",
    "\n",
    "z_score = (x - population_mean) / population_std_dev\n",
    "print(f\"The z-score for the data point is: {z_score:.2f}\")\n"
   ]
  },
  {
   "cell_type": "code",
   "execution_count": 13,
   "id": "bf1fead1-5f63-4697-8688-7545da579c8a",
   "metadata": {},
   "outputs": [
    {
     "name": "stdout",
     "output_type": "stream",
     "text": [
      "The weight loss drug is significantly effective at a 95% confidence level.\n"
     ]
    }
   ],
   "source": [
    "# Question 10\n",
    "\n",
    "import scipy.stats as stats\n",
    "\n",
    "sample_mean = 6\n",
    "sample_std_dev = 2.5\n",
    "sample_size = 50\n",
    "confidence_level = 0.95\n",
    "\n",
    "# Calculate the standard error of the mean\n",
    "SE = sample_std_dev / (sample_size ** 0.5)\n",
    "\n",
    "# Calculate the t-score\n",
    "t_score = (sample_mean - 0) / SE\n",
    "\n",
    "# Find the critical t-value\n",
    "critical_t = stats.t.ppf((1 + confidence_level) / 2, df=sample_size - 1)\n",
    "\n",
    "# Make a decision\n",
    "if abs(t_score) > critical_t:\n",
    "    print(\"The weight loss drug is significantly effective at a 95% confidence level.\")\n",
    "else:\n",
    "    print(\"There is no significant evidence that the weight loss drug is effective at a 95% confidence level.\")"
   ]
  },
  {
   "cell_type": "code",
   "execution_count": 14,
   "id": "616ecafc-48a6-497f-9396-29737c54b44f",
   "metadata": {},
   "outputs": [
    {
     "name": "stdout",
     "output_type": "stream",
     "text": [
      "The 95% confidence interval for the proportion of people satisfied with their job is (0.6082, 0.6918)\n"
     ]
    }
   ],
   "source": [
    "# Question 11\n",
    "\n",
    "import scipy.stats as stats\n",
    "\n",
    "sample_size = 500\n",
    "proportion_satisfied = 0.65\n",
    "confidence_level = 0.95\n",
    "\n",
    "# Calculate the standard error of the proportion\n",
    "SE = (proportion_satisfied * (1 - proportion_satisfied) / sample_size) ** 0.5\n",
    "\n",
    "# Find the critical z-value\n",
    "critical_z = stats.norm.ppf((1 + confidence_level) / 2)\n",
    "\n",
    "# Calculate the confidence interval\n",
    "lower_bound = proportion_satisfied - critical_z * SE\n",
    "upper_bound = proportion_satisfied + critical_z * SE\n",
    "\n",
    "print(f\"The 95% confidence interval for the proportion of people satisfied with their job is \"\n",
    "      f\"({lower_bound:.4f}, {upper_bound:.4f})\")\n"
   ]
  },
  {
   "cell_type": "code",
   "execution_count": 15,
   "id": "ee2e045b-82d0-4c5f-acf4-2ad0ac01fa68",
   "metadata": {},
   "outputs": [
    {
     "name": "stdout",
     "output_type": "stream",
     "text": [
      "There is no significant difference in student performance between the two teaching methods at a 99% confidence level.\n"
     ]
    }
   ],
   "source": [
    "# Question 12\n",
    "\n",
    "import scipy.stats as stats\n",
    "\n",
    "sample_mean_A = 85\n",
    "sample_std_dev_A = 6\n",
    "sample_size_A = 30\n",
    "\n",
    "sample_mean_B = 82\n",
    "sample_std_dev_B = 5\n",
    "sample_size_B = 30\n",
    "\n",
    "confidence_level = 0.99\n",
    "\n",
    "# Calculate pooled standard deviation\n",
    "pooled_std_dev = ((sample_std_dev_A ** 2 + sample_std_dev_B ** 2) / 2) ** 0.5\n",
    "\n",
    "# Calculate the standard error of the difference in means\n",
    "SE_diff = pooled_std_dev * ((1 / sample_size_A) + (1 / sample_size_B)) ** 0.5\n",
    "\n",
    "# Calculate the t-score\n",
    "t_score = ((sample_mean_A - sample_mean_B) - 0) / SE_diff\n",
    "\n",
    "# Find the critical t-value\n",
    "critical_t = stats.t.ppf((1 + confidence_level) / 2, df=sample_size_A + sample_size_B - 2)\n",
    "\n",
    "# Make a decision\n",
    "if abs(t_score) > critical_t:\n",
    "    print(\"There is a significant difference in student performance between the two teaching methods \"\n",
    "          \"at a 99% confidence level.\")\n",
    "else:\n",
    "    print(\"There is no significant difference in student performance between the two teaching methods \"\n",
    "          \"at a 99% confidence level.\")\n"
   ]
  },
  {
   "cell_type": "code",
   "execution_count": 16,
   "id": "5da1a9b2-ba90-49bf-bf4e-826d6b2e253b",
   "metadata": {},
   "outputs": [
    {
     "name": "stdout",
     "output_type": "stream",
     "text": [
      "The 90% confidence interval for the true population mean is (63.14, 66.86)\n"
     ]
    }
   ],
   "source": [
    "# Question 13\n",
    "\n",
    "import scipy.stats as stats\n",
    "\n",
    "population_mean = 60\n",
    "population_std_dev = 8\n",
    "sample_size = 50\n",
    "sample_mean = 65\n",
    "confidence_level = 0.90\n",
    "\n",
    "# Calculate the standard error of the mean\n",
    "SE = population_std_dev / (sample_size ** 0.5)\n",
    "\n",
    "# Find the critical z-value\n",
    "critical_z = stats.norm.ppf((1 + confidence_level) / 2)\n",
    "\n",
    "# Calculate the confidence interval\n",
    "lower_bound = sample_mean - critical_z * SE\n",
    "upper_bound = sample_mean + critical_z * SE\n",
    "\n",
    "print(f\"The 90% confidence interval for the true population mean is ({lower_bound:.2f}, {upper_bound:.2f})\")\n"
   ]
  },
  {
   "cell_type": "code",
   "execution_count": 17,
   "id": "0d33296a-269e-4842-834b-6be4d494cd3f",
   "metadata": {},
   "outputs": [
    {
     "name": "stdout",
     "output_type": "stream",
     "text": [
      "There is no significant evidence that caffeine has an effect on reaction time at a 90% confidence level.\n"
     ]
    }
   ],
   "source": [
    "# Question 14\n",
    "\n",
    "sample_mean = 0.25\n",
    "sample_std_dev = 0.05\n",
    "sample_size = 30\n",
    "confidence_level = 0.90\n",
    "\n",
    "# Calculate the standard error of the mean\n",
    "SE = sample_std_dev / (sample_size ** 0.5)\n",
    "\n",
    "# Calculate the t-score\n",
    "t_score = (sample_mean - 0.25) / SE\n",
    "\n",
    "# Find the critical t-value\n",
    "critical_t = stats.t.ppf((1 + confidence_level) / 2, df=sample_size - 1)\n",
    "\n",
    "# Make a decision\n",
    "if abs(t_score) > critical_t:\n",
    "    print(\"Caffeine has a significant effect on reaction time at a 90% confidence level.\")\n",
    "else:\n",
    "    print(\"There is no significant evidence that caffeine has an effect on reaction time at a 90% confidence level.\")\n"
   ]
  }
 ],
 "metadata": {
  "kernelspec": {
   "display_name": "Python 3 (ipykernel)",
   "language": "python",
   "name": "python3"
  },
  "language_info": {
   "codemirror_mode": {
    "name": "ipython",
    "version": 3
   },
   "file_extension": ".py",
   "mimetype": "text/x-python",
   "name": "python",
   "nbconvert_exporter": "python",
   "pygments_lexer": "ipython3",
   "version": "3.10.8"
  }
 },
 "nbformat": 4,
 "nbformat_minor": 5
}
