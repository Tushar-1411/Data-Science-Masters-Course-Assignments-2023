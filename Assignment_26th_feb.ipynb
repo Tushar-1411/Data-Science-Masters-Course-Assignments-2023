{
 "cells": [
  {
   "cell_type": "code",
   "execution_count": 11,
   "id": "944a484c-814a-41d7-ab5d-8218fe4a6f74",
   "metadata": {},
   "outputs": [],
   "source": [
    "import numpy as np\n",
    "list_ = ['1' ,'2' ,'3' ,'4' ,'5' ]\n",
    "array_list = np.array(object = list_)"
   ]
  },
  {
   "cell_type": "code",
   "execution_count": 12,
   "id": "8c12c00a-d2c3-442a-bad2-e7893ca12f2e",
   "metadata": {},
   "outputs": [
    {
     "data": {
      "text/plain": [
       "array(['1', '2', '3', '4', '5'], dtype='<U1')"
      ]
     },
     "execution_count": 12,
     "metadata": {},
     "output_type": "execute_result"
    }
   ],
   "source": [
    "array_list"
   ]
  },
  {
   "cell_type": "code",
   "execution_count": 13,
   "id": "0c170283-2b47-4b8c-96fa-f421e1a33f41",
   "metadata": {},
   "outputs": [
    {
     "name": "stdout",
     "output_type": "stream",
     "text": [
      "Type of list : <class 'list'>, type of array_list : <class 'numpy.ndarray'>\n"
     ]
    }
   ],
   "source": [
    "# Question 1\n",
    "\n",
    "\"\"\" Yes the list_ is of type list and array_list is of type numpy array\"\"\"\n",
    "\n",
    "print(f\"Type of list : {type(list_)}, type of array_list : {type(array_list)}\")"
   ]
  },
  {
   "cell_type": "code",
   "execution_count": 14,
   "id": "bd986cc3-5ce7-4ee4-9b6e-4f98fbebf34e",
   "metadata": {},
   "outputs": [
    {
     "name": "stdout",
     "output_type": "stream",
     "text": [
      "<class 'str'> <class 'numpy.str_'>\n"
     ]
    }
   ],
   "source": [
    "# Question 2\n",
    "\n",
    "print(type(list_[0]), type(array_list[0]))"
   ]
  },
  {
   "cell_type": "code",
   "execution_count": 15,
   "id": "0cf9f561-400d-4e41-891e-79c6e0d9b121",
   "metadata": {},
   "outputs": [
    {
     "name": "stdout",
     "output_type": "stream",
     "text": [
      "<class 'str'> <class 'numpy.int64'>\n"
     ]
    }
   ],
   "source": [
    "# Question 3\n",
    "\n",
    "\"\"\" Yes the list_ object has the elements as string and array_list contains integer elements\"\"\"\n",
    "\n",
    "array_list = np.array(object = list_, dtype = int)\n",
    "print(type(list_[0]), type(array_list[0]))"
   ]
  },
  {
   "cell_type": "code",
   "execution_count": 16,
   "id": "eeeb113e-836d-432e-a331-b2e359039609",
   "metadata": {},
   "outputs": [],
   "source": [
    "num_list = [ [ 1 , 2 , 3 ] , [ 4 , 5 , 6 ] ]\n",
    "num_array = np.array(object = num_list)"
   ]
  },
  {
   "cell_type": "code",
   "execution_count": 17,
   "id": "d4f4b0a4-59e3-4c79-bbf7-fb3f47edce9a",
   "metadata": {},
   "outputs": [
    {
     "name": "stdout",
     "output_type": "stream",
     "text": [
      "Shape : (2, 3), Size : 6\n"
     ]
    }
   ],
   "source": [
    "# Question 4\n",
    "\n",
    "print(f\"Shape : {num_array.shape}, Size : {num_array.size}\")"
   ]
  },
  {
   "cell_type": "code",
   "execution_count": 18,
   "id": "daaf52bd-e616-4406-8042-e63ae5b39ba5",
   "metadata": {},
   "outputs": [
    {
     "data": {
      "text/plain": [
       "array([[0., 0., 0.],\n",
       "       [0., 0., 0.],\n",
       "       [0., 0., 0.]])"
      ]
     },
     "execution_count": 18,
     "metadata": {},
     "output_type": "execute_result"
    }
   ],
   "source": [
    "# Question 5\n",
    "\n",
    "np.zeros((3,3))"
   ]
  },
  {
   "cell_type": "code",
   "execution_count": 20,
   "id": "9d497a7d-62c9-4342-a543-3002323817cb",
   "metadata": {},
   "outputs": [
    {
     "data": {
      "text/plain": [
       "array([[1., 0., 0., 0., 0.],\n",
       "       [0., 1., 0., 0., 0.],\n",
       "       [0., 0., 1., 0., 0.],\n",
       "       [0., 0., 0., 1., 0.],\n",
       "       [0., 0., 0., 0., 1.]])"
      ]
     },
     "execution_count": 20,
     "metadata": {},
     "output_type": "execute_result"
    }
   ],
   "source": [
    "# Question 6\n",
    "np.identity(5)"
   ]
  },
  {
   "cell_type": "code",
   "execution_count": null,
   "id": "1887c714-59d7-4f4b-815b-192574691698",
   "metadata": {},
   "outputs": [],
   "source": []
  }
 ],
 "metadata": {
  "kernelspec": {
   "display_name": "Python 3 (ipykernel)",
   "language": "python",
   "name": "python3"
  },
  "language_info": {
   "codemirror_mode": {
    "name": "ipython",
    "version": 3
   },
   "file_extension": ".py",
   "mimetype": "text/x-python",
   "name": "python",
   "nbconvert_exporter": "python",
   "pygments_lexer": "ipython3",
   "version": "3.10.8"
  }
 },
 "nbformat": 4,
 "nbformat_minor": 5
}
