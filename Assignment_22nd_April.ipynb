{
 "cells": [
  {
   "cell_type": "code",
   "execution_count": 5,
   "id": "196c3e47-76e9-4732-9e76-012d43065eea",
   "metadata": {},
   "outputs": [
    {
     "name": "stdout",
     "output_type": "stream",
     "text": [
      "Accuracy: 1.0\n"
     ]
    }
   ],
   "source": [
    "### Question 1\n",
    "\n",
    "from sklearn.model_selection import train_test_split\n",
    "from sklearn.neighbors import KNeighborsClassifier\n",
    "from sklearn.datasets import load_iris\n",
    "from sklearn.metrics import accuracy_score\n",
    "\n",
    "# Load the iris dataset\n",
    "iris = load_iris()\n",
    "X, y = iris.data, iris.target\n",
    "\n",
    "# Split the data into training and testing sets\n",
    "X_train, X_test, y_train, y_test = train_test_split(X, y, test_size=0.2, random_state=42)\n",
    "\n",
    "# Initialize the KNN classifier\n",
    "knn_classifier = KNeighborsClassifier(n_neighbors=3)\n",
    "\n",
    "# Fit the classifier to the training data\n",
    "knn_classifier.fit(X_train, y_train)\n",
    "\n",
    "# Make predictions on the testing set\n",
    "y_pred = knn_classifier.predict(X_test)\n",
    "\n",
    "# Calculate and print the accuracy\n",
    "accuracy = accuracy_score(y_test, y_pred)\n",
    "print(f\"Accuracy: {accuracy}\")\n"
   ]
  },
  {
   "cell_type": "code",
   "execution_count": 10,
   "id": "31aa0def-c154-4ab2-a02a-9698230503ef",
   "metadata": {},
   "outputs": [
    {
     "name": "stdout",
     "output_type": "stream",
     "text": [
      "Mean Squared Error: 21.65955337690632\n"
     ]
    }
   ],
   "source": [
    "### Question 2\n",
    "import pandas as pd\n",
    "import numpy as np\n",
    "from sklearn.model_selection import train_test_split\n",
    "from sklearn.neighbors import KNeighborsRegressor\n",
    "from sklearn.metrics import mean_squared_error\n",
    "\n",
    "# Load the boston dataset\n",
    "data_url = \"http://lib.stat.cmu.edu/datasets/boston\"\n",
    "raw_df = pd.read_csv(data_url, sep=\"\\s+\", skiprows=22, header=None)\n",
    "data = np.hstack([raw_df.values[::2, :], raw_df.values[1::2, :2]])\n",
    "target = raw_df.values[1::2, 2]\n",
    "\n",
    "# Split the data into training and testing sets\n",
    "X_train, X_test, y_train, y_test = train_test_split(data, target, test_size=0.2, random_state=42)\n",
    "\n",
    "# Initialize the KNN regressor\n",
    "knn_regressor = KNeighborsRegressor(n_neighbors=3)\n",
    "\n",
    "# Fit the regressor to the training data\n",
    "knn_regressor.fit(X_train, y_train)\n",
    "\n",
    "# Make predictions on the testing set\n",
    "y_pred = knn_regressor.predict(X_test)\n",
    "\n",
    "# Calculate and print the mean squared error\n",
    "mse = mean_squared_error(y_test, y_pred)\n",
    "print(f\"Mean Squared Error: {mse}\")\n"
   ]
  },
  {
   "cell_type": "code",
   "execution_count": 12,
   "id": "b42086f4-001c-4136-9a58-4d0f79087bec",
   "metadata": {},
   "outputs": [
    {
     "name": "stdout",
     "output_type": "stream",
     "text": [
      "[0.95, 0.95, 0.9583333333333334, 0.95, 0.9416666666666667, 0.9416666666666667, 0.9416666666666667, 0.9333333333333333, 0.9333333333333333, 0.9333333333333333]\n",
      "Optimal K for KNN classifier: 3\n"
     ]
    }
   ],
   "source": [
    "### Question 3\n",
    "\n",
    "from sklearn.model_selection import cross_val_score\n",
    "\n",
    "# Create an empty list to store cross-validation scores\n",
    "cv_scores = []\n",
    "X, y = iris.data, iris.target\n",
    "\n",
    "# Split the data into training and testing sets\n",
    "X_train, X_test, y_train, y_test = train_test_split(X, y, test_size=0.2, random_state=42)\n",
    "\n",
    "# Test K values from 1 to 10\n",
    "for k in range(1, 11):\n",
    "    knn_classifier = KNeighborsClassifier(n_neighbors=k)\n",
    "    scores = cross_val_score(knn_classifier, X_train, y_train, cv=5, scoring='accuracy')\n",
    "    cv_scores.append(scores.mean())\n",
    "\n",
    "# Find the optimal K\n",
    "print(cv_scores)\n",
    "optimal_k = cv_scores.index(max(cv_scores)) + 1\n",
    "print(f\"Optimal K for KNN classifier: {optimal_k}\")\n"
   ]
  },
  {
   "cell_type": "code",
   "execution_count": 13,
   "id": "7d8110ee-ebe8-47b3-87ba-d17abb30dc42",
   "metadata": {},
   "outputs": [
    {
     "name": "stdout",
     "output_type": "stream",
     "text": [
      "Mean Squared Error with Feature Scaling: 19.42652505446623\n"
     ]
    }
   ],
   "source": [
    "### Question 4\n",
    "\n",
    "from sklearn.preprocessing import StandardScaler\n",
    "\n",
    "# Scale the features\n",
    "scaler = StandardScaler()\n",
    "X_scaled = scaler.fit_transform(data)\n",
    "\n",
    "# Split the scaled data into training and testing sets\n",
    "X_train_scaled, X_test_scaled, y_train_scaled, y_test_scaled = train_test_split(X_scaled, target, test_size=0.2, random_state=42)\n",
    "\n",
    "# Initialize the KNN regressor\n",
    "knn_regressor_scaled = KNeighborsRegressor(n_neighbors=3)\n",
    "\n",
    "# Fit the regressor to the scaled training data\n",
    "knn_regressor_scaled.fit(X_train_scaled, y_train_scaled)\n",
    "\n",
    "# Make predictions on the scaled testing set\n",
    "y_pred_scaled = knn_regressor_scaled.predict(X_test_scaled)\n",
    "\n",
    "# Calculate and print the mean squared error for scaled data\n",
    "mse_scaled = mean_squared_error(y_test_scaled, y_pred_scaled)\n",
    "print(f\"Mean Squared Error with Feature Scaling: {mse_scaled}\")\n"
   ]
  },
  {
   "cell_type": "code",
   "execution_count": 18,
   "id": "d227fd48-757b-4e6b-be13-274798fc9965",
   "metadata": {},
   "outputs": [
    {
     "name": "stdout",
     "output_type": "stream",
     "text": [
      "Accuracy with Weighted Voting: 0.9666666666666667\n"
     ]
    }
   ],
   "source": [
    "### Question 5\n",
    "\n",
    "# Load the iris dataset\n",
    "iris = load_iris()\n",
    "X, y = iris.data, iris.target\n",
    "\n",
    "# Split the data into training and testing sets\n",
    "X_train, X_test, y_train, y_test = train_test_split(X, y, test_size=0.2, random_state=42)\n",
    "\n",
    "# Initialize the KNN classifier with weighted voting\n",
    "knn_classifier_weighted = KNeighborsClassifier(n_neighbors=3, weights='distance')\n",
    "\n",
    "\n",
    "### Question 6\n",
    "from sklearn.preprocessing import StandardScaler\n",
    "\n",
    "def standardize_features(X):\n",
    "    scaler = StandardScaler()\n",
    "    X_standardized = scaler.fit_transform(X)\n",
    "    return X_standardized\n",
    "X_train_standardized = standardize_features(X_train)\n",
    "X_test_standardized = standardize_features(X_test)\n",
    "\n",
    "\n",
    "# Fit the classifier to the training data\n",
    "knn_classifier_weighted.fit(X_train_standardized, y_train)\n",
    "\n",
    "# Make predictions on the testing set\n",
    "y_pred_weighted = knn_classifier_weighted.predict(X_test_standardized)\n",
    "\n",
    "# Calculate and print the accuracy with weighted voting\n",
    "accuracy_weighted = accuracy_score(y_test, y_pred_weighted)\n",
    "print(f\"Accuracy with Weighted Voting: {accuracy_weighted}\")\n"
   ]
  },
  {
   "cell_type": "code",
   "execution_count": 16,
   "id": "67d40a63-5373-41e7-9e0c-ebca8c2bf6c9",
   "metadata": {},
   "outputs": [
    {
     "name": "stdout",
     "output_type": "stream",
     "text": [
      "Euclidean Distance: 5.196152422706632\n"
     ]
    }
   ],
   "source": [
    "import numpy as np\n",
    "\n",
    "def euclidean_distance(point1, point2):\n",
    "    return np.sqrt(np.sum((point1 - point2) ** 2))\n",
    "\n",
    "# Example usage:\n",
    "point1 = np.array([1, 2, 3])\n",
    "point2 = np.array([4, 5, 6])\n",
    "distance = euclidean_distance(point1, point2)\n",
    "print(f\"Euclidean Distance: {distance}\")\n"
   ]
  },
  {
   "cell_type": "code",
   "execution_count": 17,
   "id": "ac188cb8-8784-4375-9209-4d85df153eca",
   "metadata": {},
   "outputs": [
    {
     "name": "stdout",
     "output_type": "stream",
     "text": [
      "Manhattan Distance: 9\n"
     ]
    }
   ],
   "source": [
    "def manhattan_distance(point1, point2):\n",
    "    return np.sum(np.abs(point1 - point2))\n",
    "\n",
    "# Example usage:\n",
    "distance_manhattan = manhattan_distance(point1, point2)\n",
    "print(f\"Manhattan Distance: {distance_manhattan}\")\n"
   ]
  },
  {
   "cell_type": "code",
   "execution_count": null,
   "id": "03e99772-5098-4455-a9fe-f6b5ed26f087",
   "metadata": {},
   "outputs": [],
   "source": []
  }
 ],
 "metadata": {
  "kernelspec": {
   "display_name": "Python 3 (ipykernel)",
   "language": "python",
   "name": "python3"
  },
  "language_info": {
   "codemirror_mode": {
    "name": "ipython",
    "version": 3
   },
   "file_extension": ".py",
   "mimetype": "text/x-python",
   "name": "python",
   "nbconvert_exporter": "python",
   "pygments_lexer": "ipython3",
   "version": "3.10.8"
  }
 },
 "nbformat": 4,
 "nbformat_minor": 5
}
