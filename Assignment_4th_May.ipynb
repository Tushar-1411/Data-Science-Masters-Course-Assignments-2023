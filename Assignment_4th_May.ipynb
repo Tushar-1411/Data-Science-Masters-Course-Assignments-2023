{
 "cells": [
  {
   "cell_type": "markdown",
   "id": "a177261f-77f7-45ba-ba2c-9fa4c709df6c",
   "metadata": {},
   "source": [
    "1. **Time Series Definition and Applications:**\n",
    "   - A time series is a sequence of data points collected or recorded over time. Common applications include stock market analysis, weather forecasting, economic forecasting, and signal processing.\n",
    "\n",
    "2. **Common Time Series Patterns:**\n",
    "   - Patterns include trends, seasonality, and cycles. Trends represent long-term movements, seasonality repeats at fixed intervals, and cycles involve repeating up and down fluctuations. Identifying and interpreting these patterns aids in understanding data behavior.\n",
    "\n",
    "3. **Time Series Data Preprocessing:**\n",
    "   - Preprocessing involves handling missing values, dealing with outliers, and ensuring a consistent time interval between observations. Techniques like interpolation, smoothing, or resampling can be applied.\n",
    "\n",
    "4. **Business Decision-making with Time Series Forecasting:**\n",
    "   - Time series forecasting in business aids in predicting future trends, demand, or stock prices. Challenges include sensitivity to outliers and the difficulty of capturing sudden, unexpected changes.\n",
    "\n",
    "5. **ARIMA Modelling for Time Series Forecasting:**\n",
    "   - ARIMA (AutoRegressive Integrated Moving Average) is a popular model for time series forecasting. It combines autoregression, differencing, and moving averages. It's effective for stationary data.\n",
    "\n",
    "6. **ACF and PACF in ARIMA Models:**\n",
    "   - ACF and PACF plots help identify the order of ARIMA models by showing correlations between time series observations at different lags. Peaks or cutoffs in these plots guide the choice of model parameters.\n",
    "\n",
    "7. **Assumptions of ARIMA Models:**\n",
    "   - Assumptions include stationarity, independence of residuals, and normal distribution of residuals. These assumptions can be tested through statistical tests and diagnostic checks.\n",
    "\n",
    "8. **Choosing Time Series Model for Sales Forecasting:**\n",
    "   - For monthly sales data, a Seasonal ARIMA (SARIMA) model might be suitable due to potential seasonality. This model considers both the autoregressive and seasonal components.\n",
    "\n",
    "9. **Limitations of Time Series Analysis:**\n",
    "   - Time series analysis assumes historical patterns will continue, making it less effective for predicting abrupt changes or events with no historical precedent.\n",
    "\n",
    "10. **Stationary vs. Non-stationary Time Series:**\n",
    "    - A stationary time series has a constant mean and variance over time. Non-stationary series exhibit trends or seasonality. Stationarity is crucial for accurate forecasting with models like ARIMA."
   ]
  },
  {
   "cell_type": "code",
   "execution_count": null,
   "id": "1b254c29-4708-477a-9d94-733de8c9c97d",
   "metadata": {},
   "outputs": [],
   "source": []
  }
 ],
 "metadata": {
  "kernelspec": {
   "display_name": "Python 3 (ipykernel)",
   "language": "python",
   "name": "python3"
  },
  "language_info": {
   "codemirror_mode": {
    "name": "ipython",
    "version": 3
   },
   "file_extension": ".py",
   "mimetype": "text/x-python",
   "name": "python",
   "nbconvert_exporter": "python",
   "pygments_lexer": "ipython3",
   "version": "3.10.8"
  }
 },
 "nbformat": 4,
 "nbformat_minor": 5
}
