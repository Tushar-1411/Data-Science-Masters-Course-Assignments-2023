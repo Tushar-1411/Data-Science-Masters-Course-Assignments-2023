{
 "cells": [
  {
   "cell_type": "markdown",
   "id": "1bce3c67-87b0-4429-88f1-83bff68d2c60",
   "metadata": {},
   "source": [
    "Q1. **Types of Clustering Algorithms:**\n",
    "   - **Hierarchical Clustering:** Forms a tree of clusters. Agglomerative starts with individual data points as clusters and merges them, while divisive starts with one cluster and splits.\n",
    "   - **K-Means Clustering:** Divides data into k clusters based on similarity.\n",
    "   - **Density-Based Clustering (DBSCAN):** Groups together data points that are close to each other and have a sufficient number of nearby neighbors.\n",
    "\n",
    "\n",
    "Q2. **K-Means Clustering:**\n",
    "   - **How it works:** Divides data into k clusters where each data point belongs to the cluster with the nearest mean.\n",
    "   - **Algorithm:**\n",
    "     1. Randomly initialize k centroids.\n",
    "     2. Assign each data point to the nearest centroid.\n",
    "     3. Recalculate the centroids based on the assigned points.\n",
    "     4. Repeat steps 2 and 3 until convergence.\n",
    "\n",
    "Q3. **Advantages and Limitations of K-Means:**\n",
    "   - **Advantages:**\n",
    "     - Simple and computationally efficient.\n",
    "     - Works well with large datasets.\n",
    "   - **Limitations:**\n",
    "     - Sensitive to initial centroid placement.\n",
    "     - Assumes clusters are spherical and equally sized.\n",
    "\n",
    "Q4. **Determining Optimal Number of Clusters:**\n",
    "   - **Elbow Method:** Plotting the variance explained as a function of the number of clusters and looking for an \"elbow\" point.\n",
    "   - **Silhouette Method:** Measures how similar an object is to its cluster compared to other clusters.\n",
    "\n",
    "Q5. **Applications of K-Means:**\n",
    "   - Image segmentation.\n",
    "   - Customer segmentation in marketing.\n",
    "   - Anomaly detection in cybersecurity.\n",
    "   - Document clustering in natural language processing.\n",
    "\n",
    "Q6. **Interpreting K-Means Output:**\n",
    "   - Each cluster represents a group of similar data points.\n",
    "   - Centroids are representative of the cluster.\n",
    "\n",
    "Q7. **Challenges in K-Means Clustering:**\n",
    "   - Sensitivity to initial centroids.\n",
    "   - Difficulty handling clusters of different sizes and densities.\n",
    "   - Works poorly with non-spherical clusters.\n"
   ]
  },
  {
   "cell_type": "code",
   "execution_count": null,
   "id": "17d32539-158e-4149-a5c4-da913e32fa10",
   "metadata": {},
   "outputs": [],
   "source": []
  }
 ],
 "metadata": {
  "kernelspec": {
   "display_name": "Python 3 (ipykernel)",
   "language": "python",
   "name": "python3"
  },
  "language_info": {
   "codemirror_mode": {
    "name": "ipython",
    "version": 3
   },
   "file_extension": ".py",
   "mimetype": "text/x-python",
   "name": "python",
   "nbconvert_exporter": "python",
   "pygments_lexer": "ipython3",
   "version": "3.10.8"
  }
 },
 "nbformat": 4,
 "nbformat_minor": 5
}
