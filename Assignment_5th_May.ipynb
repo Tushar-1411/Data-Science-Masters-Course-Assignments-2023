{
 "cells": [
  {
   "cell_type": "markdown",
   "id": "fc707fb0-61dc-444b-8a22-e9f013828233",
   "metadata": {},
   "source": [
    "1. **Time-Dependent Seasonal Components:**\n",
    "   - Time-dependent seasonal components refer to variations in a time series that occur periodically but change with time. Unlike fixed seasonality, these components evolve, reflecting dynamic patterns.\n",
    "\n",
    "2. **Identification of Time-Dependent Seasonal Components:**\n",
    "   - Time-dependent seasonal components can be identified by visual inspection of the data, particularly when seasonality changes over time. Analytical tools like seasonal decomposition of time series (STL decomposition) can also help in detection.\n",
    "\n",
    "3. **Factors Influencing Time-Dependent Seasonal Components:**\n",
    "   - Factors include external events, economic changes, or shifts in consumer behavior. For example, holiday season patterns might evolve due to changes in cultural practices or economic conditions.\n",
    "\n",
    "4. **Use of Autoregression Models in Time Series Analysis:**\n",
    "   - Autoregression models (AR) capture the relationship between an observation and several past observations. AR models are used to represent the auto-correlation within a time series.\n",
    "\n",
    "5. **Making Predictions with Autoregression Models:**\n",
    "   - Predictions with AR models involve using past observations to forecast future values. The model's order determines how many past observations are considered in the prediction.\n",
    "\n",
    "6. **Moving Average (MA) Model:**\n",
    "   - A Moving Average model (MA) focuses on modeling the relationship between an observation and a residual error from a moving average process. It is distinct from AR models and is used to capture short-term fluctuations.\n",
    "\n",
    "7. **Mixed ARMA Model:**\n",
    "   - A Mixed Autoregressive Moving Average (ARMA) model combines autoregressive and moving average components. ARMA models are effective when a time series exhibits both short-term correlations (modeled by AR) and dependence on past errors (modeled by MA)."
   ]
  },
  {
   "cell_type": "code",
   "execution_count": null,
   "id": "d5a10cf2-21d6-4f54-bc19-2e0aaff15465",
   "metadata": {},
   "outputs": [],
   "source": []
  }
 ],
 "metadata": {
  "kernelspec": {
   "display_name": "Python 3 (ipykernel)",
   "language": "python",
   "name": "python3"
  },
  "language_info": {
   "codemirror_mode": {
    "name": "ipython",
    "version": 3
   },
   "file_extension": ".py",
   "mimetype": "text/x-python",
   "name": "python",
   "nbconvert_exporter": "python",
   "pygments_lexer": "ipython3",
   "version": "3.10.8"
  }
 },
 "nbformat": 4,
 "nbformat_minor": 5
}
